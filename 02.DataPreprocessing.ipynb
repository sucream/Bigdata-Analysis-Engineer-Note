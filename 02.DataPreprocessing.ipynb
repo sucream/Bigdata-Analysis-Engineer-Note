{
 "cells": [
  {
   "cell_type": "markdown",
   "id": "b17ba3a0",
   "metadata": {},
   "source": [
    "# 단변량 데이터 탐색\n",
    "- 각 데이터를 따로 탐색해 보자"
   ]
  },
  {
   "cell_type": "code",
   "execution_count": 1,
   "id": "7760f3c6",
   "metadata": {},
   "outputs": [
    {
     "name": "stdout",
     "output_type": "stream",
     "text": [
      "<class 'pandas.core.frame.DataFrame'>\n",
      "RangeIndex: 209 entries, 0 to 208\n",
      "Data columns (total 4 columns):\n",
      " #   Column    Non-Null Count  Dtype  \n",
      "---  ------    --------------  -----  \n",
      " 0   salary    209 non-null    int64  \n",
      " 1   sales     209 non-null    float64\n",
      " 2   roe       209 non-null    float64\n",
      " 3   industry  209 non-null    int64  \n",
      "dtypes: float64(2), int64(2)\n",
      "memory usage: 6.7 KB\n"
     ]
    }
   ],
   "source": [
    "import pandas as pd\n",
    "data = pd.read_csv('data/Ex_CEOSalary.csv')\n",
    "data.info()"
   ]
  },
  {
   "cell_type": "code",
   "execution_count": 2,
   "id": "e8b563ae",
   "metadata": {},
   "outputs": [
    {
     "data": {
      "text/html": [
       "<div>\n",
       "<style scoped>\n",
       "    .dataframe tbody tr th:only-of-type {\n",
       "        vertical-align: middle;\n",
       "    }\n",
       "\n",
       "    .dataframe tbody tr th {\n",
       "        vertical-align: top;\n",
       "    }\n",
       "\n",
       "    .dataframe thead th {\n",
       "        text-align: right;\n",
       "    }\n",
       "</style>\n",
       "<table border=\"1\" class=\"dataframe\">\n",
       "  <thead>\n",
       "    <tr style=\"text-align: right;\">\n",
       "      <th></th>\n",
       "      <th>salary</th>\n",
       "      <th>sales</th>\n",
       "      <th>roe</th>\n",
       "      <th>industry</th>\n",
       "    </tr>\n",
       "  </thead>\n",
       "  <tbody>\n",
       "    <tr>\n",
       "      <th>0</th>\n",
       "      <td>1095</td>\n",
       "      <td>27595.000000</td>\n",
       "      <td>14.1</td>\n",
       "      <td>1</td>\n",
       "    </tr>\n",
       "    <tr>\n",
       "      <th>1</th>\n",
       "      <td>1001</td>\n",
       "      <td>9958.000000</td>\n",
       "      <td>10.9</td>\n",
       "      <td>1</td>\n",
       "    </tr>\n",
       "    <tr>\n",
       "      <th>2</th>\n",
       "      <td>1122</td>\n",
       "      <td>6125.899902</td>\n",
       "      <td>23.5</td>\n",
       "      <td>1</td>\n",
       "    </tr>\n",
       "    <tr>\n",
       "      <th>3</th>\n",
       "      <td>578</td>\n",
       "      <td>16246.000000</td>\n",
       "      <td>5.9</td>\n",
       "      <td>1</td>\n",
       "    </tr>\n",
       "    <tr>\n",
       "      <th>4</th>\n",
       "      <td>1368</td>\n",
       "      <td>21783.199219</td>\n",
       "      <td>13.8</td>\n",
       "      <td>1</td>\n",
       "    </tr>\n",
       "  </tbody>\n",
       "</table>\n",
       "</div>"
      ],
      "text/plain": [
       "   salary         sales   roe  industry\n",
       "0    1095  27595.000000  14.1         1\n",
       "1    1001   9958.000000  10.9         1\n",
       "2    1122   6125.899902  23.5         1\n",
       "3     578  16246.000000   5.9         1\n",
       "4    1368  21783.199219  13.8         1"
      ]
     },
     "execution_count": 2,
     "metadata": {},
     "output_type": "execute_result"
    }
   ],
   "source": [
    "data.head()"
   ]
  },
  {
   "cell_type": "markdown",
   "id": "eb50b1fe",
   "metadata": {},
   "source": [
    "## 설명\n",
    "- 기업의 매출(sales)과 수익(roe)이 CEO의 연봉(salary)에 미치는 영향관계를 파악하려는 데이터\n",
    "- sales, roe는 독립변수, salary는 종속변수"
   ]
  },
  {
   "cell_type": "markdown",
   "id": "1c40671f",
   "metadata": {},
   "source": [
    "# 범주형 자료의 탐색\n",
    "- `industry`는 categorical variable이며 산업 유형을 나타냄"
   ]
  },
  {
   "cell_type": "code",
   "execution_count": 3,
   "id": "16ee56ce",
   "metadata": {},
   "outputs": [
    {
     "data": {
      "text/plain": [
       "1    72\n",
       "3    60\n",
       "2    46\n",
       "4    31\n",
       "Name: industry, dtype: int64"
      ]
     },
     "execution_count": 3,
     "metadata": {},
     "output_type": "execute_result"
    }
   ],
   "source": [
    "# value_counts()를 통해서 해당 컬럼의 범주별 빈도를 파악해 보자\n",
    "data['industry'].value_counts()"
   ]
  },
  {
   "cell_type": "code",
   "execution_count": 4,
   "id": "21764a47",
   "metadata": {},
   "outputs": [
    {
     "data": {
      "text/plain": [
       "Service    72\n",
       "Finance    60\n",
       "IT         46\n",
       "Others     31\n",
       "Name: industry, dtype: int64"
      ]
     },
     "execution_count": 4,
     "metadata": {},
     "output_type": "execute_result"
    }
   ],
   "source": [
    "# 산업의 의미를 파악하기 쉽게 replace를 이용하여 의미를 부여해 보자\n",
    "data['industry'] = data['industry'].replace([1,2,3,4], ['Service', 'IT', 'Finance', 'Others'])\n",
    "data['industry'].value_counts()"
   ]
  },
  {
   "cell_type": "markdown",
   "id": "6185b706",
   "metadata": {},
   "source": [
    "### 시각화 해보자\n",
    "- `matplotlib`을 이용하면 시각화가 가능함\n",
    "- jupyter에서 `%matplotlit inline` 명령을 입력하면 주피터에서 결과를 바로 확인할 수 있음"
   ]
  },
  {
   "cell_type": "code",
   "execution_count": 5,
   "id": "fcd626f4",
   "metadata": {},
   "outputs": [
    {
     "data": {
      "text/plain": [
       "<AxesSubplot:ylabel='industry'>"
      ]
     },
     "execution_count": 5,
     "metadata": {},
     "output_type": "execute_result"
    },
    {
     "data": {
      "image/png": "[encoded data removed]",
      "text/plain": [
       "<Figure size 432x288 with 1 Axes>"
      ]
     },
     "metadata": {},
     "output_type": "display_data"
    }
   ],
   "source": [
    "%matplotlib inline\n",
    "data['industry'].value_counts().plot(kind=\"pie\")  # kind를 bar, line 등으로 변경하면 표의 모양이 바뀜"
   ]
  },
  {
   "cell_type": "code",
   "execution_count": 6,
   "id": "f67970da",
   "metadata": {},
   "outputs": [
    {
     "data": {
      "text/plain": [
       "<AxesSubplot:>"
      ]
     },
     "execution_count": 6,
     "metadata": {},
     "output_type": "execute_result"
    },
    {
     "data": {
      "image/png": "[encoded data removed]",
      "text/plain": [
       "<Figure size 432x288 with 1 Axes>"
      ]
     },
     "metadata": {
      "needs_background": "light"
     },
     "output_type": "display_data"
    }
   ],
   "source": [
    "data['industry'].value_counts().plot(kind=\"bar\")"
   ]
  },
  {
   "cell_type": "markdown",
   "id": "8278cb39",
   "metadata": {},
   "source": [
    "# 연속형 자료의 탐색\n",
    "- numeric/continuos variable은 `describe()`함수를 사용해서 기술통계량(descriptive statistics)를 확인할 수 있음\n",
    "- 변수별 요약 통계량 확인이 가능하고 이를 통해 필요한 정보를 쉽게 얻을 수 있음\n",
    "\n",
    "## 주목할만한 항목\n",
    "\n",
    "### `mean(평균)`과 `50%,median(중위수)`의 차이\n",
    "- 평균과 중위수가 일치할 수록 이상치가 적은 데이터를 의미함, 차이가 크면 이상치가 있다는 뜻\n",
    "\n",
    "### `skewness(왜도)`[좌우대칭 확인용]\n",
    "- skewness의 값은 0일 경우 정규분포와 일치하여 좌우가 대칭된 형태임을 알려주는 지표임\n",
    "- skewness의 값이 양수일 경우 => 왼쪽에 자료가 더 많이 분포되어 있고, 오른쪽에 이상치들이 있다는 뜻\n",
    "- skewness의 값이 음수일 경우 => 오른쪽에 자료가 더 많이 분포되어 있고, 왼쪽에 이상치들이 있다는 뜻\n",
    "- skewness의 값이 2를 넘으면 한쪽으로 치우쳐져 있다는 의미로 해석 가능\n",
    "\n",
    "### `kurtosis(첨도)`[중심쏠림 확인용]\n",
    "- kurtosis의 값은 0일 경우 정규분포의 높이와 동일함\n",
    "- kurtosis의 값이 클수록 중심에 자료가 많이 몰료있다는 의미"
   ]
  },
  {
   "cell_type": "code",
   "execution_count": 7,
   "id": "beb07196",
   "metadata": {},
   "outputs": [
    {
     "data": {
      "text/html": [
       "<div>\n",
       "<style scoped>\n",
       "    .dataframe tbody tr th:only-of-type {\n",
       "        vertical-align: middle;\n",
       "    }\n",
       "\n",
       "    .dataframe tbody tr th {\n",
       "        vertical-align: top;\n",
       "    }\n",
       "\n",
       "    .dataframe thead th {\n",
       "        text-align: right;\n",
       "    }\n",
       "</style>\n",
       "<table border=\"1\" class=\"dataframe\">\n",
       "  <thead>\n",
       "    <tr style=\"text-align: right;\">\n",
       "      <th></th>\n",
       "      <th>salary</th>\n",
       "      <th>sales</th>\n",
       "      <th>roe</th>\n",
       "    </tr>\n",
       "  </thead>\n",
       "  <tbody>\n",
       "    <tr>\n",
       "      <th>count</th>\n",
       "      <td>209.000000</td>\n",
       "      <td>209.000000</td>\n",
       "      <td>209.000000</td>\n",
       "    </tr>\n",
       "    <tr>\n",
       "      <th>mean</th>\n",
       "      <td>1281.119617</td>\n",
       "      <td>6923.793282</td>\n",
       "      <td>17.184211</td>\n",
       "    </tr>\n",
       "    <tr>\n",
       "      <th>std</th>\n",
       "      <td>1372.345308</td>\n",
       "      <td>10633.271088</td>\n",
       "      <td>8.518509</td>\n",
       "    </tr>\n",
       "    <tr>\n",
       "      <th>min</th>\n",
       "      <td>223.000000</td>\n",
       "      <td>175.199997</td>\n",
       "      <td>0.500000</td>\n",
       "    </tr>\n",
       "    <tr>\n",
       "      <th>25%</th>\n",
       "      <td>736.000000</td>\n",
       "      <td>2210.300049</td>\n",
       "      <td>12.400000</td>\n",
       "    </tr>\n",
       "    <tr>\n",
       "      <th>50%</th>\n",
       "      <td>1039.000000</td>\n",
       "      <td>3705.199951</td>\n",
       "      <td>15.500000</td>\n",
       "    </tr>\n",
       "    <tr>\n",
       "      <th>75%</th>\n",
       "      <td>1407.000000</td>\n",
       "      <td>7177.000000</td>\n",
       "      <td>20.000000</td>\n",
       "    </tr>\n",
       "    <tr>\n",
       "      <th>max</th>\n",
       "      <td>14822.000000</td>\n",
       "      <td>97649.898438</td>\n",
       "      <td>56.299999</td>\n",
       "    </tr>\n",
       "  </tbody>\n",
       "</table>\n",
       "</div>"
      ],
      "text/plain": [
       "             salary         sales         roe\n",
       "count    209.000000    209.000000  209.000000\n",
       "mean    1281.119617   6923.793282   17.184211\n",
       "std     1372.345308  10633.271088    8.518509\n",
       "min      223.000000    175.199997    0.500000\n",
       "25%      736.000000   2210.300049   12.400000\n",
       "50%     1039.000000   3705.199951   15.500000\n",
       "75%     1407.000000   7177.000000   20.000000\n",
       "max    14822.000000  97649.898438   56.299999"
      ]
     },
     "execution_count": 7,
     "metadata": {},
     "output_type": "execute_result"
    }
   ],
   "source": [
    "# describe() 함수로 기술통계량을 확인 해보자\n",
    "data.describe()"
   ]
  },
  {
   "cell_type": "code",
   "execution_count": 8,
   "id": "21838426",
   "metadata": {
    "scrolled": true
   },
   "outputs": [
    {
     "name": "stderr",
     "output_type": "stream",
     "text": [
      "C:\\Users\\ghdsk\\AppData\\Local\\Temp/ipykernel_23680/1577502703.py:3: FutureWarning: Dropping of nuisance columns in DataFrame reductions (with 'numeric_only=None') is deprecated; in a future version this will raise TypeError.  Select only valid columns before calling the reduction.\n",
      "  data.mean() - data.median()\n",
      "C:\\Users\\ghdsk\\AppData\\Local\\Temp/ipykernel_23680/1577502703.py:3: FutureWarning: Dropping of nuisance columns in DataFrame reductions (with 'numeric_only=None') is deprecated; in a future version this will raise TypeError.  Select only valid columns before calling the reduction.\n",
      "  data.mean() - data.median()\n"
     ]
    },
    {
     "data": {
      "text/plain": [
       "salary     242.119617\n",
       "sales     3218.593331\n",
       "roe          1.684211\n",
       "dtype: float64"
      ]
     },
     "execution_count": 8,
     "metadata": {},
     "output_type": "execute_result"
    }
   ],
   "source": [
    "# 평균과 중위수의 차이를 확인해 보자\n",
    "# 데이터에 NaN이 들어있어서 경고가 나오는 것임, 나중에는 데이터 전처리를 더 빡세게 해서 이런 문제가 생기지 않도록 하자\n",
    "data.mean() - data.median()"
   ]
  },
  {
   "cell_type": "markdown",
   "id": "ffdd2cd0",
   "metadata": {},
   "source": [
    "### 평균과 중위수 차이\n",
    "- roe(수익) 컬럼은 평균과 중위수가 별로 차이나지 않음 => 이상적\n",
    "- salary(연봉)과 sales(매출) 컬럼은 평균과 중위수의 차이가 많이 남 => 이상치가 있음을 예상할 수 있음, 고쳐야 함"
   ]
  },
  {
   "cell_type": "code",
   "execution_count": 9,
   "id": "1fe6dd6a",
   "metadata": {
    "scrolled": true
   },
   "outputs": [
    {
     "name": "stderr",
     "output_type": "stream",
     "text": [
      "C:\\Users\\ghdsk\\AppData\\Local\\Temp/ipykernel_23680/214973551.py:3: FutureWarning: Dropping of nuisance columns in DataFrame reductions (with 'numeric_only=None') is deprecated; in a future version this will raise TypeError.  Select only valid columns before calling the reduction.\n",
      "  data.skew()\n"
     ]
    },
    {
     "data": {
      "text/plain": [
       "salary    6.904577\n",
       "sales     5.035336\n",
       "roe       1.572126\n",
       "dtype: float64"
      ]
     },
     "execution_count": 9,
     "metadata": {},
     "output_type": "execute_result"
    }
   ],
   "source": [
    "# skewness(왜도)를 확인해 보자\n",
    "# 데이터에 NaN이 들어있어서 경고가 나오는 것임, 나중에는 데이터 전처리를 더 빡세게 해서 이런 문제가 생기지 않도록 하자\n",
    "data.skew()"
   ]
  },
  {
   "cell_type": "markdown",
   "id": "1f4f36f0",
   "metadata": {},
   "source": [
    "### skewness(왜도) 확인\n",
    "- roe(수익) 컬럼은 2를 넘지 않음 => 좌우가 어느정도 대칭임을 예상할 수 있음\n",
    "- salary(연봉)과 sales(매출) 컬럼은 2보다 큰 값을 가짐 => 대부분의 데이터는 왼쪽에 몰려있고 오른쪽에 이상치 데이터가 있을 것으로 예상됨"
   ]
  },
  {
   "cell_type": "code",
   "execution_count": 10,
   "id": "d7568209",
   "metadata": {},
   "outputs": [
    {
     "name": "stderr",
     "output_type": "stream",
     "text": [
      "C:\\Users\\ghdsk\\AppData\\Local\\Temp/ipykernel_23680/3614136873.py:3: FutureWarning: Dropping of nuisance columns in DataFrame reductions (with 'numeric_only=None') is deprecated; in a future version this will raise TypeError.  Select only valid columns before calling the reduction.\n",
      "  data.kurtosis()\n"
     ]
    },
    {
     "data": {
      "text/plain": [
       "salary    58.971229\n",
       "sales     33.115193\n",
       "roe        3.797366\n",
       "dtype: float64"
      ]
     },
     "execution_count": 10,
     "metadata": {},
     "output_type": "execute_result"
    }
   ],
   "source": [
    "# kurtosis(첨도)를 확인해 보자\n",
    "# 데이터에 NaN이 들어있어서 경고가 나오는 것임, 나중에는 데이터 전처리를 더 빡세게 해서 이런 문제가 생기지 않도록 하자\n",
    "data.kurtosis()"
   ]
  },
  {
   "cell_type": "markdown",
   "id": "db4b6297",
   "metadata": {},
   "source": [
    "### kurtosis(첨도) 확인\n",
    "- roe(수익) 컬럼은 비교적 낮은 값을 가지기 때문에 정규분포 높이와 유사함을 예상할 수 있음\n",
    "- salary(연봉)과 sales(매출) 컬럼은 큰 값을 가짐 => 대부분의 데이터가 중심에 몰려있음을 예상할 수 있음"
   ]
  },
  {
   "cell_type": "markdown",
   "id": "3985ab05",
   "metadata": {},
   "source": [
    "### 자주 사용하는 기술통계량 함수들\n",
    "\n",
    "| **함수**         | **설명**                       |\n",
    "|----------------|:------------------------------|\n",
    "| count          | NA 값을 제외한 값의 수를 반환           |\n",
    "| describe       | 시리즈 혹은 데이터프레임의 각 열에 대한 기술 통계 |\n",
    "| min, max       | 최소, 최대값                      |\n",
    "| argmin, argmax | 최소, 최대값을 갖고 있는 색인 위치 반환      |\n",
    "| idxmin, idxmax | 최소, 최대값을 갖고 있는 색인의 값 반환      |\n",
    "| quantile       | 0부터 1까지의 분위수 계산              |\n",
    "| sum            | 합                            |\n",
    "| mean           | 평균                           |\n",
    "| median         | 중위값                          |\n",
    "| mad            | 평균값에서 절대 평균편차                |\n",
    "| var            | 표본 분산                        |\n",
    "| std            | 표본 정규분산                      |\n",
    "| skew           | 표본 비대칭도                      |\n",
    "| kurt           | 표본 첨도                        |\n",
    "| cumsum         | 누적 합                         |\n",
    "| cummin, cummax | 누적 최소값, 누적 최대값               |\n",
    "| cumprod        | 누적 곱                         |\n",
    "| diff           | 1차 산술차(시계열 데이터 사용시 유용)       |\n",
    "| pct_change     | 퍼센트 변화율 계산                   |\n",
    "| corr           | 데이터 프레임의 모든 변수 간 상관관계 계산하여 반환|\n",
    "| cov            | 데이터 프레임의 모든 변수 간 공분산을 계산하여 반환|"
   ]
  },
  {
   "cell_type": "markdown",
   "id": "e9b48922",
   "metadata": {},
   "source": [
    "## 연속형 자료의 형태를 파악하기 좋은 Histogram\n",
    "- 히스토그램을 이용하면 정규성 여부, 이상치 존재 여부 등을 시각적으로 쉽게 파악 가능\n",
    "- `데이터셋.hist()` 명령으로 쉽게 확인 가능(matplotlib의 pyplot 이용)\n",
    "- `bins`는 구간너비, `figsize`는 토표의 크기 옵션"
   ]
  },
  {
   "cell_type": "code",
   "execution_count": 11,
   "id": "f783a362",
   "metadata": {},
   "outputs": [
    {
     "data": {
      "text/plain": [
       "array([[<AxesSubplot:title={'center':'salary'}>,\n",
       "        <AxesSubplot:title={'center':'sales'}>],\n",
       "       [<AxesSubplot:title={'center':'roe'}>, <AxesSubplot:>]],\n",
       "      dtype=object)"
      ]
     },
     "execution_count": 11,
     "metadata": {},
     "output_type": "execute_result"
    },
    {
     "data": {
      "image/png": "[encoded data removed]",
      "text/plain": [
       "<Figure size 1440x1080 with 4 Axes>"
      ]
     },
     "metadata": {
      "needs_background": "light"
     },
     "output_type": "display_data"
    }
   ],
   "source": [
    "# 모든 데이터\n",
    "data.hist(bins=50, figsize=(20,15))"
   ]
  },
  {
   "cell_type": "code",
   "execution_count": 12,
   "id": "fcb63570",
   "metadata": {},
   "outputs": [
    {
     "data": {
      "text/plain": [
       "<AxesSubplot:>"
      ]
     },
     "execution_count": 12,
     "metadata": {},
     "output_type": "execute_result"
    },
    {
     "data": {
      "image/png": "[encoded data removed]",
      "text/plain": [
       "<Figure size 1440x1080 with 1 Axes>"
      ]
     },
     "metadata": {
      "needs_background": "light"
     },
     "output_type": "display_data"
    }
   ],
   "source": [
    "# salary만\n",
    "data['salary'].hist(bins=50, figsize=(20,15))"
   ]
  },
  {
   "cell_type": "markdown",
   "id": "3ad404d8",
   "metadata": {},
   "source": [
    "### Salary는 오른쪽에 이상치가 존재하는 것 같다"
   ]
  },
  {
   "cell_type": "code",
   "execution_count": 13,
   "id": "00961be4",
   "metadata": {},
   "outputs": [
    {
     "data": {
      "text/plain": [
       "<AxesSubplot:>"
      ]
     },
     "execution_count": 13,
     "metadata": {},
     "output_type": "execute_result"
    },
    {
     "data": {
      "image/png": "[encoded data removed]",
      "text/plain": [
       "<Figure size 1440x1080 with 1 Axes>"
      ]
     },
     "metadata": {
      "needs_background": "light"
     },
     "output_type": "display_data"
    }
   ],
   "source": [
    "# sales만\n",
    "data['sales'].hist(bins=50, figsize=(20,15))"
   ]
  },
  {
   "cell_type": "markdown",
   "id": "595b1f41",
   "metadata": {},
   "source": [
    "## Sales는 오른쪽에 이상치가 존재하는 것 같다"
   ]
  },
  {
   "cell_type": "code",
   "execution_count": 14,
   "id": "4e90c940",
   "metadata": {},
   "outputs": [
    {
     "data": {
      "text/plain": [
       "<AxesSubplot:>"
      ]
     },
     "execution_count": 14,
     "metadata": {},
     "output_type": "execute_result"
    },
    {
     "data": {
      "image/png": "[encoded data removed]",
      "text/plain": [
       "<Figure size 1440x1080 with 1 Axes>"
      ]
     },
     "metadata": {
      "needs_background": "light"
     },
     "output_type": "display_data"
    }
   ],
   "source": [
    "# roe\n",
    "data['roe'].hist(bins=50, figsize=(20,15))"
   ]
  },
  {
   "cell_type": "markdown",
   "id": "aad94846",
   "metadata": {},
   "source": [
    "## Roe는 비교적 깔끔하다"
   ]
  },
  {
   "cell_type": "markdown",
   "id": "7e3c39f0",
   "metadata": {},
   "source": [
    "---"
   ]
  },
  {
   "cell_type": "markdown",
   "id": "218a077e",
   "metadata": {},
   "source": [
    "# 이변량 데이터 탐색\n",
    "- 두 변수 간의 탐색을 진행해 보자\n",
    "- 회귀 문제인 지도학습의 경우, 선형성 여부를 판단할 수 있는 중요한 과정임\n",
    "- `data.corr()` 명령으로 상관계수를 파악할 수 있음\n",
    "    - 상관계수 수치는 -1~1 사이의 값을 가짐\n",
    "    - 1에 가까울 수록 두 변수가 큰 관련이 있다고 볼 수 있음. 즉, 한 변수의 값이 증가하거나 감소함에 따라 다른 변수의 값도 일관성 있게 변화한다고 볼 수 있음\n",
    "    - -1에 가까울 수록 두 변수는 큰 관련이 없다고 볼 수 있음\n",
    "    "
   ]
  },
  {
   "cell_type": "code",
   "execution_count": 15,
   "id": "71e52f25",
   "metadata": {
    "scrolled": false
   },
   "outputs": [
    {
     "data": {
      "text/html": [
       "<div>\n",
       "<style scoped>\n",
       "    .dataframe tbody tr th:only-of-type {\n",
       "        vertical-align: middle;\n",
       "    }\n",
       "\n",
       "    .dataframe tbody tr th {\n",
       "        vertical-align: top;\n",
       "    }\n",
       "\n",
       "    .dataframe thead th {\n",
       "        text-align: right;\n",
       "    }\n",
       "</style>\n",
       "<table border=\"1\" class=\"dataframe\">\n",
       "  <thead>\n",
       "    <tr style=\"text-align: right;\">\n",
       "      <th></th>\n",
       "      <th>salary</th>\n",
       "      <th>sales</th>\n",
       "      <th>roe</th>\n",
       "    </tr>\n",
       "  </thead>\n",
       "  <tbody>\n",
       "    <tr>\n",
       "      <th>salary</th>\n",
       "      <td>1.000000</td>\n",
       "      <td>0.119869</td>\n",
       "      <td>0.114842</td>\n",
       "    </tr>\n",
       "    <tr>\n",
       "      <th>sales</th>\n",
       "      <td>0.119869</td>\n",
       "      <td>1.000000</td>\n",
       "      <td>-0.055386</td>\n",
       "    </tr>\n",
       "    <tr>\n",
       "      <th>roe</th>\n",
       "      <td>0.114842</td>\n",
       "      <td>-0.055386</td>\n",
       "      <td>1.000000</td>\n",
       "    </tr>\n",
       "  </tbody>\n",
       "</table>\n",
       "</div>"
      ],
      "text/plain": [
       "          salary     sales       roe\n",
       "salary  1.000000  0.119869  0.114842\n",
       "sales   0.119869  1.000000 -0.055386\n",
       "roe     0.114842 -0.055386  1.000000"
      ]
     },
     "execution_count": 15,
     "metadata": {},
     "output_type": "execute_result"
    }
   ],
   "source": [
    "data.corr() # 기본적으로 corr(method='pearson') 이지만 spearman, kendall 방식으로 변경 가능"
   ]
  },
  {
   "cell_type": "markdown",
   "id": "e57837dc",
   "metadata": {},
   "source": [
    "## 상관계수 파악 결과\n",
    "- sales와 salary의 상관계수는 약 0.12로 매우 낮은 편이다\n",
    "- roe와 salary의 상관계수는 약 0.11로 매우 낮은 편이다.\n",
    "- 하지만 본 결과는 이상치 데이터가 존재하는 상태의 상관계수이다.\n",
    "- 이상치를 수정하고 다시 결과를 파악해 보자..."
   ]
  },
  {
   "cell_type": "markdown",
   "id": "023a1e85",
   "metadata": {},
   "source": [
    "## 산점도를 파악하는 scatter\n",
    "- `matplotlic.pyplot`의 `scatter` 함수를 이용하여 두 변수의 산점도를 확인할 수 있음\n",
    "- `plt.scatter(X, Y)` 형태로 사용"
   ]
  },
  {
   "cell_type": "code",
   "execution_count": 16,
   "id": "57fa7725",
   "metadata": {},
   "outputs": [
    {
     "data": {
      "image/png": "[encoded data removed]",
      "text/plain": [
       "<Figure size 432x288 with 1 Axes>"
      ]
     },
     "metadata": {
      "needs_background": "light"
     },
     "output_type": "display_data"
    }
   ],
   "source": [
    "import matplotlib.pyplot as plt\n",
    "plt.title(\"Scatter between sales and salary\")\n",
    "plt.xlabel(\"sales\")\n",
    "plt.ylabel(\"salary\")\n",
    "plt.scatter(data['sales'], data['salary'], alpha=0.5)\n",
    "plt.show()"
   ]
  },
  {
   "cell_type": "markdown",
   "id": "b2141a43",
   "metadata": {},
   "source": [
    "### Scatter between sales and salary 결과\n",
    "- sales와 salary 모두 큰 이상치를 가지고 있어 왜곡이 발생한 것을 확인할 수 있음"
   ]
  },
  {
   "cell_type": "code",
   "execution_count": 17,
   "id": "065ad163",
   "metadata": {},
   "outputs": [
    {
     "data": {
      "image/png": "[encoded data removed]",
      "text/plain": [
       "<Figure size 432x288 with 1 Axes>"
      ]
     },
     "metadata": {
      "needs_background": "light"
     },
     "output_type": "display_data"
    }
   ],
   "source": [
    "import matplotlib.pyplot as plt\n",
    "plt.title(\"Scatter between roe and salary\")\n",
    "plt.xlabel(\"roe\")\n",
    "plt.ylabel(\"salary\")\n",
    "plt.scatter(data['roe'], data['salary'], alpha=0.5)\n",
    "plt.show()"
   ]
  },
  {
   "cell_type": "markdown",
   "id": "f26483bc",
   "metadata": {},
   "source": [
    "### Scatter between roe and salary 결과\n",
    "- roe는 나름 잘 퍼져 있는데 salary가 큰 이상치를 가지고 있어 왜곡이 발생한 것을 확인할 수 있음"
   ]
  },
  {
   "cell_type": "markdown",
   "id": "34349835",
   "metadata": {},
   "source": [
    "## 산업 범주별로 salary의 기술통계를 파악해 보자"
   ]
  },
  {
   "cell_type": "code",
   "execution_count": 18,
   "id": "fd0d09f8",
   "metadata": {},
   "outputs": [
    {
     "data": {
      "text/html": [
       "<div>\n",
       "<style scoped>\n",
       "    .dataframe tbody tr th:only-of-type {\n",
       "        vertical-align: middle;\n",
       "    }\n",
       "\n",
       "    .dataframe tbody tr th {\n",
       "        vertical-align: top;\n",
       "    }\n",
       "\n",
       "    .dataframe thead tr th {\n",
       "        text-align: left;\n",
       "    }\n",
       "\n",
       "    .dataframe thead tr:last-of-type th {\n",
       "        text-align: right;\n",
       "    }\n",
       "</style>\n",
       "<table border=\"1\" class=\"dataframe\">\n",
       "  <thead>\n",
       "    <tr>\n",
       "      <th></th>\n",
       "      <th colspan=\"8\" halign=\"left\">salary</th>\n",
       "    </tr>\n",
       "    <tr>\n",
       "      <th></th>\n",
       "      <th>count</th>\n",
       "      <th>mean</th>\n",
       "      <th>std</th>\n",
       "      <th>min</th>\n",
       "      <th>25%</th>\n",
       "      <th>50%</th>\n",
       "      <th>75%</th>\n",
       "      <th>max</th>\n",
       "    </tr>\n",
       "    <tr>\n",
       "      <th>industry</th>\n",
       "      <th></th>\n",
       "      <th></th>\n",
       "      <th></th>\n",
       "      <th></th>\n",
       "      <th></th>\n",
       "      <th></th>\n",
       "      <th></th>\n",
       "      <th></th>\n",
       "    </tr>\n",
       "  </thead>\n",
       "  <tbody>\n",
       "    <tr>\n",
       "      <th>Finance</th>\n",
       "      <td>60.0</td>\n",
       "      <td>1722.416667</td>\n",
       "      <td>2242.687041</td>\n",
       "      <td>223.0</td>\n",
       "      <td>911.00</td>\n",
       "      <td>1246.0</td>\n",
       "      <td>1643.75</td>\n",
       "      <td>14822.0</td>\n",
       "    </tr>\n",
       "    <tr>\n",
       "      <th>IT</th>\n",
       "      <td>46.0</td>\n",
       "      <td>1344.913043</td>\n",
       "      <td>1002.813128</td>\n",
       "      <td>441.0</td>\n",
       "      <td>884.00</td>\n",
       "      <td>1119.5</td>\n",
       "      <td>1406.00</td>\n",
       "      <td>6640.0</td>\n",
       "    </tr>\n",
       "    <tr>\n",
       "      <th>Others</th>\n",
       "      <td>31.0</td>\n",
       "      <td>627.870968</td>\n",
       "      <td>175.264323</td>\n",
       "      <td>333.0</td>\n",
       "      <td>501.50</td>\n",
       "      <td>607.0</td>\n",
       "      <td>726.00</td>\n",
       "      <td>1100.0</td>\n",
       "    </tr>\n",
       "    <tr>\n",
       "      <th>Service</th>\n",
       "      <td>72.0</td>\n",
       "      <td>1153.875000</td>\n",
       "      <td>563.472032</td>\n",
       "      <td>256.0</td>\n",
       "      <td>811.25</td>\n",
       "      <td>1064.0</td>\n",
       "      <td>1348.50</td>\n",
       "      <td>3844.0</td>\n",
       "    </tr>\n",
       "  </tbody>\n",
       "</table>\n",
       "</div>"
      ],
      "text/plain": [
       "         salary                                                            \\\n",
       "          count         mean          std    min     25%     50%      75%   \n",
       "industry                                                                    \n",
       "Finance    60.0  1722.416667  2242.687041  223.0  911.00  1246.0  1643.75   \n",
       "IT         46.0  1344.913043  1002.813128  441.0  884.00  1119.5  1406.00   \n",
       "Others     31.0   627.870968   175.264323  333.0  501.50   607.0   726.00   \n",
       "Service    72.0  1153.875000   563.472032  256.0  811.25  1064.0  1348.50   \n",
       "\n",
       "                   \n",
       "              max  \n",
       "industry           \n",
       "Finance   14822.0  \n",
       "IT         6640.0  \n",
       "Others     1100.0  \n",
       "Service    3844.0  "
      ]
     },
     "execution_count": 18,
     "metadata": {},
     "output_type": "execute_result"
    }
   ],
   "source": [
    "data.groupby('industry')[['salary']].describe()"
   ]
  },
  {
   "cell_type": "markdown",
   "id": "f24ffb06",
   "metadata": {},
   "source": [
    "### 산업 범주별 salary 결과\n",
    "- Finance의 평균 연봉이 가장 높다!\n",
    "- Others의 평균 연봉이 가장 낮다...\n",
    "- Finance의 mean과 50%가 좀 차이나는 것을 확인할 수 있다!"
   ]
  },
  {
   "cell_type": "markdown",
   "id": "e6e06239",
   "metadata": {},
   "source": [
    "---"
   ]
  },
  {
   "cell_type": "markdown",
   "id": "9c0a2a95",
   "metadata": {},
   "source": [
    "# Outlier(이상치) 처리하기\n",
    "- Delete(제거): 일부 크거나 작은 값을 제거하여 정규성을 맞춤\n",
    "- Transform(변환): 이상치를 제거하지 않고 이상치의 단위가 줄어들도록 log 변환 또는 제곱근 변환 등을 수행"
   ]
  },
  {
   "cell_type": "markdown",
   "id": "976c11fc",
   "metadata": {},
   "source": [
    "## Box-whisker plot(상자수염도표)\n",
    "- 이상치 파악을 시각적으로 보기 위해 사용하는 기법\n",
    "\n",
    "### 그림 이해하는 법\n",
    "1. 데이터에서 각 사분위 수 계산\n",
    "    - Q1: 중앙값을 기준으로 하위 50% 중의 중간값, 전체 데이터 중 하위 25%에 해당하는 값\n",
    "    - Q2: 전체 데이터의 중앙값\n",
    "    - Q3: 중앙값을 기준으로 상위 50% 중의 중간값, 전체 데이터 중 상위 25%에 해당하는 값\n",
    "2. 사분위 수 범위(Interquartile Range, IQR) 구하기\n",
    "    - IQR = Q3 - Q1 # 쉽다!\n",
    "3. 그림 그리기\n",
    "    - Q1을 최저점으로, Q3을 최고점으로 가지는 직사각형을 그린다\n",
    "    - Q2에 해당하는 위치에 가로선을 긋는다\n",
    "    - Q3보다 큰 값 중 1.5 x IQR 값 이내에 있는 최대값에 가로선을 긋는다\n",
    "    - Q1보다 작은 값 중 1.5 x IQR 값 이내에 있는 최소값에 가로선을 긋는다\n",
    "    - 직사각형과 연결되는 선분을 그려준다(이걸 수염이라고 한다!)\n",
    "4. 이상치 그리고 확인하기\n",
    "    - 각 1.5 x IQR 보다 크거나 작은 값은 원으로 해당 위치를 나타내 준다.\n",
    "    - 해당 원들이 이상치이다!!"
   ]
  },
  {
   "cell_type": "code",
   "execution_count": 19,
   "id": "5826f23a",
   "metadata": {},
   "outputs": [
    {
     "data": {
      "text/plain": [
       "BP(ax=<AxesSubplot:>, lines={'whiskers': [<matplotlib.lines.Line2D object at 0x000002D8AE69BDF0>, <matplotlib.lines.Line2D object at 0x000002D8AE69B250>], 'caps': [<matplotlib.lines.Line2D object at 0x000002D8AE6B2A00>, <matplotlib.lines.Line2D object at 0x000002D8AE6B23A0>], 'boxes': [<matplotlib.lines.Line2D object at 0x000002D8AE666490>], 'medians': [<matplotlib.lines.Line2D object at 0x000002D8AE6B2C40>], 'fliers': [<matplotlib.lines.Line2D object at 0x000002D8AE6B2430>], 'means': []})"
      ]
     },
     "execution_count": 19,
     "metadata": {},
     "output_type": "execute_result"
    },
    {
     "data": {
      "image/png": "[encoded data removed]",
      "text/plain": [
       "<Figure size 1440x1080 with 1 Axes>"
      ]
     },
     "metadata": {
      "needs_background": "light"
     },
     "output_type": "display_data"
    }
   ],
   "source": [
    "# salary의 boxplot\n",
    "data.boxplot(column='salary', figsize=(20,15), return_type='both')"
   ]
  },
  {
   "cell_type": "markdown",
   "id": "6b79c077",
   "metadata": {},
   "source": [
    "###  salary의 이상치 확인하기\n",
    "- 지정한 최대값보다 큰 이상치 데이터가 다수 존재하는 것을 확인 가능!"
   ]
  },
  {
   "cell_type": "code",
   "execution_count": 20,
   "id": "bbab3b82",
   "metadata": {},
   "outputs": [
    {
     "data": {
      "text/plain": [
       "BP(ax=<AxesSubplot:>, lines={'whiskers': [<matplotlib.lines.Line2D object at 0x000002D8AE6C4250>, <matplotlib.lines.Line2D object at 0x000002D8AE6C4D00>], 'caps': [<matplotlib.lines.Line2D object at 0x000002D8AE67A070>, <matplotlib.lines.Line2D object at 0x000002D8AE67A400>], 'boxes': [<matplotlib.lines.Line2D object at 0x000002D8AEFC6970>], 'medians': [<matplotlib.lines.Line2D object at 0x000002D8AE67A790>], 'fliers': [<matplotlib.lines.Line2D object at 0x000002D8AE67AB20>], 'means': []})"
      ]
     },
     "execution_count": 20,
     "metadata": {},
     "output_type": "execute_result"
    },
    {
     "data": {
      "image/png": "[encoded data removed]",
      "text/plain": [
       "<Figure size 1440x1080 with 1 Axes>"
      ]
     },
     "metadata": {
      "needs_background": "light"
     },
     "output_type": "display_data"
    }
   ],
   "source": [
    "# sales의 boxplot\n",
    "data.boxplot(column='sales', figsize=(20,15), return_type='both')"
   ]
  },
  {
   "cell_type": "markdown",
   "id": "a39edaca",
   "metadata": {},
   "source": [
    "###  sales의 이상치 확인하기\n",
    "- 지정한 최대값보다 큰 이상치 데이터가 다수 존재하는 것을 확인 가능!"
   ]
  },
  {
   "cell_type": "code",
   "execution_count": 21,
   "id": "d7ee4029",
   "metadata": {},
   "outputs": [
    {
     "data": {
      "text/plain": [
       "BP(ax=<AxesSubplot:>, lines={'whiskers': [<matplotlib.lines.Line2D object at 0x000002D8AEAE5FA0>, <matplotlib.lines.Line2D object at 0x000002D8AEAF5370>], 'caps': [<matplotlib.lines.Line2D object at 0x000002D8AEAF5700>, <matplotlib.lines.Line2D object at 0x000002D8AEAF5A90>], 'boxes': [<matplotlib.lines.Line2D object at 0x000002D8AEAE5C10>], 'medians': [<matplotlib.lines.Line2D object at 0x000002D8AEAF5E20>], 'fliers': [<matplotlib.lines.Line2D object at 0x000002D8AEB021F0>], 'means': []})"
      ]
     },
     "execution_count": 21,
     "metadata": {},
     "output_type": "execute_result"
    },
    {
     "data": {
      "image/png": "[encoded data removed]",
      "text/plain": [
       "<Figure size 1440x1080 with 1 Axes>"
      ]
     },
     "metadata": {
      "needs_background": "light"
     },
     "output_type": "display_data"
    }
   ],
   "source": [
    "# roe의 boxplot\n",
    "data.boxplot(column='roe', figsize=(20,15), return_type='both')"
   ]
  },
  {
   "cell_type": "markdown",
   "id": "a4753c8c",
   "metadata": {},
   "source": [
    "###  roe의 이상치 확인하기\n",
    "- 위에 두 데이터보단 덜 하지만 지정한 최대값보다 큰 이상치 데이터가 어느정도 존재하는 것을 확인 가능!"
   ]
  },
  {
   "cell_type": "markdown",
   "id": "7e85dcab",
   "metadata": {},
   "source": [
    "---"
   ]
  },
  {
   "cell_type": "markdown",
   "id": "c4f64c5b",
   "metadata": {},
   "source": [
    "## Salary 변수의 이상치 처리\n",
    "- 위에서 얘기한 대로 IQR을 이용하여 최대, 최소 범위를 벗어난 데이터를 처리해 보자!"
   ]
  },
  {
   "cell_type": "code",
   "execution_count": 22,
   "id": "cc7613c9",
   "metadata": {},
   "outputs": [
    {
     "data": {
      "text/plain": [
       "1006.5"
      ]
     },
     "execution_count": 22,
     "metadata": {},
     "output_type": "execute_result"
    }
   ],
   "source": [
    "Q1_salary = data['salary'].quantile(q=0.25)  # 백분위로 생각하면 0.25가 아래다! 상위 0.25가 아니다!\n",
    "Q3_salary = data['salary'].quantile(q=0.75)  # 백분위로 생각하면 0.75가 위다! 상위 0.75가 아니다!\n",
    "IQR_salary = Q3_salary-Q1_salary\n",
    "IQR_salary * 1.5  # 유효범위를 지정하기 위해 1.5를 곱해서 사용함"
   ]
  },
  {
   "cell_type": "markdown",
   "id": "7709163b",
   "metadata": {},
   "source": [
    "### salary의 이상치를 제거해 보자!"
   ]
  },
  {
   "cell_type": "code",
   "execution_count": 23,
   "id": "8ecf5834",
   "metadata": {
    "scrolled": false
   },
   "outputs": [
    {
     "data": {
      "text/plain": [
       "<AxesSubplot:>"
      ]
     },
     "execution_count": 23,
     "metadata": {},
     "output_type": "execute_result"
    },
    {
     "data": {
      "image/png": "[encoded data removed]",
      "text/plain": [
       "<Figure size 1080x720 with 1 Axes>"
      ]
     },
     "metadata": {
      "needs_background": "light"
     },
     "output_type": "display_data"
    }
   ],
   "source": [
    "data_IQR = data[(data['salary']<Q3_salary+IQR_salary*1.5) & (data['salary']>Q1_salary-IQR_salary*1.5)]\n",
    "data_IQR['salary'].hist(bins=50, figsize=(15,10))  # bins는 막대기 한개의 범위를 알려주는 것이다, 50단위로 하나씩 막대기가 생긴다!"
   ]
  },
  {
   "cell_type": "markdown",
   "id": "a808bf1c",
   "metadata": {},
   "source": [
    "## 나름 정규분포처럼 생겨졌다!!"
   ]
  },
  {
   "cell_type": "code",
   "execution_count": 24,
   "id": "9ac09a81",
   "metadata": {
    "scrolled": false
   },
   "outputs": [
    {
     "data": {
      "image/png": "[encoded data removed]",
      "text/plain": [
       "<Figure size 1080x360 with 2 Axes>"
      ]
     },
     "metadata": {
      "needs_background": "light"
     },
     "output_type": "display_data"
    }
   ],
   "source": [
    "import matplotlib.pyplot as plt\n",
    "\n",
    "plt.figure(figsize=(15,5))\n",
    "plt.subplot(121)\n",
    "plt.title(\"Salary before outlier\")\n",
    "plt.hist(data['salary'], bins=50)\n",
    "\n",
    "plt.subplot(122)\n",
    "plt.title(\"Salary after outlier\")\n",
    "plt.hist(data_IQR['salary'], bins=50)\n",
    "plt.show()"
   ]
  },
  {
   "cell_type": "markdown",
   "id": "e4806a76",
   "metadata": {},
   "source": [
    "## Salary 이상치 처리 전 후 비교\n",
    "- 확실히 깔끔해 졌다!!"
   ]
  },
  {
   "cell_type": "markdown",
   "id": "85f6aff8",
   "metadata": {},
   "source": [
    "---"
   ]
  },
  {
   "cell_type": "markdown",
   "id": "ac83bfd0",
   "metadata": {},
   "source": [
    "## Sales 변수의 이상치 처리\n",
    "- 위에서 얘기한 대로 IQR을 이용하여 최대, 최소 범위를 벗어난 데이터를 처리해 보자!"
   ]
  },
  {
   "cell_type": "code",
   "execution_count": 25,
   "id": "bfb7230c",
   "metadata": {},
   "outputs": [
    {
     "data": {
      "text/plain": [
       "7450.049926757804"
      ]
     },
     "execution_count": 25,
     "metadata": {},
     "output_type": "execute_result"
    }
   ],
   "source": [
    "Q1_sales = data['sales'].quantile(q=0.25)  # 백분위로 생각하면 0.25가 아래다! 상위 0.25가 아니다!\n",
    "Q3_sales = data['sales'].quantile(q=0.75)  # 백분위로 생각하면 0.75가 위다! 상위 0.75가 아니다!\n",
    "IQR_sales = Q3_sales-Q1_sales\n",
    "IQR_sales * 1.5  # 유효범위를 지정하기 위해 1.5를 곱해서 사용함"
   ]
  },
  {
   "cell_type": "markdown",
   "id": "a3433bf7",
   "metadata": {},
   "source": [
    "### sales의 이상치를 제거해 보자!"
   ]
  },
  {
   "cell_type": "code",
   "execution_count": 26,
   "id": "44054220",
   "metadata": {},
   "outputs": [
    {
     "data": {
      "text/plain": [
       "<AxesSubplot:>"
      ]
     },
     "execution_count": 26,
     "metadata": {},
     "output_type": "execute_result"
    },
    {
     "data": {
      "image/png": "[encoded data removed]",
      "text/plain": [
       "<Figure size 1080x720 with 1 Axes>"
      ]
     },
     "metadata": {
      "needs_background": "light"
     },
     "output_type": "display_data"
    }
   ],
   "source": [
    "data_IQR = data[(data['salary']<Q3_salary+IQR_salary*1.5) & (data['salary']>Q1_salary-IQR_salary*1.5) & (data['sales']<Q3_sales+IQR_sales*1.5) & (data['sales']>Q1_sales-IQR_sales*1.5)]\n",
    "data_IQR['sales'].hist(bins=50, figsize=(15,10))  # bins는 막대기 한개의 범위를 알려주는 것이다, 50단위로 하나씩 막대기가 생긴다!"
   ]
  },
  {
   "cell_type": "markdown",
   "id": "622ba6b1",
   "metadata": {},
   "source": [
    "## 나름 정규분포처럼 생겨졌다!!"
   ]
  },
  {
   "cell_type": "code",
   "execution_count": 27,
   "id": "dcc94473",
   "metadata": {},
   "outputs": [
    {
     "data": {
      "text/plain": [
       "array([[<AxesSubplot:title={'center':'salary'}>,\n",
       "        <AxesSubplot:title={'center':'sales'}>],\n",
       "       [<AxesSubplot:title={'center':'roe'}>, <AxesSubplot:>]],\n",
       "      dtype=object)"
      ]
     },
     "execution_count": 27,
     "metadata": {},
     "output_type": "execute_result"
    },
    {
     "data": {
      "image/png": "[encoded data removed]",
      "text/plain": [
       "<Figure size 1080x720 with 4 Axes>"
      ]
     },
     "metadata": {
      "needs_background": "light"
     },
     "output_type": "display_data"
    }
   ],
   "source": [
    "data_IQR.hist(bins=50, figsize=(15,10))"
   ]
  },
  {
   "cell_type": "code",
   "execution_count": 28,
   "id": "7d6ced12",
   "metadata": {},
   "outputs": [
    {
     "data": {
      "image/png": "[encoded data removed]",
      "text/plain": [
       "<Figure size 1080x360 with 2 Axes>"
      ]
     },
     "metadata": {
      "needs_background": "light"
     },
     "output_type": "display_data"
    }
   ],
   "source": [
    "import matplotlib.pyplot as plt\n",
    "\n",
    "plt.figure(figsize=(15,5))\n",
    "plt.subplot(121)\n",
    "plt.title(\"Sales before outlier\")\n",
    "plt.hist(data['sales'], bins=50)\n",
    "\n",
    "plt.subplot(122)\n",
    "plt.title(\"Sales after outlier\")\n",
    "plt.hist(data_IQR['sales'], bins=50)\n",
    "plt.show()"
   ]
  },
  {
   "cell_type": "markdown",
   "id": "8ae7f3cc",
   "metadata": {},
   "source": [
    "## Sales 이상치 처리 전 후 비교\n",
    "- 확실히 깔끔해 졌다!!"
   ]
  },
  {
   "cell_type": "markdown",
   "id": "102f76a9",
   "metadata": {},
   "source": [
    "## 이상치 제거 후 상관계수를 다시 확인해 보자"
   ]
  },
  {
   "cell_type": "code",
   "execution_count": 29,
   "id": "93e69066",
   "metadata": {},
   "outputs": [
    {
     "data": {
      "text/html": [
       "<div>\n",
       "<style scoped>\n",
       "    .dataframe tbody tr th:only-of-type {\n",
       "        vertical-align: middle;\n",
       "    }\n",
       "\n",
       "    .dataframe tbody tr th {\n",
       "        vertical-align: top;\n",
       "    }\n",
       "\n",
       "    .dataframe thead th {\n",
       "        text-align: right;\n",
       "    }\n",
       "</style>\n",
       "<table border=\"1\" class=\"dataframe\">\n",
       "  <thead>\n",
       "    <tr style=\"text-align: right;\">\n",
       "      <th></th>\n",
       "      <th>salary</th>\n",
       "      <th>sales</th>\n",
       "      <th>roe</th>\n",
       "    </tr>\n",
       "  </thead>\n",
       "  <tbody>\n",
       "    <tr>\n",
       "      <th>salary</th>\n",
       "      <td>1.000000</td>\n",
       "      <td>0.119869</td>\n",
       "      <td>0.114842</td>\n",
       "    </tr>\n",
       "    <tr>\n",
       "      <th>sales</th>\n",
       "      <td>0.119869</td>\n",
       "      <td>1.000000</td>\n",
       "      <td>-0.055386</td>\n",
       "    </tr>\n",
       "    <tr>\n",
       "      <th>roe</th>\n",
       "      <td>0.114842</td>\n",
       "      <td>-0.055386</td>\n",
       "      <td>1.000000</td>\n",
       "    </tr>\n",
       "  </tbody>\n",
       "</table>\n",
       "</div>"
      ],
      "text/plain": [
       "          salary     sales       roe\n",
       "salary  1.000000  0.119869  0.114842\n",
       "sales   0.119869  1.000000 -0.055386\n",
       "roe     0.114842 -0.055386  1.000000"
      ]
     },
     "execution_count": 29,
     "metadata": {},
     "output_type": "execute_result"
    }
   ],
   "source": [
    "data.corr()"
   ]
  },
  {
   "cell_type": "code",
   "execution_count": 30,
   "id": "16960811",
   "metadata": {
    "scrolled": true
   },
   "outputs": [
    {
     "data": {
      "text/html": [
       "<div>\n",
       "<style scoped>\n",
       "    .dataframe tbody tr th:only-of-type {\n",
       "        vertical-align: middle;\n",
       "    }\n",
       "\n",
       "    .dataframe tbody tr th {\n",
       "        vertical-align: top;\n",
       "    }\n",
       "\n",
       "    .dataframe thead th {\n",
       "        text-align: right;\n",
       "    }\n",
       "</style>\n",
       "<table border=\"1\" class=\"dataframe\">\n",
       "  <thead>\n",
       "    <tr style=\"text-align: right;\">\n",
       "      <th></th>\n",
       "      <th>salary</th>\n",
       "      <th>sales</th>\n",
       "      <th>roe</th>\n",
       "    </tr>\n",
       "  </thead>\n",
       "  <tbody>\n",
       "    <tr>\n",
       "      <th>salary</th>\n",
       "      <td>1.000000</td>\n",
       "      <td>0.471278</td>\n",
       "      <td>0.299153</td>\n",
       "    </tr>\n",
       "    <tr>\n",
       "      <th>sales</th>\n",
       "      <td>0.471278</td>\n",
       "      <td>1.000000</td>\n",
       "      <td>-0.076046</td>\n",
       "    </tr>\n",
       "    <tr>\n",
       "      <th>roe</th>\n",
       "      <td>0.299153</td>\n",
       "      <td>-0.076046</td>\n",
       "      <td>1.000000</td>\n",
       "    </tr>\n",
       "  </tbody>\n",
       "</table>\n",
       "</div>"
      ],
      "text/plain": [
       "          salary     sales       roe\n",
       "salary  1.000000  0.471278  0.299153\n",
       "sales   0.471278  1.000000 -0.076046\n",
       "roe     0.299153 -0.076046  1.000000"
      ]
     },
     "execution_count": 30,
     "metadata": {},
     "output_type": "execute_result"
    }
   ],
   "source": [
    "data_IQR.corr()"
   ]
  },
  {
   "cell_type": "markdown",
   "id": "cfe5a360",
   "metadata": {},
   "source": [
    "### 상관계수 변화 확인\n",
    "- sales와 salary의 상관계수는 약 0.12 => 약 0.47로 많이 높아졌다!\n",
    "- roe와 salary의 상관계수는 약 0.11 => 약 0.3으로 많이 높아졌다!"
   ]
  },
  {
   "cell_type": "markdown",
   "id": "8277c615",
   "metadata": {},
   "source": [
    "---"
   ]
  },
  {
   "cell_type": "markdown",
   "id": "2743f4b2",
   "metadata": {},
   "source": [
    "# 변수 변환\n",
    "- 이상치를 제거하지 않고 데이터를 변환하여 이상치 문제를 해결해 보자\n",
    "- 원 데이터에 log를 취하는 log 변환, 제곱근을 취하는 제곱근 변환이 일반적임\n",
    "- 원리는 데이터의 단위를 줄여서 큰 값이 주는 영향을 줄이는 것임\n",
    "- 하지만 데이터의 단위가 변하기 때문에 해석이 어려워질 수 있음"
   ]
  },
  {
   "cell_type": "markdown",
   "id": "920959a2",
   "metadata": {},
   "source": [
    "## Log 변환\n",
    "- `np.log(df['변수명'])`으로 사용"
   ]
  },
  {
   "cell_type": "code",
   "execution_count": 31,
   "id": "fe852500",
   "metadata": {},
   "outputs": [
    {
     "data": {
      "text/html": [
       "<div>\n",
       "<style scoped>\n",
       "    .dataframe tbody tr th:only-of-type {\n",
       "        vertical-align: middle;\n",
       "    }\n",
       "\n",
       "    .dataframe tbody tr th {\n",
       "        vertical-align: top;\n",
       "    }\n",
       "\n",
       "    .dataframe thead th {\n",
       "        text-align: right;\n",
       "    }\n",
       "</style>\n",
       "<table border=\"1\" class=\"dataframe\">\n",
       "  <thead>\n",
       "    <tr style=\"text-align: right;\">\n",
       "      <th></th>\n",
       "      <th>salary</th>\n",
       "      <th>sales</th>\n",
       "      <th>roe</th>\n",
       "      <th>industry</th>\n",
       "      <th>log_salary</th>\n",
       "      <th>log_sales</th>\n",
       "      <th>log_roe</th>\n",
       "    </tr>\n",
       "  </thead>\n",
       "  <tbody>\n",
       "    <tr>\n",
       "      <th>0</th>\n",
       "      <td>1095</td>\n",
       "      <td>27595.000000</td>\n",
       "      <td>14.1</td>\n",
       "      <td>Service</td>\n",
       "      <td>6.998510</td>\n",
       "      <td>10.225390</td>\n",
       "      <td>2.646175</td>\n",
       "    </tr>\n",
       "    <tr>\n",
       "      <th>1</th>\n",
       "      <td>1001</td>\n",
       "      <td>9958.000000</td>\n",
       "      <td>10.9</td>\n",
       "      <td>Service</td>\n",
       "      <td>6.908755</td>\n",
       "      <td>9.206132</td>\n",
       "      <td>2.388763</td>\n",
       "    </tr>\n",
       "    <tr>\n",
       "      <th>2</th>\n",
       "      <td>1122</td>\n",
       "      <td>6125.899902</td>\n",
       "      <td>23.5</td>\n",
       "      <td>Service</td>\n",
       "      <td>7.022868</td>\n",
       "      <td>8.720281</td>\n",
       "      <td>3.157000</td>\n",
       "    </tr>\n",
       "    <tr>\n",
       "      <th>3</th>\n",
       "      <td>578</td>\n",
       "      <td>16246.000000</td>\n",
       "      <td>5.9</td>\n",
       "      <td>Service</td>\n",
       "      <td>6.359574</td>\n",
       "      <td>9.695602</td>\n",
       "      <td>1.774952</td>\n",
       "    </tr>\n",
       "    <tr>\n",
       "      <th>4</th>\n",
       "      <td>1368</td>\n",
       "      <td>21783.199219</td>\n",
       "      <td>13.8</td>\n",
       "      <td>Service</td>\n",
       "      <td>7.221105</td>\n",
       "      <td>9.988894</td>\n",
       "      <td>2.624669</td>\n",
       "    </tr>\n",
       "  </tbody>\n",
       "</table>\n",
       "</div>"
      ],
      "text/plain": [
       "   salary         sales   roe industry  log_salary  log_sales   log_roe\n",
       "0    1095  27595.000000  14.1  Service    6.998510  10.225390  2.646175\n",
       "1    1001   9958.000000  10.9  Service    6.908755   9.206132  2.388763\n",
       "2    1122   6125.899902  23.5  Service    7.022868   8.720281  3.157000\n",
       "3     578  16246.000000   5.9  Service    6.359574   9.695602  1.774952\n",
       "4    1368  21783.199219  13.8  Service    7.221105   9.988894  2.624669"
      ]
     },
     "execution_count": 31,
     "metadata": {},
     "output_type": "execute_result"
    }
   ],
   "source": [
    "import numpy as np\n",
    "\n",
    "data['log_salary'] = np.log(data['salary'])\n",
    "data['log_sales'] = np.log(data['sales'])\n",
    "data['log_roe'] = np.log(data['roe'])\n",
    "data.head()"
   ]
  },
  {
   "cell_type": "code",
   "execution_count": 32,
   "id": "06b2e03a",
   "metadata": {},
   "outputs": [
    {
     "data": {
      "text/plain": [
       "array([[<AxesSubplot:title={'center':'salary'}>,\n",
       "        <AxesSubplot:title={'center':'sales'}>],\n",
       "       [<AxesSubplot:title={'center':'roe'}>,\n",
       "        <AxesSubplot:title={'center':'log_salary'}>],\n",
       "       [<AxesSubplot:title={'center':'log_sales'}>,\n",
       "        <AxesSubplot:title={'center':'log_roe'}>]], dtype=object)"
      ]
     },
     "execution_count": 32,
     "metadata": {},
     "output_type": "execute_result"
    },
    {
     "data": {
      "image/png": "[encoded data removed]",
      "text/plain": [
       "<Figure size 1080x720 with 6 Axes>"
      ]
     },
     "metadata": {
      "needs_background": "light"
     },
     "output_type": "display_data"
    }
   ],
   "source": [
    "data.hist(bins=50, figsize=(15,10))"
   ]
  },
  {
   "cell_type": "markdown",
   "id": "80629edb",
   "metadata": {},
   "source": [
    "## 데이터를 제거하지 않았지만 효과가 있다\n",
    "- log 변환을 통해 큰 데이터들의 영향력을 줄여 데이터를 중앙으로 모았다"
   ]
  },
  {
   "cell_type": "markdown",
   "id": "4d6edf5a",
   "metadata": {},
   "source": [
    "## Log 변환 후 상관계수 확인"
   ]
  },
  {
   "cell_type": "code",
   "execution_count": 33,
   "id": "e0443e4c",
   "metadata": {},
   "outputs": [
    {
     "data": {
      "text/html": [
       "<div>\n",
       "<style scoped>\n",
       "    .dataframe tbody tr th:only-of-type {\n",
       "        vertical-align: middle;\n",
       "    }\n",
       "\n",
       "    .dataframe tbody tr th {\n",
       "        vertical-align: top;\n",
       "    }\n",
       "\n",
       "    .dataframe thead th {\n",
       "        text-align: right;\n",
       "    }\n",
       "</style>\n",
       "<table border=\"1\" class=\"dataframe\">\n",
       "  <thead>\n",
       "    <tr style=\"text-align: right;\">\n",
       "      <th></th>\n",
       "      <th>salary</th>\n",
       "      <th>sales</th>\n",
       "      <th>roe</th>\n",
       "      <th>log_salary</th>\n",
       "      <th>log_sales</th>\n",
       "      <th>log_roe</th>\n",
       "    </tr>\n",
       "  </thead>\n",
       "  <tbody>\n",
       "    <tr>\n",
       "      <th>salary</th>\n",
       "      <td>1.000000</td>\n",
       "      <td>0.119869</td>\n",
       "      <td>0.114842</td>\n",
       "      <td>0.794208</td>\n",
       "      <td>0.194092</td>\n",
       "      <td>0.101526</td>\n",
       "    </tr>\n",
       "    <tr>\n",
       "      <th>sales</th>\n",
       "      <td>0.119869</td>\n",
       "      <td>1.000000</td>\n",
       "      <td>-0.055386</td>\n",
       "      <td>0.281286</td>\n",
       "      <td>0.742921</td>\n",
       "      <td>-0.041004</td>\n",
       "    </tr>\n",
       "    <tr>\n",
       "      <th>roe</th>\n",
       "      <td>0.114842</td>\n",
       "      <td>-0.055386</td>\n",
       "      <td>1.000000</td>\n",
       "      <td>0.208499</td>\n",
       "      <td>-0.122553</td>\n",
       "      <td>0.873419</td>\n",
       "    </tr>\n",
       "    <tr>\n",
       "      <th>log_salary</th>\n",
       "      <td>0.794208</td>\n",
       "      <td>0.281286</td>\n",
       "      <td>0.208499</td>\n",
       "      <td>1.000000</td>\n",
       "      <td>0.459148</td>\n",
       "      <td>0.163548</td>\n",
       "    </tr>\n",
       "    <tr>\n",
       "      <th>log_sales</th>\n",
       "      <td>0.194092</td>\n",
       "      <td>0.742921</td>\n",
       "      <td>-0.122553</td>\n",
       "      <td>0.459148</td>\n",
       "      <td>1.000000</td>\n",
       "      <td>-0.120642</td>\n",
       "    </tr>\n",
       "    <tr>\n",
       "      <th>log_roe</th>\n",
       "      <td>0.101526</td>\n",
       "      <td>-0.041004</td>\n",
       "      <td>0.873419</td>\n",
       "      <td>0.163548</td>\n",
       "      <td>-0.120642</td>\n",
       "      <td>1.000000</td>\n",
       "    </tr>\n",
       "  </tbody>\n",
       "</table>\n",
       "</div>"
      ],
      "text/plain": [
       "              salary     sales       roe  log_salary  log_sales   log_roe\n",
       "salary      1.000000  0.119869  0.114842    0.794208   0.194092  0.101526\n",
       "sales       0.119869  1.000000 -0.055386    0.281286   0.742921 -0.041004\n",
       "roe         0.114842 -0.055386  1.000000    0.208499  -0.122553  0.873419\n",
       "log_salary  0.794208  0.281286  0.208499    1.000000   0.459148  0.163548\n",
       "log_sales   0.194092  0.742921 -0.122553    0.459148   1.000000 -0.120642\n",
       "log_roe     0.101526 -0.041004  0.873419    0.163548  -0.120642  1.000000"
      ]
     },
     "execution_count": 33,
     "metadata": {},
     "output_type": "execute_result"
    }
   ],
   "source": [
    "data.corr()"
   ]
  },
  {
   "cell_type": "markdown",
   "id": "0d250dac",
   "metadata": {},
   "source": [
    "### 상관계수 변화 확인\n",
    "- sales와 salary의 상관계수는 약 0.12 => 약 0.46로 많이 높아졌다!\n",
    "- roe와 salary의 상관계수는 약 0.11 => 약 0.16으로 약간 높아졌다"
   ]
  },
  {
   "cell_type": "markdown",
   "id": "a079c037",
   "metadata": {},
   "source": [
    "## 제곱근 변환\n",
    "- `np.sqrt(df['변수명'])`으로 사용"
   ]
  },
  {
   "cell_type": "code",
   "execution_count": 34,
   "id": "756f7c2b",
   "metadata": {},
   "outputs": [
    {
     "data": {
      "text/html": [
       "<div>\n",
       "<style scoped>\n",
       "    .dataframe tbody tr th:only-of-type {\n",
       "        vertical-align: middle;\n",
       "    }\n",
       "\n",
       "    .dataframe tbody tr th {\n",
       "        vertical-align: top;\n",
       "    }\n",
       "\n",
       "    .dataframe thead th {\n",
       "        text-align: right;\n",
       "    }\n",
       "</style>\n",
       "<table border=\"1\" class=\"dataframe\">\n",
       "  <thead>\n",
       "    <tr style=\"text-align: right;\">\n",
       "      <th></th>\n",
       "      <th>salary</th>\n",
       "      <th>sales</th>\n",
       "      <th>roe</th>\n",
       "      <th>industry</th>\n",
       "      <th>log_salary</th>\n",
       "      <th>log_sales</th>\n",
       "      <th>log_roe</th>\n",
       "      <th>sqrt_salary</th>\n",
       "      <th>sqrt_sales</th>\n",
       "      <th>sqrt_roe</th>\n",
       "    </tr>\n",
       "  </thead>\n",
       "  <tbody>\n",
       "    <tr>\n",
       "      <th>0</th>\n",
       "      <td>1095</td>\n",
       "      <td>27595.000000</td>\n",
       "      <td>14.1</td>\n",
       "      <td>Service</td>\n",
       "      <td>6.998510</td>\n",
       "      <td>10.225390</td>\n",
       "      <td>2.646175</td>\n",
       "      <td>33.090784</td>\n",
       "      <td>166.117428</td>\n",
       "      <td>3.754997</td>\n",
       "    </tr>\n",
       "    <tr>\n",
       "      <th>1</th>\n",
       "      <td>1001</td>\n",
       "      <td>9958.000000</td>\n",
       "      <td>10.9</td>\n",
       "      <td>Service</td>\n",
       "      <td>6.908755</td>\n",
       "      <td>9.206132</td>\n",
       "      <td>2.388763</td>\n",
       "      <td>31.638584</td>\n",
       "      <td>99.789779</td>\n",
       "      <td>3.301515</td>\n",
       "    </tr>\n",
       "    <tr>\n",
       "      <th>2</th>\n",
       "      <td>1122</td>\n",
       "      <td>6125.899902</td>\n",
       "      <td>23.5</td>\n",
       "      <td>Service</td>\n",
       "      <td>7.022868</td>\n",
       "      <td>8.720281</td>\n",
       "      <td>3.157000</td>\n",
       "      <td>33.496268</td>\n",
       "      <td>78.268128</td>\n",
       "      <td>4.847680</td>\n",
       "    </tr>\n",
       "    <tr>\n",
       "      <th>3</th>\n",
       "      <td>578</td>\n",
       "      <td>16246.000000</td>\n",
       "      <td>5.9</td>\n",
       "      <td>Service</td>\n",
       "      <td>6.359574</td>\n",
       "      <td>9.695602</td>\n",
       "      <td>1.774952</td>\n",
       "      <td>24.041631</td>\n",
       "      <td>127.459798</td>\n",
       "      <td>2.428992</td>\n",
       "    </tr>\n",
       "    <tr>\n",
       "      <th>4</th>\n",
       "      <td>1368</td>\n",
       "      <td>21783.199219</td>\n",
       "      <td>13.8</td>\n",
       "      <td>Service</td>\n",
       "      <td>7.221105</td>\n",
       "      <td>9.988894</td>\n",
       "      <td>2.624669</td>\n",
       "      <td>36.986484</td>\n",
       "      <td>147.591325</td>\n",
       "      <td>3.714835</td>\n",
       "    </tr>\n",
       "  </tbody>\n",
       "</table>\n",
       "</div>"
      ],
      "text/plain": [
       "   salary         sales   roe industry  log_salary  log_sales   log_roe  \\\n",
       "0    1095  27595.000000  14.1  Service    6.998510  10.225390  2.646175   \n",
       "1    1001   9958.000000  10.9  Service    6.908755   9.206132  2.388763   \n",
       "2    1122   6125.899902  23.5  Service    7.022868   8.720281  3.157000   \n",
       "3     578  16246.000000   5.9  Service    6.359574   9.695602  1.774952   \n",
       "4    1368  21783.199219  13.8  Service    7.221105   9.988894  2.624669   \n",
       "\n",
       "   sqrt_salary  sqrt_sales  sqrt_roe  \n",
       "0    33.090784  166.117428  3.754997  \n",
       "1    31.638584   99.789779  3.301515  \n",
       "2    33.496268   78.268128  4.847680  \n",
       "3    24.041631  127.459798  2.428992  \n",
       "4    36.986484  147.591325  3.714835  "
      ]
     },
     "execution_count": 34,
     "metadata": {},
     "output_type": "execute_result"
    }
   ],
   "source": [
    "import numpy as np\n",
    "\n",
    "data['sqrt_salary'] = np.sqrt(data['salary'])\n",
    "data['sqrt_sales'] = np.sqrt(data['sales'])\n",
    "data['sqrt_roe'] = np.sqrt(data['roe'])\n",
    "data.head()"
   ]
  },
  {
   "cell_type": "code",
   "execution_count": 35,
   "id": "0f4fcc93",
   "metadata": {},
   "outputs": [
    {
     "data": {
      "text/plain": [
       "array([[<AxesSubplot:title={'center':'salary'}>,\n",
       "        <AxesSubplot:title={'center':'sales'}>,\n",
       "        <AxesSubplot:title={'center':'roe'}>],\n",
       "       [<AxesSubplot:title={'center':'log_salary'}>,\n",
       "        <AxesSubplot:title={'center':'log_sales'}>,\n",
       "        <AxesSubplot:title={'center':'log_roe'}>],\n",
       "       [<AxesSubplot:title={'center':'sqrt_salary'}>,\n",
       "        <AxesSubplot:title={'center':'sqrt_sales'}>,\n",
       "        <AxesSubplot:title={'center':'sqrt_roe'}>]], dtype=object)"
      ]
     },
     "execution_count": 35,
     "metadata": {},
     "output_type": "execute_result"
    },
    {
     "data": {
      "image/png": "[encoded data removed]",
      "text/plain": [
       "<Figure size 1080x720 with 9 Axes>"
      ]
     },
     "metadata": {
      "needs_background": "light"
     },
     "output_type": "display_data"
    }
   ],
   "source": [
    "data.hist(bins=50, figsize=(15,10))"
   ]
  },
  {
   "cell_type": "markdown",
   "id": "ad8833a1",
   "metadata": {},
   "source": [
    "## 데이터를 제거하지 않았지만 효과가 있다\n",
    "- log 변환을 통해 큰 데이터들의 영향력을 줄여 데이터를 중앙으로 모았다\n",
    "- salary와 sales는 log 변환이 더 좋고 roe는 제곱근 변환이 더 좋은 것 같다"
   ]
  },
  {
   "cell_type": "markdown",
   "id": "e60506e8",
   "metadata": {},
   "source": [
    "## Log 변환 후 상관계수 확인"
   ]
  },
  {
   "cell_type": "code",
   "execution_count": 36,
   "id": "16762d45",
   "metadata": {},
   "outputs": [
    {
     "data": {
      "text/html": [
       "<div>\n",
       "<style scoped>\n",
       "    .dataframe tbody tr th:only-of-type {\n",
       "        vertical-align: middle;\n",
       "    }\n",
       "\n",
       "    .dataframe tbody tr th {\n",
       "        vertical-align: top;\n",
       "    }\n",
       "\n",
       "    .dataframe thead th {\n",
       "        text-align: right;\n",
       "    }\n",
       "</style>\n",
       "<table border=\"1\" class=\"dataframe\">\n",
       "  <thead>\n",
       "    <tr style=\"text-align: right;\">\n",
       "      <th></th>\n",
       "      <th>salary</th>\n",
       "      <th>sales</th>\n",
       "      <th>roe</th>\n",
       "      <th>log_salary</th>\n",
       "      <th>log_sales</th>\n",
       "      <th>log_roe</th>\n",
       "      <th>sqrt_salary</th>\n",
       "      <th>sqrt_sales</th>\n",
       "      <th>sqrt_roe</th>\n",
       "    </tr>\n",
       "  </thead>\n",
       "  <tbody>\n",
       "    <tr>\n",
       "      <th>salary</th>\n",
       "      <td>1.000000</td>\n",
       "      <td>0.119869</td>\n",
       "      <td>0.114842</td>\n",
       "      <td>0.794208</td>\n",
       "      <td>0.194092</td>\n",
       "      <td>0.101526</td>\n",
       "      <td>0.945732</td>\n",
       "      <td>0.164340</td>\n",
       "      <td>0.115219</td>\n",
       "    </tr>\n",
       "    <tr>\n",
       "      <th>sales</th>\n",
       "      <td>0.119869</td>\n",
       "      <td>1.000000</td>\n",
       "      <td>-0.055386</td>\n",
       "      <td>0.281286</td>\n",
       "      <td>0.742921</td>\n",
       "      <td>-0.041004</td>\n",
       "      <td>0.215716</td>\n",
       "      <td>0.936282</td>\n",
       "      <td>-0.050538</td>\n",
       "    </tr>\n",
       "    <tr>\n",
       "      <th>roe</th>\n",
       "      <td>0.114842</td>\n",
       "      <td>-0.055386</td>\n",
       "      <td>1.000000</td>\n",
       "      <td>0.208499</td>\n",
       "      <td>-0.122553</td>\n",
       "      <td>0.873419</td>\n",
       "      <td>0.172327</td>\n",
       "      <td>-0.087687</td>\n",
       "      <td>0.977012</td>\n",
       "    </tr>\n",
       "    <tr>\n",
       "      <th>log_salary</th>\n",
       "      <td>0.794208</td>\n",
       "      <td>0.281286</td>\n",
       "      <td>0.208499</td>\n",
       "      <td>1.000000</td>\n",
       "      <td>0.459148</td>\n",
       "      <td>0.163548</td>\n",
       "      <td>0.946014</td>\n",
       "      <td>0.386456</td>\n",
       "      <td>0.197914</td>\n",
       "    </tr>\n",
       "    <tr>\n",
       "      <th>log_sales</th>\n",
       "      <td>0.194092</td>\n",
       "      <td>0.742921</td>\n",
       "      <td>-0.122553</td>\n",
       "      <td>0.459148</td>\n",
       "      <td>1.000000</td>\n",
       "      <td>-0.120642</td>\n",
       "      <td>0.342422</td>\n",
       "      <td>0.920797</td>\n",
       "      <td>-0.129020</td>\n",
       "    </tr>\n",
       "    <tr>\n",
       "      <th>log_roe</th>\n",
       "      <td>0.101526</td>\n",
       "      <td>-0.041004</td>\n",
       "      <td>0.873419</td>\n",
       "      <td>0.163548</td>\n",
       "      <td>-0.120642</td>\n",
       "      <td>1.000000</td>\n",
       "      <td>0.139470</td>\n",
       "      <td>-0.083308</td>\n",
       "      <td>0.953806</td>\n",
       "    </tr>\n",
       "    <tr>\n",
       "      <th>sqrt_salary</th>\n",
       "      <td>0.945732</td>\n",
       "      <td>0.215716</td>\n",
       "      <td>0.172327</td>\n",
       "      <td>0.946014</td>\n",
       "      <td>0.342422</td>\n",
       "      <td>0.139470</td>\n",
       "      <td>1.000000</td>\n",
       "      <td>0.293173</td>\n",
       "      <td>0.165932</td>\n",
       "    </tr>\n",
       "    <tr>\n",
       "      <th>sqrt_sales</th>\n",
       "      <td>0.164340</td>\n",
       "      <td>0.936282</td>\n",
       "      <td>-0.087687</td>\n",
       "      <td>0.386456</td>\n",
       "      <td>0.920797</td>\n",
       "      <td>-0.083308</td>\n",
       "      <td>0.293173</td>\n",
       "      <td>1.000000</td>\n",
       "      <td>-0.089501</td>\n",
       "    </tr>\n",
       "    <tr>\n",
       "      <th>sqrt_roe</th>\n",
       "      <td>0.115219</td>\n",
       "      <td>-0.050538</td>\n",
       "      <td>0.977012</td>\n",
       "      <td>0.197914</td>\n",
       "      <td>-0.129020</td>\n",
       "      <td>0.953806</td>\n",
       "      <td>0.165932</td>\n",
       "      <td>-0.089501</td>\n",
       "      <td>1.000000</td>\n",
       "    </tr>\n",
       "  </tbody>\n",
       "</table>\n",
       "</div>"
      ],
      "text/plain": [
       "               salary     sales       roe  log_salary  log_sales   log_roe  \\\n",
       "salary       1.000000  0.119869  0.114842    0.794208   0.194092  0.101526   \n",
       "sales        0.119869  1.000000 -0.055386    0.281286   0.742921 -0.041004   \n",
       "roe          0.114842 -0.055386  1.000000    0.208499  -0.122553  0.873419   \n",
       "log_salary   0.794208  0.281286  0.208499    1.000000   0.459148  0.163548   \n",
       "log_sales    0.194092  0.742921 -0.122553    0.459148   1.000000 -0.120642   \n",
       "log_roe      0.101526 -0.041004  0.873419    0.163548  -0.120642  1.000000   \n",
       "sqrt_salary  0.945732  0.215716  0.172327    0.946014   0.342422  0.139470   \n",
       "sqrt_sales   0.164340  0.936282 -0.087687    0.386456   0.920797 -0.083308   \n",
       "sqrt_roe     0.115219 -0.050538  0.977012    0.197914  -0.129020  0.953806   \n",
       "\n",
       "             sqrt_salary  sqrt_sales  sqrt_roe  \n",
       "salary          0.945732    0.164340  0.115219  \n",
       "sales           0.215716    0.936282 -0.050538  \n",
       "roe             0.172327   -0.087687  0.977012  \n",
       "log_salary      0.946014    0.386456  0.197914  \n",
       "log_sales       0.342422    0.920797 -0.129020  \n",
       "log_roe         0.139470   -0.083308  0.953806  \n",
       "sqrt_salary     1.000000    0.293173  0.165932  \n",
       "sqrt_sales      0.293173    1.000000 -0.089501  \n",
       "sqrt_roe        0.165932   -0.089501  1.000000  "
      ]
     },
     "execution_count": 36,
     "metadata": {},
     "output_type": "execute_result"
    }
   ],
   "source": [
    "data.corr()"
   ]
  },
  {
   "cell_type": "markdown",
   "id": "788930d2",
   "metadata": {},
   "source": [
    "### 상관계수 변화 확인\n",
    "- sales와 salary의 상관계수는 약 0.12 => 약 0.29로 약간 높아졌다\n",
    "- roe와 salary의 상관계수는 약 0.11 => 약 0.16으로 약간 높아졌다"
   ]
  },
  {
   "cell_type": "markdown",
   "id": "93ca135f",
   "metadata": {},
   "source": [
    "---"
   ]
  },
  {
   "cell_type": "markdown",
   "id": "3e5c5d18",
   "metadata": {},
   "source": [
    "# 결측치 처리\n",
    "- 데이터에는 missing value(결측치)가 존재할 수 있음\n",
    "- 이를 적절히 처리하지 않으면 오류가 발생하거나 분석에 문제가 발생할 수 있음\n",
    "- DataFrame은 결측치를 `NaN`으로 표시함"
   ]
  },
  {
   "cell_type": "code",
   "execution_count": 37,
   "id": "33df2e5e",
   "metadata": {},
   "outputs": [
    {
     "data": {
      "text/html": [
       "<div>\n",
       "<style scoped>\n",
       "    .dataframe tbody tr th:only-of-type {\n",
       "        vertical-align: middle;\n",
       "    }\n",
       "\n",
       "    .dataframe tbody tr th {\n",
       "        vertical-align: top;\n",
       "    }\n",
       "\n",
       "    .dataframe thead th {\n",
       "        text-align: right;\n",
       "    }\n",
       "</style>\n",
       "<table border=\"1\" class=\"dataframe\">\n",
       "  <thead>\n",
       "    <tr style=\"text-align: right;\">\n",
       "      <th></th>\n",
       "      <th>salary</th>\n",
       "      <th>sales</th>\n",
       "      <th>roe</th>\n",
       "      <th>industry</th>\n",
       "    </tr>\n",
       "  </thead>\n",
       "  <tbody>\n",
       "    <tr>\n",
       "      <th>0</th>\n",
       "      <td>1095.0</td>\n",
       "      <td>27595.000000</td>\n",
       "      <td>14.100000</td>\n",
       "      <td>1</td>\n",
       "    </tr>\n",
       "    <tr>\n",
       "      <th>1</th>\n",
       "      <td>NaN</td>\n",
       "      <td>9958.000000</td>\n",
       "      <td>10.900000</td>\n",
       "      <td>1</td>\n",
       "    </tr>\n",
       "    <tr>\n",
       "      <th>2</th>\n",
       "      <td>NaN</td>\n",
       "      <td>6125.899902</td>\n",
       "      <td>23.500000</td>\n",
       "      <td>1</td>\n",
       "    </tr>\n",
       "    <tr>\n",
       "      <th>3</th>\n",
       "      <td>578.0</td>\n",
       "      <td>16246.000000</td>\n",
       "      <td>5.900000</td>\n",
       "      <td>1</td>\n",
       "    </tr>\n",
       "    <tr>\n",
       "      <th>4</th>\n",
       "      <td>1368.0</td>\n",
       "      <td>NaN</td>\n",
       "      <td>13.800000</td>\n",
       "      <td>1</td>\n",
       "    </tr>\n",
       "    <tr>\n",
       "      <th>5</th>\n",
       "      <td>1145.0</td>\n",
       "      <td>NaN</td>\n",
       "      <td>20.000000</td>\n",
       "      <td>2</td>\n",
       "    </tr>\n",
       "    <tr>\n",
       "      <th>6</th>\n",
       "      <td>1078.0</td>\n",
       "      <td>2266.699951</td>\n",
       "      <td>16.400000</td>\n",
       "      <td>2</td>\n",
       "    </tr>\n",
       "    <tr>\n",
       "      <th>7</th>\n",
       "      <td>1094.0</td>\n",
       "      <td>2966.800049</td>\n",
       "      <td>16.299999</td>\n",
       "      <td>2</td>\n",
       "    </tr>\n",
       "    <tr>\n",
       "      <th>8</th>\n",
       "      <td>1237.0</td>\n",
       "      <td>4570.200195</td>\n",
       "      <td>10.500000</td>\n",
       "      <td>2</td>\n",
       "    </tr>\n",
       "    <tr>\n",
       "      <th>9</th>\n",
       "      <td>833.0</td>\n",
       "      <td>2830.000000</td>\n",
       "      <td>NaN</td>\n",
       "      <td>2</td>\n",
       "    </tr>\n",
       "  </tbody>\n",
       "</table>\n",
       "</div>"
      ],
      "text/plain": [
       "   salary         sales        roe  industry\n",
       "0  1095.0  27595.000000  14.100000         1\n",
       "1     NaN   9958.000000  10.900000         1\n",
       "2     NaN   6125.899902  23.500000         1\n",
       "3   578.0  16246.000000   5.900000         1\n",
       "4  1368.0           NaN  13.800000         1\n",
       "5  1145.0           NaN  20.000000         2\n",
       "6  1078.0   2266.699951  16.400000         2\n",
       "7  1094.0   2966.800049  16.299999         2\n",
       "8  1237.0   4570.200195  10.500000         2\n",
       "9   833.0   2830.000000        NaN         2"
      ]
     },
     "execution_count": 37,
     "metadata": {},
     "output_type": "execute_result"
    }
   ],
   "source": [
    "import pandas as pd\n",
    "\n",
    "data = pd.read_csv('data/Ex_Missing.csv')\n",
    "data"
   ]
  },
  {
   "cell_type": "markdown",
   "id": "49341b77",
   "metadata": {},
   "source": [
    "## 결측치 확인\n",
    "- isnull(), notnull() 함수를 이용하면 결측 여부를 확인할 수 있음\n",
    "- 자주사용되는 것은 아니나, 원리를 이해하면 나중에 조건식에 사용할 수 있음"
   ]
  },
  {
   "cell_type": "code",
   "execution_count": 38,
   "id": "2cc215b5",
   "metadata": {},
   "outputs": [
    {
     "data": {
      "text/html": [
       "<div>\n",
       "<style scoped>\n",
       "    .dataframe tbody tr th:only-of-type {\n",
       "        vertical-align: middle;\n",
       "    }\n",
       "\n",
       "    .dataframe tbody tr th {\n",
       "        vertical-align: top;\n",
       "    }\n",
       "\n",
       "    .dataframe thead th {\n",
       "        text-align: right;\n",
       "    }\n",
       "</style>\n",
       "<table border=\"1\" class=\"dataframe\">\n",
       "  <thead>\n",
       "    <tr style=\"text-align: right;\">\n",
       "      <th></th>\n",
       "      <th>salary</th>\n",
       "      <th>sales</th>\n",
       "      <th>roe</th>\n",
       "      <th>industry</th>\n",
       "    </tr>\n",
       "  </thead>\n",
       "  <tbody>\n",
       "    <tr>\n",
       "      <th>0</th>\n",
       "      <td>False</td>\n",
       "      <td>False</td>\n",
       "      <td>False</td>\n",
       "      <td>False</td>\n",
       "    </tr>\n",
       "    <tr>\n",
       "      <th>1</th>\n",
       "      <td>True</td>\n",
       "      <td>False</td>\n",
       "      <td>False</td>\n",
       "      <td>False</td>\n",
       "    </tr>\n",
       "    <tr>\n",
       "      <th>2</th>\n",
       "      <td>True</td>\n",
       "      <td>False</td>\n",
       "      <td>False</td>\n",
       "      <td>False</td>\n",
       "    </tr>\n",
       "    <tr>\n",
       "      <th>3</th>\n",
       "      <td>False</td>\n",
       "      <td>False</td>\n",
       "      <td>False</td>\n",
       "      <td>False</td>\n",
       "    </tr>\n",
       "    <tr>\n",
       "      <th>4</th>\n",
       "      <td>False</td>\n",
       "      <td>True</td>\n",
       "      <td>False</td>\n",
       "      <td>False</td>\n",
       "    </tr>\n",
       "    <tr>\n",
       "      <th>5</th>\n",
       "      <td>False</td>\n",
       "      <td>True</td>\n",
       "      <td>False</td>\n",
       "      <td>False</td>\n",
       "    </tr>\n",
       "    <tr>\n",
       "      <th>6</th>\n",
       "      <td>False</td>\n",
       "      <td>False</td>\n",
       "      <td>False</td>\n",
       "      <td>False</td>\n",
       "    </tr>\n",
       "    <tr>\n",
       "      <th>7</th>\n",
       "      <td>False</td>\n",
       "      <td>False</td>\n",
       "      <td>False</td>\n",
       "      <td>False</td>\n",
       "    </tr>\n",
       "    <tr>\n",
       "      <th>8</th>\n",
       "      <td>False</td>\n",
       "      <td>False</td>\n",
       "      <td>False</td>\n",
       "      <td>False</td>\n",
       "    </tr>\n",
       "    <tr>\n",
       "      <th>9</th>\n",
       "      <td>False</td>\n",
       "      <td>False</td>\n",
       "      <td>True</td>\n",
       "      <td>False</td>\n",
       "    </tr>\n",
       "  </tbody>\n",
       "</table>\n",
       "</div>"
      ],
      "text/plain": [
       "   salary  sales    roe  industry\n",
       "0   False  False  False     False\n",
       "1    True  False  False     False\n",
       "2    True  False  False     False\n",
       "3   False  False  False     False\n",
       "4   False   True  False     False\n",
       "5   False   True  False     False\n",
       "6   False  False  False     False\n",
       "7   False  False  False     False\n",
       "8   False  False  False     False\n",
       "9   False  False   True     False"
      ]
     },
     "execution_count": 38,
     "metadata": {},
     "output_type": "execute_result"
    }
   ],
   "source": [
    "pd.isnull(data)  # 결측치는 True, 아니면 False"
   ]
  },
  {
   "cell_type": "code",
   "execution_count": 39,
   "id": "8b5ee158",
   "metadata": {},
   "outputs": [
    {
     "data": {
      "text/html": [
       "<div>\n",
       "<style scoped>\n",
       "    .dataframe tbody tr th:only-of-type {\n",
       "        vertical-align: middle;\n",
       "    }\n",
       "\n",
       "    .dataframe tbody tr th {\n",
       "        vertical-align: top;\n",
       "    }\n",
       "\n",
       "    .dataframe thead th {\n",
       "        text-align: right;\n",
       "    }\n",
       "</style>\n",
       "<table border=\"1\" class=\"dataframe\">\n",
       "  <thead>\n",
       "    <tr style=\"text-align: right;\">\n",
       "      <th></th>\n",
       "      <th>salary</th>\n",
       "      <th>sales</th>\n",
       "      <th>roe</th>\n",
       "      <th>industry</th>\n",
       "    </tr>\n",
       "  </thead>\n",
       "  <tbody>\n",
       "    <tr>\n",
       "      <th>0</th>\n",
       "      <td>False</td>\n",
       "      <td>False</td>\n",
       "      <td>False</td>\n",
       "      <td>False</td>\n",
       "    </tr>\n",
       "    <tr>\n",
       "      <th>1</th>\n",
       "      <td>True</td>\n",
       "      <td>False</td>\n",
       "      <td>False</td>\n",
       "      <td>False</td>\n",
       "    </tr>\n",
       "    <tr>\n",
       "      <th>2</th>\n",
       "      <td>True</td>\n",
       "      <td>False</td>\n",
       "      <td>False</td>\n",
       "      <td>False</td>\n",
       "    </tr>\n",
       "    <tr>\n",
       "      <th>3</th>\n",
       "      <td>False</td>\n",
       "      <td>False</td>\n",
       "      <td>False</td>\n",
       "      <td>False</td>\n",
       "    </tr>\n",
       "    <tr>\n",
       "      <th>4</th>\n",
       "      <td>False</td>\n",
       "      <td>True</td>\n",
       "      <td>False</td>\n",
       "      <td>False</td>\n",
       "    </tr>\n",
       "    <tr>\n",
       "      <th>5</th>\n",
       "      <td>False</td>\n",
       "      <td>True</td>\n",
       "      <td>False</td>\n",
       "      <td>False</td>\n",
       "    </tr>\n",
       "    <tr>\n",
       "      <th>6</th>\n",
       "      <td>False</td>\n",
       "      <td>False</td>\n",
       "      <td>False</td>\n",
       "      <td>False</td>\n",
       "    </tr>\n",
       "    <tr>\n",
       "      <th>7</th>\n",
       "      <td>False</td>\n",
       "      <td>False</td>\n",
       "      <td>False</td>\n",
       "      <td>False</td>\n",
       "    </tr>\n",
       "    <tr>\n",
       "      <th>8</th>\n",
       "      <td>False</td>\n",
       "      <td>False</td>\n",
       "      <td>False</td>\n",
       "      <td>False</td>\n",
       "    </tr>\n",
       "    <tr>\n",
       "      <th>9</th>\n",
       "      <td>False</td>\n",
       "      <td>False</td>\n",
       "      <td>True</td>\n",
       "      <td>False</td>\n",
       "    </tr>\n",
       "  </tbody>\n",
       "</table>\n",
       "</div>"
      ],
      "text/plain": [
       "   salary  sales    roe  industry\n",
       "0   False  False  False     False\n",
       "1    True  False  False     False\n",
       "2    True  False  False     False\n",
       "3   False  False  False     False\n",
       "4   False   True  False     False\n",
       "5   False   True  False     False\n",
       "6   False  False  False     False\n",
       "7   False  False  False     False\n",
       "8   False  False  False     False\n",
       "9   False  False   True     False"
      ]
     },
     "execution_count": 39,
     "metadata": {},
     "output_type": "execute_result"
    }
   ],
   "source": [
    "data.isnull()  # 결측치는 True, 아니면 False"
   ]
  },
  {
   "cell_type": "code",
   "execution_count": 40,
   "id": "e5f47a4d",
   "metadata": {},
   "outputs": [
    {
     "data": {
      "text/html": [
       "<div>\n",
       "<style scoped>\n",
       "    .dataframe tbody tr th:only-of-type {\n",
       "        vertical-align: middle;\n",
       "    }\n",
       "\n",
       "    .dataframe tbody tr th {\n",
       "        vertical-align: top;\n",
       "    }\n",
       "\n",
       "    .dataframe thead th {\n",
       "        text-align: right;\n",
       "    }\n",
       "</style>\n",
       "<table border=\"1\" class=\"dataframe\">\n",
       "  <thead>\n",
       "    <tr style=\"text-align: right;\">\n",
       "      <th></th>\n",
       "      <th>salary</th>\n",
       "      <th>sales</th>\n",
       "      <th>roe</th>\n",
       "      <th>industry</th>\n",
       "    </tr>\n",
       "  </thead>\n",
       "  <tbody>\n",
       "    <tr>\n",
       "      <th>0</th>\n",
       "      <td>True</td>\n",
       "      <td>True</td>\n",
       "      <td>True</td>\n",
       "      <td>True</td>\n",
       "    </tr>\n",
       "    <tr>\n",
       "      <th>1</th>\n",
       "      <td>False</td>\n",
       "      <td>True</td>\n",
       "      <td>True</td>\n",
       "      <td>True</td>\n",
       "    </tr>\n",
       "    <tr>\n",
       "      <th>2</th>\n",
       "      <td>False</td>\n",
       "      <td>True</td>\n",
       "      <td>True</td>\n",
       "      <td>True</td>\n",
       "    </tr>\n",
       "    <tr>\n",
       "      <th>3</th>\n",
       "      <td>True</td>\n",
       "      <td>True</td>\n",
       "      <td>True</td>\n",
       "      <td>True</td>\n",
       "    </tr>\n",
       "    <tr>\n",
       "      <th>4</th>\n",
       "      <td>True</td>\n",
       "      <td>False</td>\n",
       "      <td>True</td>\n",
       "      <td>True</td>\n",
       "    </tr>\n",
       "    <tr>\n",
       "      <th>5</th>\n",
       "      <td>True</td>\n",
       "      <td>False</td>\n",
       "      <td>True</td>\n",
       "      <td>True</td>\n",
       "    </tr>\n",
       "    <tr>\n",
       "      <th>6</th>\n",
       "      <td>True</td>\n",
       "      <td>True</td>\n",
       "      <td>True</td>\n",
       "      <td>True</td>\n",
       "    </tr>\n",
       "    <tr>\n",
       "      <th>7</th>\n",
       "      <td>True</td>\n",
       "      <td>True</td>\n",
       "      <td>True</td>\n",
       "      <td>True</td>\n",
       "    </tr>\n",
       "    <tr>\n",
       "      <th>8</th>\n",
       "      <td>True</td>\n",
       "      <td>True</td>\n",
       "      <td>True</td>\n",
       "      <td>True</td>\n",
       "    </tr>\n",
       "    <tr>\n",
       "      <th>9</th>\n",
       "      <td>True</td>\n",
       "      <td>True</td>\n",
       "      <td>False</td>\n",
       "      <td>True</td>\n",
       "    </tr>\n",
       "  </tbody>\n",
       "</table>\n",
       "</div>"
      ],
      "text/plain": [
       "   salary  sales    roe  industry\n",
       "0    True   True   True      True\n",
       "1   False   True   True      True\n",
       "2   False   True   True      True\n",
       "3    True   True   True      True\n",
       "4    True  False   True      True\n",
       "5    True  False   True      True\n",
       "6    True   True   True      True\n",
       "7    True   True   True      True\n",
       "8    True   True   True      True\n",
       "9    True   True  False      True"
      ]
     },
     "execution_count": 40,
     "metadata": {},
     "output_type": "execute_result"
    }
   ],
   "source": [
    "pd.notnull(data)  # 결측치는 False, 아니면 True"
   ]
  },
  {
   "cell_type": "code",
   "execution_count": 41,
   "id": "29415002",
   "metadata": {},
   "outputs": [
    {
     "data": {
      "text/html": [
       "<div>\n",
       "<style scoped>\n",
       "    .dataframe tbody tr th:only-of-type {\n",
       "        vertical-align: middle;\n",
       "    }\n",
       "\n",
       "    .dataframe tbody tr th {\n",
       "        vertical-align: top;\n",
       "    }\n",
       "\n",
       "    .dataframe thead th {\n",
       "        text-align: right;\n",
       "    }\n",
       "</style>\n",
       "<table border=\"1\" class=\"dataframe\">\n",
       "  <thead>\n",
       "    <tr style=\"text-align: right;\">\n",
       "      <th></th>\n",
       "      <th>salary</th>\n",
       "      <th>sales</th>\n",
       "      <th>roe</th>\n",
       "      <th>industry</th>\n",
       "    </tr>\n",
       "  </thead>\n",
       "  <tbody>\n",
       "    <tr>\n",
       "      <th>0</th>\n",
       "      <td>True</td>\n",
       "      <td>True</td>\n",
       "      <td>True</td>\n",
       "      <td>True</td>\n",
       "    </tr>\n",
       "    <tr>\n",
       "      <th>1</th>\n",
       "      <td>False</td>\n",
       "      <td>True</td>\n",
       "      <td>True</td>\n",
       "      <td>True</td>\n",
       "    </tr>\n",
       "    <tr>\n",
       "      <th>2</th>\n",
       "      <td>False</td>\n",
       "      <td>True</td>\n",
       "      <td>True</td>\n",
       "      <td>True</td>\n",
       "    </tr>\n",
       "    <tr>\n",
       "      <th>3</th>\n",
       "      <td>True</td>\n",
       "      <td>True</td>\n",
       "      <td>True</td>\n",
       "      <td>True</td>\n",
       "    </tr>\n",
       "    <tr>\n",
       "      <th>4</th>\n",
       "      <td>True</td>\n",
       "      <td>False</td>\n",
       "      <td>True</td>\n",
       "      <td>True</td>\n",
       "    </tr>\n",
       "    <tr>\n",
       "      <th>5</th>\n",
       "      <td>True</td>\n",
       "      <td>False</td>\n",
       "      <td>True</td>\n",
       "      <td>True</td>\n",
       "    </tr>\n",
       "    <tr>\n",
       "      <th>6</th>\n",
       "      <td>True</td>\n",
       "      <td>True</td>\n",
       "      <td>True</td>\n",
       "      <td>True</td>\n",
       "    </tr>\n",
       "    <tr>\n",
       "      <th>7</th>\n",
       "      <td>True</td>\n",
       "      <td>True</td>\n",
       "      <td>True</td>\n",
       "      <td>True</td>\n",
       "    </tr>\n",
       "    <tr>\n",
       "      <th>8</th>\n",
       "      <td>True</td>\n",
       "      <td>True</td>\n",
       "      <td>True</td>\n",
       "      <td>True</td>\n",
       "    </tr>\n",
       "    <tr>\n",
       "      <th>9</th>\n",
       "      <td>True</td>\n",
       "      <td>True</td>\n",
       "      <td>False</td>\n",
       "      <td>True</td>\n",
       "    </tr>\n",
       "  </tbody>\n",
       "</table>\n",
       "</div>"
      ],
      "text/plain": [
       "   salary  sales    roe  industry\n",
       "0    True   True   True      True\n",
       "1   False   True   True      True\n",
       "2   False   True   True      True\n",
       "3    True   True   True      True\n",
       "4    True  False   True      True\n",
       "5    True  False   True      True\n",
       "6    True   True   True      True\n",
       "7    True   True   True      True\n",
       "8    True   True   True      True\n",
       "9    True   True  False      True"
      ]
     },
     "execution_count": 41,
     "metadata": {},
     "output_type": "execute_result"
    }
   ],
   "source": [
    "data.notnull()  # 결측치는 False, 아니면 True"
   ]
  },
  {
   "cell_type": "markdown",
   "id": "8ad62558",
   "metadata": {},
   "source": [
    "### 컬럼별 결측값 개수 확인하기"
   ]
  },
  {
   "cell_type": "code",
   "execution_count": 42,
   "id": "391aff7a",
   "metadata": {
    "scrolled": true
   },
   "outputs": [
    {
     "data": {
      "text/plain": [
       "salary      2\n",
       "sales       2\n",
       "roe         1\n",
       "industry    0\n",
       "dtype: int64"
      ]
     },
     "execution_count": 42,
     "metadata": {},
     "output_type": "execute_result"
    }
   ],
   "source": [
    "data.isnull().sum()"
   ]
  },
  {
   "cell_type": "code",
   "execution_count": 43,
   "id": "6b69ec9f",
   "metadata": {},
   "outputs": [
    {
     "data": {
      "text/plain": [
       "2"
      ]
     },
     "execution_count": 43,
     "metadata": {},
     "output_type": "execute_result"
    }
   ],
   "source": [
    "data['salary'].isnull().sum()"
   ]
  },
  {
   "cell_type": "code",
   "execution_count": 44,
   "id": "bb1a58d8",
   "metadata": {},
   "outputs": [
    {
     "data": {
      "text/plain": [
       "salary       8\n",
       "sales        8\n",
       "roe          9\n",
       "industry    10\n",
       "dtype: int64"
      ]
     },
     "execution_count": 44,
     "metadata": {},
     "output_type": "execute_result"
    }
   ],
   "source": [
    "data.notnull().sum()"
   ]
  },
  {
   "cell_type": "code",
   "execution_count": 45,
   "id": "db4665b8",
   "metadata": {},
   "outputs": [
    {
     "data": {
      "text/plain": [
       "8"
      ]
     },
     "execution_count": 45,
     "metadata": {},
     "output_type": "execute_result"
    }
   ],
   "source": [
    "data['salary'].notnull().sum()"
   ]
  },
  {
   "cell_type": "code",
   "execution_count": 46,
   "id": "7b78345b",
   "metadata": {},
   "outputs": [
    {
     "data": {
      "text/plain": [
       "0    0\n",
       "1    1\n",
       "2    1\n",
       "3    0\n",
       "4    1\n",
       "5    1\n",
       "6    0\n",
       "7    0\n",
       "8    0\n",
       "9    1\n",
       "dtype: int64"
      ]
     },
     "execution_count": 46,
     "metadata": {},
     "output_type": "execute_result"
    }
   ],
   "source": [
    "data.isnull().sum(1)  # 행단위로 결측치 보기, 하나의 행에 몇개의 결측치가 있는지"
   ]
  },
  {
   "cell_type": "markdown",
   "id": "14ccc933",
   "metadata": {},
   "source": [
    "### 결측치를 새로운 컬럼에 할당"
   ]
  },
  {
   "cell_type": "code",
   "execution_count": 47,
   "id": "ee735d8f",
   "metadata": {},
   "outputs": [
    {
     "data": {
      "text/html": [
       "<div>\n",
       "<style scoped>\n",
       "    .dataframe tbody tr th:only-of-type {\n",
       "        vertical-align: middle;\n",
       "    }\n",
       "\n",
       "    .dataframe tbody tr th {\n",
       "        vertical-align: top;\n",
       "    }\n",
       "\n",
       "    .dataframe thead th {\n",
       "        text-align: right;\n",
       "    }\n",
       "</style>\n",
       "<table border=\"1\" class=\"dataframe\">\n",
       "  <thead>\n",
       "    <tr style=\"text-align: right;\">\n",
       "      <th></th>\n",
       "      <th>salary</th>\n",
       "      <th>sales</th>\n",
       "      <th>roe</th>\n",
       "      <th>industry</th>\n",
       "      <th>missing</th>\n",
       "    </tr>\n",
       "  </thead>\n",
       "  <tbody>\n",
       "    <tr>\n",
       "      <th>0</th>\n",
       "      <td>1095.0</td>\n",
       "      <td>27595.000000</td>\n",
       "      <td>14.100000</td>\n",
       "      <td>1</td>\n",
       "      <td>0</td>\n",
       "    </tr>\n",
       "    <tr>\n",
       "      <th>1</th>\n",
       "      <td>NaN</td>\n",
       "      <td>9958.000000</td>\n",
       "      <td>10.900000</td>\n",
       "      <td>1</td>\n",
       "      <td>1</td>\n",
       "    </tr>\n",
       "    <tr>\n",
       "      <th>2</th>\n",
       "      <td>NaN</td>\n",
       "      <td>6125.899902</td>\n",
       "      <td>23.500000</td>\n",
       "      <td>1</td>\n",
       "      <td>1</td>\n",
       "    </tr>\n",
       "    <tr>\n",
       "      <th>3</th>\n",
       "      <td>578.0</td>\n",
       "      <td>16246.000000</td>\n",
       "      <td>5.900000</td>\n",
       "      <td>1</td>\n",
       "      <td>0</td>\n",
       "    </tr>\n",
       "    <tr>\n",
       "      <th>4</th>\n",
       "      <td>1368.0</td>\n",
       "      <td>NaN</td>\n",
       "      <td>13.800000</td>\n",
       "      <td>1</td>\n",
       "      <td>1</td>\n",
       "    </tr>\n",
       "    <tr>\n",
       "      <th>5</th>\n",
       "      <td>1145.0</td>\n",
       "      <td>NaN</td>\n",
       "      <td>20.000000</td>\n",
       "      <td>2</td>\n",
       "      <td>1</td>\n",
       "    </tr>\n",
       "    <tr>\n",
       "      <th>6</th>\n",
       "      <td>1078.0</td>\n",
       "      <td>2266.699951</td>\n",
       "      <td>16.400000</td>\n",
       "      <td>2</td>\n",
       "      <td>0</td>\n",
       "    </tr>\n",
       "    <tr>\n",
       "      <th>7</th>\n",
       "      <td>1094.0</td>\n",
       "      <td>2966.800049</td>\n",
       "      <td>16.299999</td>\n",
       "      <td>2</td>\n",
       "      <td>0</td>\n",
       "    </tr>\n",
       "    <tr>\n",
       "      <th>8</th>\n",
       "      <td>1237.0</td>\n",
       "      <td>4570.200195</td>\n",
       "      <td>10.500000</td>\n",
       "      <td>2</td>\n",
       "      <td>0</td>\n",
       "    </tr>\n",
       "    <tr>\n",
       "      <th>9</th>\n",
       "      <td>833.0</td>\n",
       "      <td>2830.000000</td>\n",
       "      <td>NaN</td>\n",
       "      <td>2</td>\n",
       "      <td>1</td>\n",
       "    </tr>\n",
       "  </tbody>\n",
       "</table>\n",
       "</div>"
      ],
      "text/plain": [
       "   salary         sales        roe  industry  missing\n",
       "0  1095.0  27595.000000  14.100000         1        0\n",
       "1     NaN   9958.000000  10.900000         1        1\n",
       "2     NaN   6125.899902  23.500000         1        1\n",
       "3   578.0  16246.000000   5.900000         1        0\n",
       "4  1368.0           NaN  13.800000         1        1\n",
       "5  1145.0           NaN  20.000000         2        1\n",
       "6  1078.0   2266.699951  16.400000         2        0\n",
       "7  1094.0   2966.800049  16.299999         2        0\n",
       "8  1237.0   4570.200195  10.500000         2        0\n",
       "9   833.0   2830.000000        NaN         2        1"
      ]
     },
     "execution_count": 47,
     "metadata": {},
     "output_type": "execute_result"
    }
   ],
   "source": [
    "data['missing'] = data.isnull().sum(1)\n",
    "data"
   ]
  },
  {
   "cell_type": "markdown",
   "id": "fc384f01",
   "metadata": {},
   "source": [
    "### 실측값을 새로운 컬럼에 할당"
   ]
  },
  {
   "cell_type": "code",
   "execution_count": 48,
   "id": "1fb12f01",
   "metadata": {},
   "outputs": [
    {
     "data": {
      "text/html": [
       "<div>\n",
       "<style scoped>\n",
       "    .dataframe tbody tr th:only-of-type {\n",
       "        vertical-align: middle;\n",
       "    }\n",
       "\n",
       "    .dataframe tbody tr th {\n",
       "        vertical-align: top;\n",
       "    }\n",
       "\n",
       "    .dataframe thead th {\n",
       "        text-align: right;\n",
       "    }\n",
       "</style>\n",
       "<table border=\"1\" class=\"dataframe\">\n",
       "  <thead>\n",
       "    <tr style=\"text-align: right;\">\n",
       "      <th></th>\n",
       "      <th>salary</th>\n",
       "      <th>sales</th>\n",
       "      <th>roe</th>\n",
       "      <th>industry</th>\n",
       "      <th>valid</th>\n",
       "    </tr>\n",
       "  </thead>\n",
       "  <tbody>\n",
       "    <tr>\n",
       "      <th>0</th>\n",
       "      <td>1095.0</td>\n",
       "      <td>27595.000000</td>\n",
       "      <td>14.100000</td>\n",
       "      <td>1</td>\n",
       "      <td>4</td>\n",
       "    </tr>\n",
       "    <tr>\n",
       "      <th>1</th>\n",
       "      <td>NaN</td>\n",
       "      <td>9958.000000</td>\n",
       "      <td>10.900000</td>\n",
       "      <td>1</td>\n",
       "      <td>3</td>\n",
       "    </tr>\n",
       "    <tr>\n",
       "      <th>2</th>\n",
       "      <td>NaN</td>\n",
       "      <td>6125.899902</td>\n",
       "      <td>23.500000</td>\n",
       "      <td>1</td>\n",
       "      <td>3</td>\n",
       "    </tr>\n",
       "    <tr>\n",
       "      <th>3</th>\n",
       "      <td>578.0</td>\n",
       "      <td>16246.000000</td>\n",
       "      <td>5.900000</td>\n",
       "      <td>1</td>\n",
       "      <td>4</td>\n",
       "    </tr>\n",
       "    <tr>\n",
       "      <th>4</th>\n",
       "      <td>1368.0</td>\n",
       "      <td>NaN</td>\n",
       "      <td>13.800000</td>\n",
       "      <td>1</td>\n",
       "      <td>3</td>\n",
       "    </tr>\n",
       "    <tr>\n",
       "      <th>5</th>\n",
       "      <td>1145.0</td>\n",
       "      <td>NaN</td>\n",
       "      <td>20.000000</td>\n",
       "      <td>2</td>\n",
       "      <td>3</td>\n",
       "    </tr>\n",
       "    <tr>\n",
       "      <th>6</th>\n",
       "      <td>1078.0</td>\n",
       "      <td>2266.699951</td>\n",
       "      <td>16.400000</td>\n",
       "      <td>2</td>\n",
       "      <td>4</td>\n",
       "    </tr>\n",
       "    <tr>\n",
       "      <th>7</th>\n",
       "      <td>1094.0</td>\n",
       "      <td>2966.800049</td>\n",
       "      <td>16.299999</td>\n",
       "      <td>2</td>\n",
       "      <td>4</td>\n",
       "    </tr>\n",
       "    <tr>\n",
       "      <th>8</th>\n",
       "      <td>1237.0</td>\n",
       "      <td>4570.200195</td>\n",
       "      <td>10.500000</td>\n",
       "      <td>2</td>\n",
       "      <td>4</td>\n",
       "    </tr>\n",
       "    <tr>\n",
       "      <th>9</th>\n",
       "      <td>833.0</td>\n",
       "      <td>2830.000000</td>\n",
       "      <td>NaN</td>\n",
       "      <td>2</td>\n",
       "      <td>3</td>\n",
       "    </tr>\n",
       "  </tbody>\n",
       "</table>\n",
       "</div>"
      ],
      "text/plain": [
       "   salary         sales        roe  industry  valid\n",
       "0  1095.0  27595.000000  14.100000         1      4\n",
       "1     NaN   9958.000000  10.900000         1      3\n",
       "2     NaN   6125.899902  23.500000         1      3\n",
       "3   578.0  16246.000000   5.900000         1      4\n",
       "4  1368.0           NaN  13.800000         1      3\n",
       "5  1145.0           NaN  20.000000         2      3\n",
       "6  1078.0   2266.699951  16.400000         2      4\n",
       "7  1094.0   2966.800049  16.299999         2      4\n",
       "8  1237.0   4570.200195  10.500000         2      4\n",
       "9   833.0   2830.000000        NaN         2      3"
      ]
     },
     "execution_count": 48,
     "metadata": {},
     "output_type": "execute_result"
    }
   ],
   "source": [
    "del data['missing']\n",
    "data['valid'] = data.notnull().sum(1)\n",
    "data"
   ]
  },
  {
   "cell_type": "markdown",
   "id": "85bcf9fb",
   "metadata": {},
   "source": [
    "---"
   ]
  },
  {
   "cell_type": "markdown",
   "id": "84ee0d2c",
   "metadata": {},
   "source": [
    "## 결측값 제거\n",
    "- `df.dropna(axis=0 or 1)` 명령으로 결측값을 제거할 수 있음\n",
    "- `axis=0`: 결측 행을 제거(기본값)\n",
    "- `axis=1`: 결측 열을 제거"
   ]
  },
  {
   "cell_type": "code",
   "execution_count": 49,
   "id": "09031dac",
   "metadata": {},
   "outputs": [
    {
     "data": {
      "text/html": [
       "<div>\n",
       "<style scoped>\n",
       "    .dataframe tbody tr th:only-of-type {\n",
       "        vertical-align: middle;\n",
       "    }\n",
       "\n",
       "    .dataframe tbody tr th {\n",
       "        vertical-align: top;\n",
       "    }\n",
       "\n",
       "    .dataframe thead th {\n",
       "        text-align: right;\n",
       "    }\n",
       "</style>\n",
       "<table border=\"1\" class=\"dataframe\">\n",
       "  <thead>\n",
       "    <tr style=\"text-align: right;\">\n",
       "      <th></th>\n",
       "      <th>salary</th>\n",
       "      <th>sales</th>\n",
       "      <th>roe</th>\n",
       "      <th>industry</th>\n",
       "      <th>valid</th>\n",
       "    </tr>\n",
       "  </thead>\n",
       "  <tbody>\n",
       "    <tr>\n",
       "      <th>0</th>\n",
       "      <td>1095.0</td>\n",
       "      <td>27595.000000</td>\n",
       "      <td>14.100000</td>\n",
       "      <td>1</td>\n",
       "      <td>4</td>\n",
       "    </tr>\n",
       "    <tr>\n",
       "      <th>3</th>\n",
       "      <td>578.0</td>\n",
       "      <td>16246.000000</td>\n",
       "      <td>5.900000</td>\n",
       "      <td>1</td>\n",
       "      <td>4</td>\n",
       "    </tr>\n",
       "    <tr>\n",
       "      <th>6</th>\n",
       "      <td>1078.0</td>\n",
       "      <td>2266.699951</td>\n",
       "      <td>16.400000</td>\n",
       "      <td>2</td>\n",
       "      <td>4</td>\n",
       "    </tr>\n",
       "    <tr>\n",
       "      <th>7</th>\n",
       "      <td>1094.0</td>\n",
       "      <td>2966.800049</td>\n",
       "      <td>16.299999</td>\n",
       "      <td>2</td>\n",
       "      <td>4</td>\n",
       "    </tr>\n",
       "    <tr>\n",
       "      <th>8</th>\n",
       "      <td>1237.0</td>\n",
       "      <td>4570.200195</td>\n",
       "      <td>10.500000</td>\n",
       "      <td>2</td>\n",
       "      <td>4</td>\n",
       "    </tr>\n",
       "  </tbody>\n",
       "</table>\n",
       "</div>"
      ],
      "text/plain": [
       "   salary         sales        roe  industry  valid\n",
       "0  1095.0  27595.000000  14.100000         1      4\n",
       "3   578.0  16246.000000   5.900000         1      4\n",
       "6  1078.0   2266.699951  16.400000         2      4\n",
       "7  1094.0   2966.800049  16.299999         2      4\n",
       "8  1237.0   4570.200195  10.500000         2      4"
      ]
     },
     "execution_count": 49,
     "metadata": {},
     "output_type": "execute_result"
    }
   ],
   "source": [
    "# 1,2,4,5,9번 행이 제거된다\n",
    "data_del_row = data.dropna(axis=0)\n",
    "data_del_row"
   ]
  },
  {
   "cell_type": "code",
   "execution_count": 50,
   "id": "07b2b484",
   "metadata": {},
   "outputs": [
    {
     "data": {
      "text/html": [
       "<div>\n",
       "<style scoped>\n",
       "    .dataframe tbody tr th:only-of-type {\n",
       "        vertical-align: middle;\n",
       "    }\n",
       "\n",
       "    .dataframe tbody tr th {\n",
       "        vertical-align: top;\n",
       "    }\n",
       "\n",
       "    .dataframe thead th {\n",
       "        text-align: right;\n",
       "    }\n",
       "</style>\n",
       "<table border=\"1\" class=\"dataframe\">\n",
       "  <thead>\n",
       "    <tr style=\"text-align: right;\">\n",
       "      <th></th>\n",
       "      <th>industry</th>\n",
       "      <th>valid</th>\n",
       "    </tr>\n",
       "  </thead>\n",
       "  <tbody>\n",
       "    <tr>\n",
       "      <th>0</th>\n",
       "      <td>1</td>\n",
       "      <td>4</td>\n",
       "    </tr>\n",
       "    <tr>\n",
       "      <th>1</th>\n",
       "      <td>1</td>\n",
       "      <td>3</td>\n",
       "    </tr>\n",
       "    <tr>\n",
       "      <th>2</th>\n",
       "      <td>1</td>\n",
       "      <td>3</td>\n",
       "    </tr>\n",
       "    <tr>\n",
       "      <th>3</th>\n",
       "      <td>1</td>\n",
       "      <td>4</td>\n",
       "    </tr>\n",
       "    <tr>\n",
       "      <th>4</th>\n",
       "      <td>1</td>\n",
       "      <td>3</td>\n",
       "    </tr>\n",
       "    <tr>\n",
       "      <th>5</th>\n",
       "      <td>2</td>\n",
       "      <td>3</td>\n",
       "    </tr>\n",
       "    <tr>\n",
       "      <th>6</th>\n",
       "      <td>2</td>\n",
       "      <td>4</td>\n",
       "    </tr>\n",
       "    <tr>\n",
       "      <th>7</th>\n",
       "      <td>2</td>\n",
       "      <td>4</td>\n",
       "    </tr>\n",
       "    <tr>\n",
       "      <th>8</th>\n",
       "      <td>2</td>\n",
       "      <td>4</td>\n",
       "    </tr>\n",
       "    <tr>\n",
       "      <th>9</th>\n",
       "      <td>2</td>\n",
       "      <td>3</td>\n",
       "    </tr>\n",
       "  </tbody>\n",
       "</table>\n",
       "</div>"
      ],
      "text/plain": [
       "   industry  valid\n",
       "0         1      4\n",
       "1         1      3\n",
       "2         1      3\n",
       "3         1      4\n",
       "4         1      3\n",
       "5         2      3\n",
       "6         2      4\n",
       "7         2      4\n",
       "8         2      4\n",
       "9         2      3"
      ]
     },
     "execution_count": 50,
     "metadata": {},
     "output_type": "execute_result"
    }
   ],
   "source": [
    "# salary, sales, roe 컬럼이 제거된다\n",
    "data_del_col = data.dropna(axis=1)\n",
    "data_del_col"
   ]
  },
  {
   "cell_type": "markdown",
   "id": "a0c633d4",
   "metadata": {},
   "source": [
    "### 결측값이 있는 특정 행/열 제거\n",
    "- `df[['변수명']].dropna()` 명령으로 제거 가능\n",
    "- `df[['변수명', '변수명2', '변수명3']].dropna()`와 같이 여러 변수를 지정 가능, 사실 앞에는 데이터 프레임 쪼개는거고 쪼개진 데이터프레임에 dropna 한 것임\n",
    "- `axis=1` 옵션으로 열 제거 가능"
   ]
  },
  {
   "cell_type": "code",
   "execution_count": 51,
   "id": "08c5eb27",
   "metadata": {},
   "outputs": [
    {
     "data": {
      "text/html": [
       "<div>\n",
       "<style scoped>\n",
       "    .dataframe tbody tr th:only-of-type {\n",
       "        vertical-align: middle;\n",
       "    }\n",
       "\n",
       "    .dataframe tbody tr th {\n",
       "        vertical-align: top;\n",
       "    }\n",
       "\n",
       "    .dataframe thead th {\n",
       "        text-align: right;\n",
       "    }\n",
       "</style>\n",
       "<table border=\"1\" class=\"dataframe\">\n",
       "  <thead>\n",
       "    <tr style=\"text-align: right;\">\n",
       "      <th></th>\n",
       "      <th>salary</th>\n",
       "    </tr>\n",
       "  </thead>\n",
       "  <tbody>\n",
       "    <tr>\n",
       "      <th>0</th>\n",
       "      <td>1095.0</td>\n",
       "    </tr>\n",
       "    <tr>\n",
       "      <th>3</th>\n",
       "      <td>578.0</td>\n",
       "    </tr>\n",
       "    <tr>\n",
       "      <th>4</th>\n",
       "      <td>1368.0</td>\n",
       "    </tr>\n",
       "    <tr>\n",
       "      <th>5</th>\n",
       "      <td>1145.0</td>\n",
       "    </tr>\n",
       "    <tr>\n",
       "      <th>6</th>\n",
       "      <td>1078.0</td>\n",
       "    </tr>\n",
       "    <tr>\n",
       "      <th>7</th>\n",
       "      <td>1094.0</td>\n",
       "    </tr>\n",
       "    <tr>\n",
       "      <th>8</th>\n",
       "      <td>1237.0</td>\n",
       "    </tr>\n",
       "    <tr>\n",
       "      <th>9</th>\n",
       "      <td>833.0</td>\n",
       "    </tr>\n",
       "  </tbody>\n",
       "</table>\n",
       "</div>"
      ],
      "text/plain": [
       "   salary\n",
       "0  1095.0\n",
       "3   578.0\n",
       "4  1368.0\n",
       "5  1145.0\n",
       "6  1078.0\n",
       "7  1094.0\n",
       "8  1237.0\n",
       "9   833.0"
      ]
     },
     "execution_count": 51,
     "metadata": {},
     "output_type": "execute_result"
    }
   ],
   "source": [
    "data[['salary']].dropna()"
   ]
  },
  {
   "cell_type": "code",
   "execution_count": 52,
   "id": "199bfc5e",
   "metadata": {},
   "outputs": [
    {
     "data": {
      "text/html": [
       "<div>\n",
       "<style scoped>\n",
       "    .dataframe tbody tr th:only-of-type {\n",
       "        vertical-align: middle;\n",
       "    }\n",
       "\n",
       "    .dataframe tbody tr th {\n",
       "        vertical-align: top;\n",
       "    }\n",
       "\n",
       "    .dataframe thead th {\n",
       "        text-align: right;\n",
       "    }\n",
       "</style>\n",
       "<table border=\"1\" class=\"dataframe\">\n",
       "  <thead>\n",
       "    <tr style=\"text-align: right;\">\n",
       "      <th></th>\n",
       "      <th>salary</th>\n",
       "      <th>sales</th>\n",
       "      <th>roe</th>\n",
       "      <th>industry</th>\n",
       "    </tr>\n",
       "  </thead>\n",
       "  <tbody>\n",
       "    <tr>\n",
       "      <th>0</th>\n",
       "      <td>1095.0</td>\n",
       "      <td>27595.000000</td>\n",
       "      <td>14.100000</td>\n",
       "      <td>1</td>\n",
       "    </tr>\n",
       "    <tr>\n",
       "      <th>3</th>\n",
       "      <td>578.0</td>\n",
       "      <td>16246.000000</td>\n",
       "      <td>5.900000</td>\n",
       "      <td>1</td>\n",
       "    </tr>\n",
       "    <tr>\n",
       "      <th>6</th>\n",
       "      <td>1078.0</td>\n",
       "      <td>2266.699951</td>\n",
       "      <td>16.400000</td>\n",
       "      <td>2</td>\n",
       "    </tr>\n",
       "    <tr>\n",
       "      <th>7</th>\n",
       "      <td>1094.0</td>\n",
       "      <td>2966.800049</td>\n",
       "      <td>16.299999</td>\n",
       "      <td>2</td>\n",
       "    </tr>\n",
       "    <tr>\n",
       "      <th>8</th>\n",
       "      <td>1237.0</td>\n",
       "      <td>4570.200195</td>\n",
       "      <td>10.500000</td>\n",
       "      <td>2</td>\n",
       "    </tr>\n",
       "  </tbody>\n",
       "</table>\n",
       "</div>"
      ],
      "text/plain": [
       "   salary         sales        roe  industry\n",
       "0  1095.0  27595.000000  14.100000         1\n",
       "3   578.0  16246.000000   5.900000         1\n",
       "6  1078.0   2266.699951  16.400000         2\n",
       "7  1094.0   2966.800049  16.299999         2\n",
       "8  1237.0   4570.200195  10.500000         2"
      ]
     },
     "execution_count": 52,
     "metadata": {},
     "output_type": "execute_result"
    }
   ],
   "source": [
    "# 결측 행을 제거\n",
    "data[['salary', 'sales', 'roe', 'industry']].dropna()"
   ]
  },
  {
   "cell_type": "code",
   "execution_count": 53,
   "id": "8c6bb149",
   "metadata": {},
   "outputs": [
    {
     "data": {
      "text/html": [
       "<div>\n",
       "<style scoped>\n",
       "    .dataframe tbody tr th:only-of-type {\n",
       "        vertical-align: middle;\n",
       "    }\n",
       "\n",
       "    .dataframe tbody tr th {\n",
       "        vertical-align: top;\n",
       "    }\n",
       "\n",
       "    .dataframe thead th {\n",
       "        text-align: right;\n",
       "    }\n",
       "</style>\n",
       "<table border=\"1\" class=\"dataframe\">\n",
       "  <thead>\n",
       "    <tr style=\"text-align: right;\">\n",
       "      <th></th>\n",
       "      <th>industry</th>\n",
       "    </tr>\n",
       "  </thead>\n",
       "  <tbody>\n",
       "    <tr>\n",
       "      <th>0</th>\n",
       "      <td>1</td>\n",
       "    </tr>\n",
       "    <tr>\n",
       "      <th>1</th>\n",
       "      <td>1</td>\n",
       "    </tr>\n",
       "    <tr>\n",
       "      <th>2</th>\n",
       "      <td>1</td>\n",
       "    </tr>\n",
       "    <tr>\n",
       "      <th>3</th>\n",
       "      <td>1</td>\n",
       "    </tr>\n",
       "    <tr>\n",
       "      <th>4</th>\n",
       "      <td>1</td>\n",
       "    </tr>\n",
       "    <tr>\n",
       "      <th>5</th>\n",
       "      <td>2</td>\n",
       "    </tr>\n",
       "    <tr>\n",
       "      <th>6</th>\n",
       "      <td>2</td>\n",
       "    </tr>\n",
       "    <tr>\n",
       "      <th>7</th>\n",
       "      <td>2</td>\n",
       "    </tr>\n",
       "    <tr>\n",
       "      <th>8</th>\n",
       "      <td>2</td>\n",
       "    </tr>\n",
       "    <tr>\n",
       "      <th>9</th>\n",
       "      <td>2</td>\n",
       "    </tr>\n",
       "  </tbody>\n",
       "</table>\n",
       "</div>"
      ],
      "text/plain": [
       "   industry\n",
       "0         1\n",
       "1         1\n",
       "2         1\n",
       "3         1\n",
       "4         1\n",
       "5         2\n",
       "6         2\n",
       "7         2\n",
       "8         2\n",
       "9         2"
      ]
     },
     "execution_count": 53,
     "metadata": {},
     "output_type": "execute_result"
    }
   ],
   "source": [
    "# 결측 열을 제거\n",
    "data[['salary', 'sales', 'roe', 'industry']].dropna(axis=1)"
   ]
  },
  {
   "cell_type": "markdown",
   "id": "aa4da930",
   "metadata": {},
   "source": [
    "---"
   ]
  },
  {
   "cell_type": "markdown",
   "id": "723c8c14",
   "metadata": {},
   "source": [
    "## 결측값 대체\n",
    "- 결측치가 많이 존재할 경우 이를 다 지워버리면 곤란함\n",
    "- 결측치를 적절한 값으로 대체하는 방법이 존재\n",
    "- `df.fillna()` 명령으로 결측치를 채워줄 수 있음\n",
    "- 일반적으로 `특정값 대체`, `변수별 평균 대체`, `다른 변수값 대체`, `그룹 평균값 대체` 방식을 이용함"
   ]
  },
  {
   "cell_type": "code",
   "execution_count": 54,
   "id": "b9de0b34",
   "metadata": {},
   "outputs": [
    {
     "data": {
      "text/html": [
       "<div>\n",
       "<style scoped>\n",
       "    .dataframe tbody tr th:only-of-type {\n",
       "        vertical-align: middle;\n",
       "    }\n",
       "\n",
       "    .dataframe tbody tr th {\n",
       "        vertical-align: top;\n",
       "    }\n",
       "\n",
       "    .dataframe thead th {\n",
       "        text-align: right;\n",
       "    }\n",
       "</style>\n",
       "<table border=\"1\" class=\"dataframe\">\n",
       "  <thead>\n",
       "    <tr style=\"text-align: right;\">\n",
       "      <th></th>\n",
       "      <th>salary</th>\n",
       "      <th>sales</th>\n",
       "      <th>roe</th>\n",
       "      <th>industry</th>\n",
       "    </tr>\n",
       "  </thead>\n",
       "  <tbody>\n",
       "    <tr>\n",
       "      <th>0</th>\n",
       "      <td>1095.0</td>\n",
       "      <td>27595.000000</td>\n",
       "      <td>14.100000</td>\n",
       "      <td>1</td>\n",
       "    </tr>\n",
       "    <tr>\n",
       "      <th>1</th>\n",
       "      <td>NaN</td>\n",
       "      <td>9958.000000</td>\n",
       "      <td>10.900000</td>\n",
       "      <td>1</td>\n",
       "    </tr>\n",
       "    <tr>\n",
       "      <th>2</th>\n",
       "      <td>NaN</td>\n",
       "      <td>6125.899902</td>\n",
       "      <td>23.500000</td>\n",
       "      <td>1</td>\n",
       "    </tr>\n",
       "    <tr>\n",
       "      <th>3</th>\n",
       "      <td>578.0</td>\n",
       "      <td>16246.000000</td>\n",
       "      <td>5.900000</td>\n",
       "      <td>1</td>\n",
       "    </tr>\n",
       "    <tr>\n",
       "      <th>4</th>\n",
       "      <td>1368.0</td>\n",
       "      <td>NaN</td>\n",
       "      <td>13.800000</td>\n",
       "      <td>1</td>\n",
       "    </tr>\n",
       "    <tr>\n",
       "      <th>5</th>\n",
       "      <td>1145.0</td>\n",
       "      <td>NaN</td>\n",
       "      <td>20.000000</td>\n",
       "      <td>2</td>\n",
       "    </tr>\n",
       "    <tr>\n",
       "      <th>6</th>\n",
       "      <td>1078.0</td>\n",
       "      <td>2266.699951</td>\n",
       "      <td>16.400000</td>\n",
       "      <td>2</td>\n",
       "    </tr>\n",
       "    <tr>\n",
       "      <th>7</th>\n",
       "      <td>1094.0</td>\n",
       "      <td>2966.800049</td>\n",
       "      <td>16.299999</td>\n",
       "      <td>2</td>\n",
       "    </tr>\n",
       "    <tr>\n",
       "      <th>8</th>\n",
       "      <td>1237.0</td>\n",
       "      <td>4570.200195</td>\n",
       "      <td>10.500000</td>\n",
       "      <td>2</td>\n",
       "    </tr>\n",
       "    <tr>\n",
       "      <th>9</th>\n",
       "      <td>833.0</td>\n",
       "      <td>2830.000000</td>\n",
       "      <td>NaN</td>\n",
       "      <td>2</td>\n",
       "    </tr>\n",
       "  </tbody>\n",
       "</table>\n",
       "</div>"
      ],
      "text/plain": [
       "   salary         sales        roe  industry\n",
       "0  1095.0  27595.000000  14.100000         1\n",
       "1     NaN   9958.000000  10.900000         1\n",
       "2     NaN   6125.899902  23.500000         1\n",
       "3   578.0  16246.000000   5.900000         1\n",
       "4  1368.0           NaN  13.800000         1\n",
       "5  1145.0           NaN  20.000000         2\n",
       "6  1078.0   2266.699951  16.400000         2\n",
       "7  1094.0   2966.800049  16.299999         2\n",
       "8  1237.0   4570.200195  10.500000         2\n",
       "9   833.0   2830.000000        NaN         2"
      ]
     },
     "execution_count": 54,
     "metadata": {},
     "output_type": "execute_result"
    }
   ],
   "source": [
    "import pandas as pd\n",
    "data = pd.read_csv('data/Ex_Missing.csv')\n",
    "data"
   ]
  },
  {
   "cell_type": "markdown",
   "id": "8ba627b9",
   "metadata": {},
   "source": [
    "### 특정값 대체"
   ]
  },
  {
   "cell_type": "code",
   "execution_count": 55,
   "id": "b0e49e96",
   "metadata": {},
   "outputs": [
    {
     "data": {
      "text/html": [
       "<div>\n",
       "<style scoped>\n",
       "    .dataframe tbody tr th:only-of-type {\n",
       "        vertical-align: middle;\n",
       "    }\n",
       "\n",
       "    .dataframe tbody tr th {\n",
       "        vertical-align: top;\n",
       "    }\n",
       "\n",
       "    .dataframe thead th {\n",
       "        text-align: right;\n",
       "    }\n",
       "</style>\n",
       "<table border=\"1\" class=\"dataframe\">\n",
       "  <thead>\n",
       "    <tr style=\"text-align: right;\">\n",
       "      <th></th>\n",
       "      <th>salary</th>\n",
       "      <th>sales</th>\n",
       "      <th>roe</th>\n",
       "      <th>industry</th>\n",
       "    </tr>\n",
       "  </thead>\n",
       "  <tbody>\n",
       "    <tr>\n",
       "      <th>0</th>\n",
       "      <td>1095.0</td>\n",
       "      <td>27595.000000</td>\n",
       "      <td>14.100000</td>\n",
       "      <td>1</td>\n",
       "    </tr>\n",
       "    <tr>\n",
       "      <th>1</th>\n",
       "      <td>0.0</td>\n",
       "      <td>9958.000000</td>\n",
       "      <td>10.900000</td>\n",
       "      <td>1</td>\n",
       "    </tr>\n",
       "    <tr>\n",
       "      <th>2</th>\n",
       "      <td>0.0</td>\n",
       "      <td>6125.899902</td>\n",
       "      <td>23.500000</td>\n",
       "      <td>1</td>\n",
       "    </tr>\n",
       "    <tr>\n",
       "      <th>3</th>\n",
       "      <td>578.0</td>\n",
       "      <td>16246.000000</td>\n",
       "      <td>5.900000</td>\n",
       "      <td>1</td>\n",
       "    </tr>\n",
       "    <tr>\n",
       "      <th>4</th>\n",
       "      <td>1368.0</td>\n",
       "      <td>0.000000</td>\n",
       "      <td>13.800000</td>\n",
       "      <td>1</td>\n",
       "    </tr>\n",
       "    <tr>\n",
       "      <th>5</th>\n",
       "      <td>1145.0</td>\n",
       "      <td>0.000000</td>\n",
       "      <td>20.000000</td>\n",
       "      <td>2</td>\n",
       "    </tr>\n",
       "    <tr>\n",
       "      <th>6</th>\n",
       "      <td>1078.0</td>\n",
       "      <td>2266.699951</td>\n",
       "      <td>16.400000</td>\n",
       "      <td>2</td>\n",
       "    </tr>\n",
       "    <tr>\n",
       "      <th>7</th>\n",
       "      <td>1094.0</td>\n",
       "      <td>2966.800049</td>\n",
       "      <td>16.299999</td>\n",
       "      <td>2</td>\n",
       "    </tr>\n",
       "    <tr>\n",
       "      <th>8</th>\n",
       "      <td>1237.0</td>\n",
       "      <td>4570.200195</td>\n",
       "      <td>10.500000</td>\n",
       "      <td>2</td>\n",
       "    </tr>\n",
       "    <tr>\n",
       "      <th>9</th>\n",
       "      <td>833.0</td>\n",
       "      <td>2830.000000</td>\n",
       "      <td>0.000000</td>\n",
       "      <td>2</td>\n",
       "    </tr>\n",
       "  </tbody>\n",
       "</table>\n",
       "</div>"
      ],
      "text/plain": [
       "   salary         sales        roe  industry\n",
       "0  1095.0  27595.000000  14.100000         1\n",
       "1     0.0   9958.000000  10.900000         1\n",
       "2     0.0   6125.899902  23.500000         1\n",
       "3   578.0  16246.000000   5.900000         1\n",
       "4  1368.0      0.000000  13.800000         1\n",
       "5  1145.0      0.000000  20.000000         2\n",
       "6  1078.0   2266.699951  16.400000         2\n",
       "7  1094.0   2966.800049  16.299999         2\n",
       "8  1237.0   4570.200195  10.500000         2\n",
       "9   833.0   2830.000000   0.000000         2"
      ]
     },
     "execution_count": 55,
     "metadata": {},
     "output_type": "execute_result"
    }
   ],
   "source": [
    "# 결측치를 0으로 대체\n",
    "data_0 = data.fillna(0)\n",
    "data_0"
   ]
  },
  {
   "cell_type": "code",
   "execution_count": 56,
   "id": "573b43d3",
   "metadata": {},
   "outputs": [
    {
     "data": {
      "text/html": [
       "<div>\n",
       "<style scoped>\n",
       "    .dataframe tbody tr th:only-of-type {\n",
       "        vertical-align: middle;\n",
       "    }\n",
       "\n",
       "    .dataframe tbody tr th {\n",
       "        vertical-align: top;\n",
       "    }\n",
       "\n",
       "    .dataframe thead th {\n",
       "        text-align: right;\n",
       "    }\n",
       "</style>\n",
       "<table border=\"1\" class=\"dataframe\">\n",
       "  <thead>\n",
       "    <tr style=\"text-align: right;\">\n",
       "      <th></th>\n",
       "      <th>salary</th>\n",
       "      <th>sales</th>\n",
       "      <th>roe</th>\n",
       "      <th>industry</th>\n",
       "    </tr>\n",
       "  </thead>\n",
       "  <tbody>\n",
       "    <tr>\n",
       "      <th>0</th>\n",
       "      <td>1095.0</td>\n",
       "      <td>27595.0</td>\n",
       "      <td>14.1</td>\n",
       "      <td>1</td>\n",
       "    </tr>\n",
       "    <tr>\n",
       "      <th>1</th>\n",
       "      <td>missing</td>\n",
       "      <td>9958.0</td>\n",
       "      <td>10.9</td>\n",
       "      <td>1</td>\n",
       "    </tr>\n",
       "    <tr>\n",
       "      <th>2</th>\n",
       "      <td>missing</td>\n",
       "      <td>6125.899902</td>\n",
       "      <td>23.5</td>\n",
       "      <td>1</td>\n",
       "    </tr>\n",
       "    <tr>\n",
       "      <th>3</th>\n",
       "      <td>578.0</td>\n",
       "      <td>16246.0</td>\n",
       "      <td>5.9</td>\n",
       "      <td>1</td>\n",
       "    </tr>\n",
       "    <tr>\n",
       "      <th>4</th>\n",
       "      <td>1368.0</td>\n",
       "      <td>missing</td>\n",
       "      <td>13.8</td>\n",
       "      <td>1</td>\n",
       "    </tr>\n",
       "    <tr>\n",
       "      <th>5</th>\n",
       "      <td>1145.0</td>\n",
       "      <td>missing</td>\n",
       "      <td>20.0</td>\n",
       "      <td>2</td>\n",
       "    </tr>\n",
       "    <tr>\n",
       "      <th>6</th>\n",
       "      <td>1078.0</td>\n",
       "      <td>2266.699951</td>\n",
       "      <td>16.4</td>\n",
       "      <td>2</td>\n",
       "    </tr>\n",
       "    <tr>\n",
       "      <th>7</th>\n",
       "      <td>1094.0</td>\n",
       "      <td>2966.800049</td>\n",
       "      <td>16.299999</td>\n",
       "      <td>2</td>\n",
       "    </tr>\n",
       "    <tr>\n",
       "      <th>8</th>\n",
       "      <td>1237.0</td>\n",
       "      <td>4570.200195</td>\n",
       "      <td>10.5</td>\n",
       "      <td>2</td>\n",
       "    </tr>\n",
       "    <tr>\n",
       "      <th>9</th>\n",
       "      <td>833.0</td>\n",
       "      <td>2830.0</td>\n",
       "      <td>missing</td>\n",
       "      <td>2</td>\n",
       "    </tr>\n",
       "  </tbody>\n",
       "</table>\n",
       "</div>"
      ],
      "text/plain": [
       "    salary        sales        roe  industry\n",
       "0   1095.0      27595.0       14.1         1\n",
       "1  missing       9958.0       10.9         1\n",
       "2  missing  6125.899902       23.5         1\n",
       "3    578.0      16246.0        5.9         1\n",
       "4   1368.0      missing       13.8         1\n",
       "5   1145.0      missing       20.0         2\n",
       "6   1078.0  2266.699951       16.4         2\n",
       "7   1094.0  2966.800049  16.299999         2\n",
       "8   1237.0  4570.200195       10.5         2\n",
       "9    833.0       2830.0    missing         2"
      ]
     },
     "execution_count": 56,
     "metadata": {},
     "output_type": "execute_result"
    }
   ],
   "source": [
    "# 결측치를 missing이라는 문자열로 대체\n",
    "data_missing = data.fillna('missing')\n",
    "data_missing"
   ]
  },
  {
   "cell_type": "code",
   "execution_count": 57,
   "id": "668394ea",
   "metadata": {},
   "outputs": [
    {
     "data": {
      "text/html": [
       "<div>\n",
       "<style scoped>\n",
       "    .dataframe tbody tr th:only-of-type {\n",
       "        vertical-align: middle;\n",
       "    }\n",
       "\n",
       "    .dataframe tbody tr th {\n",
       "        vertical-align: top;\n",
       "    }\n",
       "\n",
       "    .dataframe thead th {\n",
       "        text-align: right;\n",
       "    }\n",
       "</style>\n",
       "<table border=\"1\" class=\"dataframe\">\n",
       "  <thead>\n",
       "    <tr style=\"text-align: right;\">\n",
       "      <th></th>\n",
       "      <th>salary</th>\n",
       "      <th>sales</th>\n",
       "      <th>roe</th>\n",
       "      <th>industry</th>\n",
       "    </tr>\n",
       "  </thead>\n",
       "  <tbody>\n",
       "    <tr>\n",
       "      <th>0</th>\n",
       "      <td>1095.0</td>\n",
       "      <td>27595.000000</td>\n",
       "      <td>14.100000</td>\n",
       "      <td>1</td>\n",
       "    </tr>\n",
       "    <tr>\n",
       "      <th>1</th>\n",
       "      <td>1095.0</td>\n",
       "      <td>9958.000000</td>\n",
       "      <td>10.900000</td>\n",
       "      <td>1</td>\n",
       "    </tr>\n",
       "    <tr>\n",
       "      <th>2</th>\n",
       "      <td>1095.0</td>\n",
       "      <td>6125.899902</td>\n",
       "      <td>23.500000</td>\n",
       "      <td>1</td>\n",
       "    </tr>\n",
       "    <tr>\n",
       "      <th>3</th>\n",
       "      <td>578.0</td>\n",
       "      <td>16246.000000</td>\n",
       "      <td>5.900000</td>\n",
       "      <td>1</td>\n",
       "    </tr>\n",
       "    <tr>\n",
       "      <th>4</th>\n",
       "      <td>1368.0</td>\n",
       "      <td>16246.000000</td>\n",
       "      <td>13.800000</td>\n",
       "      <td>1</td>\n",
       "    </tr>\n",
       "    <tr>\n",
       "      <th>5</th>\n",
       "      <td>1145.0</td>\n",
       "      <td>16246.000000</td>\n",
       "      <td>20.000000</td>\n",
       "      <td>2</td>\n",
       "    </tr>\n",
       "    <tr>\n",
       "      <th>6</th>\n",
       "      <td>1078.0</td>\n",
       "      <td>2266.699951</td>\n",
       "      <td>16.400000</td>\n",
       "      <td>2</td>\n",
       "    </tr>\n",
       "    <tr>\n",
       "      <th>7</th>\n",
       "      <td>1094.0</td>\n",
       "      <td>2966.800049</td>\n",
       "      <td>16.299999</td>\n",
       "      <td>2</td>\n",
       "    </tr>\n",
       "    <tr>\n",
       "      <th>8</th>\n",
       "      <td>1237.0</td>\n",
       "      <td>4570.200195</td>\n",
       "      <td>10.500000</td>\n",
       "      <td>2</td>\n",
       "    </tr>\n",
       "    <tr>\n",
       "      <th>9</th>\n",
       "      <td>833.0</td>\n",
       "      <td>2830.000000</td>\n",
       "      <td>10.500000</td>\n",
       "      <td>2</td>\n",
       "    </tr>\n",
       "  </tbody>\n",
       "</table>\n",
       "</div>"
      ],
      "text/plain": [
       "   salary         sales        roe  industry\n",
       "0  1095.0  27595.000000  14.100000         1\n",
       "1  1095.0   9958.000000  10.900000         1\n",
       "2  1095.0   6125.899902  23.500000         1\n",
       "3   578.0  16246.000000   5.900000         1\n",
       "4  1368.0  16246.000000  13.800000         1\n",
       "5  1145.0  16246.000000  20.000000         2\n",
       "6  1078.0   2266.699951  16.400000         2\n",
       "7  1094.0   2966.800049  16.299999         2\n",
       "8  1237.0   4570.200195  10.500000         2\n",
       "9   833.0   2830.000000  10.500000         2"
      ]
     },
     "execution_count": 57,
     "metadata": {},
     "output_type": "execute_result"
    }
   ],
   "source": [
    "# 결측치를 해당 변수의 앞부분 값으로 대체\n",
    "data_ffill = data.fillna(method='ffill')\n",
    "data_ffill"
   ]
  },
  {
   "cell_type": "code",
   "execution_count": 58,
   "id": "24fc1d54",
   "metadata": {},
   "outputs": [
    {
     "data": {
      "text/html": [
       "<div>\n",
       "<style scoped>\n",
       "    .dataframe tbody tr th:only-of-type {\n",
       "        vertical-align: middle;\n",
       "    }\n",
       "\n",
       "    .dataframe tbody tr th {\n",
       "        vertical-align: top;\n",
       "    }\n",
       "\n",
       "    .dataframe thead th {\n",
       "        text-align: right;\n",
       "    }\n",
       "</style>\n",
       "<table border=\"1\" class=\"dataframe\">\n",
       "  <thead>\n",
       "    <tr style=\"text-align: right;\">\n",
       "      <th></th>\n",
       "      <th>salary</th>\n",
       "      <th>sales</th>\n",
       "      <th>roe</th>\n",
       "      <th>industry</th>\n",
       "    </tr>\n",
       "  </thead>\n",
       "  <tbody>\n",
       "    <tr>\n",
       "      <th>0</th>\n",
       "      <td>1095.0</td>\n",
       "      <td>27595.000000</td>\n",
       "      <td>14.100000</td>\n",
       "      <td>1</td>\n",
       "    </tr>\n",
       "    <tr>\n",
       "      <th>1</th>\n",
       "      <td>578.0</td>\n",
       "      <td>9958.000000</td>\n",
       "      <td>10.900000</td>\n",
       "      <td>1</td>\n",
       "    </tr>\n",
       "    <tr>\n",
       "      <th>2</th>\n",
       "      <td>578.0</td>\n",
       "      <td>6125.899902</td>\n",
       "      <td>23.500000</td>\n",
       "      <td>1</td>\n",
       "    </tr>\n",
       "    <tr>\n",
       "      <th>3</th>\n",
       "      <td>578.0</td>\n",
       "      <td>16246.000000</td>\n",
       "      <td>5.900000</td>\n",
       "      <td>1</td>\n",
       "    </tr>\n",
       "    <tr>\n",
       "      <th>4</th>\n",
       "      <td>1368.0</td>\n",
       "      <td>2266.699951</td>\n",
       "      <td>13.800000</td>\n",
       "      <td>1</td>\n",
       "    </tr>\n",
       "    <tr>\n",
       "      <th>5</th>\n",
       "      <td>1145.0</td>\n",
       "      <td>2266.699951</td>\n",
       "      <td>20.000000</td>\n",
       "      <td>2</td>\n",
       "    </tr>\n",
       "    <tr>\n",
       "      <th>6</th>\n",
       "      <td>1078.0</td>\n",
       "      <td>2266.699951</td>\n",
       "      <td>16.400000</td>\n",
       "      <td>2</td>\n",
       "    </tr>\n",
       "    <tr>\n",
       "      <th>7</th>\n",
       "      <td>1094.0</td>\n",
       "      <td>2966.800049</td>\n",
       "      <td>16.299999</td>\n",
       "      <td>2</td>\n",
       "    </tr>\n",
       "    <tr>\n",
       "      <th>8</th>\n",
       "      <td>1237.0</td>\n",
       "      <td>4570.200195</td>\n",
       "      <td>10.500000</td>\n",
       "      <td>2</td>\n",
       "    </tr>\n",
       "    <tr>\n",
       "      <th>9</th>\n",
       "      <td>833.0</td>\n",
       "      <td>2830.000000</td>\n",
       "      <td>NaN</td>\n",
       "      <td>2</td>\n",
       "    </tr>\n",
       "  </tbody>\n",
       "</table>\n",
       "</div>"
      ],
      "text/plain": [
       "   salary         sales        roe  industry\n",
       "0  1095.0  27595.000000  14.100000         1\n",
       "1   578.0   9958.000000  10.900000         1\n",
       "2   578.0   6125.899902  23.500000         1\n",
       "3   578.0  16246.000000   5.900000         1\n",
       "4  1368.0   2266.699951  13.800000         1\n",
       "5  1145.0   2266.699951  20.000000         2\n",
       "6  1078.0   2266.699951  16.400000         2\n",
       "7  1094.0   2966.800049  16.299999         2\n",
       "8  1237.0   4570.200195  10.500000         2\n",
       "9   833.0   2830.000000        NaN         2"
      ]
     },
     "execution_count": 58,
     "metadata": {},
     "output_type": "execute_result"
    }
   ],
   "source": [
    "# 결측치를 해당 변수의 뒷부분 값으로 대체\n",
    "data_bfill = data.fillna(method='bfill')\n",
    "data_bfill"
   ]
  },
  {
   "cell_type": "markdown",
   "id": "16d81003",
   "metadata": {},
   "source": [
    "---"
   ]
  },
  {
   "cell_type": "markdown",
   "id": "dd2731a1",
   "metadata": {},
   "source": [
    "### 평균 대체"
   ]
  },
  {
   "cell_type": "code",
   "execution_count": 59,
   "id": "67b446f0",
   "metadata": {},
   "outputs": [
    {
     "data": {
      "text/html": [
       "<div>\n",
       "<style scoped>\n",
       "    .dataframe tbody tr th:only-of-type {\n",
       "        vertical-align: middle;\n",
       "    }\n",
       "\n",
       "    .dataframe tbody tr th {\n",
       "        vertical-align: top;\n",
       "    }\n",
       "\n",
       "    .dataframe thead th {\n",
       "        text-align: right;\n",
       "    }\n",
       "</style>\n",
       "<table border=\"1\" class=\"dataframe\">\n",
       "  <thead>\n",
       "    <tr style=\"text-align: right;\">\n",
       "      <th></th>\n",
       "      <th>salary</th>\n",
       "      <th>sales</th>\n",
       "      <th>roe</th>\n",
       "      <th>industry</th>\n",
       "    </tr>\n",
       "  </thead>\n",
       "  <tbody>\n",
       "    <tr>\n",
       "      <th>0</th>\n",
       "      <td>1095.0</td>\n",
       "      <td>27595.000000</td>\n",
       "      <td>14.100000</td>\n",
       "      <td>1</td>\n",
       "    </tr>\n",
       "    <tr>\n",
       "      <th>1</th>\n",
       "      <td>1053.5</td>\n",
       "      <td>9958.000000</td>\n",
       "      <td>10.900000</td>\n",
       "      <td>1</td>\n",
       "    </tr>\n",
       "    <tr>\n",
       "      <th>2</th>\n",
       "      <td>1053.5</td>\n",
       "      <td>6125.899902</td>\n",
       "      <td>23.500000</td>\n",
       "      <td>1</td>\n",
       "    </tr>\n",
       "    <tr>\n",
       "      <th>3</th>\n",
       "      <td>578.0</td>\n",
       "      <td>16246.000000</td>\n",
       "      <td>5.900000</td>\n",
       "      <td>1</td>\n",
       "    </tr>\n",
       "    <tr>\n",
       "      <th>4</th>\n",
       "      <td>1368.0</td>\n",
       "      <td>9069.825012</td>\n",
       "      <td>13.800000</td>\n",
       "      <td>1</td>\n",
       "    </tr>\n",
       "    <tr>\n",
       "      <th>5</th>\n",
       "      <td>1145.0</td>\n",
       "      <td>9069.825012</td>\n",
       "      <td>20.000000</td>\n",
       "      <td>2</td>\n",
       "    </tr>\n",
       "    <tr>\n",
       "      <th>6</th>\n",
       "      <td>1078.0</td>\n",
       "      <td>2266.699951</td>\n",
       "      <td>16.400000</td>\n",
       "      <td>2</td>\n",
       "    </tr>\n",
       "    <tr>\n",
       "      <th>7</th>\n",
       "      <td>1094.0</td>\n",
       "      <td>2966.800049</td>\n",
       "      <td>16.299999</td>\n",
       "      <td>2</td>\n",
       "    </tr>\n",
       "    <tr>\n",
       "      <th>8</th>\n",
       "      <td>1237.0</td>\n",
       "      <td>4570.200195</td>\n",
       "      <td>10.500000</td>\n",
       "      <td>2</td>\n",
       "    </tr>\n",
       "    <tr>\n",
       "      <th>9</th>\n",
       "      <td>833.0</td>\n",
       "      <td>2830.000000</td>\n",
       "      <td>14.600000</td>\n",
       "      <td>2</td>\n",
       "    </tr>\n",
       "  </tbody>\n",
       "</table>\n",
       "</div>"
      ],
      "text/plain": [
       "   salary         sales        roe  industry\n",
       "0  1095.0  27595.000000  14.100000         1\n",
       "1  1053.5   9958.000000  10.900000         1\n",
       "2  1053.5   6125.899902  23.500000         1\n",
       "3   578.0  16246.000000   5.900000         1\n",
       "4  1368.0   9069.825012  13.800000         1\n",
       "5  1145.0   9069.825012  20.000000         2\n",
       "6  1078.0   2266.699951  16.400000         2\n",
       "7  1094.0   2966.800049  16.299999         2\n",
       "8  1237.0   4570.200195  10.500000         2\n",
       "9   833.0   2830.000000  14.600000         2"
      ]
     },
     "execution_count": 59,
     "metadata": {},
     "output_type": "execute_result"
    }
   ],
   "source": [
    "# 결측치를 각 변수의 평균 값으로 대체\n",
    "data_mean = data.fillna(data.mean())\n",
    "data_mean"
   ]
  },
  {
   "cell_type": "code",
   "execution_count": 60,
   "id": "668b71cc",
   "metadata": {},
   "outputs": [
    {
     "data": {
      "text/html": [
       "<div>\n",
       "<style scoped>\n",
       "    .dataframe tbody tr th:only-of-type {\n",
       "        vertical-align: middle;\n",
       "    }\n",
       "\n",
       "    .dataframe tbody tr th {\n",
       "        vertical-align: top;\n",
       "    }\n",
       "\n",
       "    .dataframe thead th {\n",
       "        text-align: right;\n",
       "    }\n",
       "</style>\n",
       "<table border=\"1\" class=\"dataframe\">\n",
       "  <thead>\n",
       "    <tr style=\"text-align: right;\">\n",
       "      <th></th>\n",
       "      <th>salary</th>\n",
       "      <th>sales</th>\n",
       "      <th>roe</th>\n",
       "      <th>industry</th>\n",
       "    </tr>\n",
       "  </thead>\n",
       "  <tbody>\n",
       "    <tr>\n",
       "      <th>0</th>\n",
       "      <td>1095.0</td>\n",
       "      <td>27595.000000</td>\n",
       "      <td>14.100000</td>\n",
       "      <td>1</td>\n",
       "    </tr>\n",
       "    <tr>\n",
       "      <th>1</th>\n",
       "      <td>1094.5</td>\n",
       "      <td>9958.000000</td>\n",
       "      <td>10.900000</td>\n",
       "      <td>1</td>\n",
       "    </tr>\n",
       "    <tr>\n",
       "      <th>2</th>\n",
       "      <td>1094.5</td>\n",
       "      <td>6125.899902</td>\n",
       "      <td>23.500000</td>\n",
       "      <td>1</td>\n",
       "    </tr>\n",
       "    <tr>\n",
       "      <th>3</th>\n",
       "      <td>578.0</td>\n",
       "      <td>16246.000000</td>\n",
       "      <td>5.900000</td>\n",
       "      <td>1</td>\n",
       "    </tr>\n",
       "    <tr>\n",
       "      <th>4</th>\n",
       "      <td>1368.0</td>\n",
       "      <td>5348.050049</td>\n",
       "      <td>13.800000</td>\n",
       "      <td>1</td>\n",
       "    </tr>\n",
       "    <tr>\n",
       "      <th>5</th>\n",
       "      <td>1145.0</td>\n",
       "      <td>5348.050049</td>\n",
       "      <td>20.000000</td>\n",
       "      <td>2</td>\n",
       "    </tr>\n",
       "    <tr>\n",
       "      <th>6</th>\n",
       "      <td>1078.0</td>\n",
       "      <td>2266.699951</td>\n",
       "      <td>16.400000</td>\n",
       "      <td>2</td>\n",
       "    </tr>\n",
       "    <tr>\n",
       "      <th>7</th>\n",
       "      <td>1094.0</td>\n",
       "      <td>2966.800049</td>\n",
       "      <td>16.299999</td>\n",
       "      <td>2</td>\n",
       "    </tr>\n",
       "    <tr>\n",
       "      <th>8</th>\n",
       "      <td>1237.0</td>\n",
       "      <td>4570.200195</td>\n",
       "      <td>10.500000</td>\n",
       "      <td>2</td>\n",
       "    </tr>\n",
       "    <tr>\n",
       "      <th>9</th>\n",
       "      <td>833.0</td>\n",
       "      <td>2830.000000</td>\n",
       "      <td>14.100000</td>\n",
       "      <td>2</td>\n",
       "    </tr>\n",
       "  </tbody>\n",
       "</table>\n",
       "</div>"
      ],
      "text/plain": [
       "   salary         sales        roe  industry\n",
       "0  1095.0  27595.000000  14.100000         1\n",
       "1  1094.5   9958.000000  10.900000         1\n",
       "2  1094.5   6125.899902  23.500000         1\n",
       "3   578.0  16246.000000   5.900000         1\n",
       "4  1368.0   5348.050049  13.800000         1\n",
       "5  1145.0   5348.050049  20.000000         2\n",
       "6  1078.0   2266.699951  16.400000         2\n",
       "7  1094.0   2966.800049  16.299999         2\n",
       "8  1237.0   4570.200195  10.500000         2\n",
       "9   833.0   2830.000000  14.100000         2"
      ]
     },
     "execution_count": 60,
     "metadata": {},
     "output_type": "execute_result"
    }
   ],
   "source": [
    "# 결측치를 각 변수의 중위값으로 대체\n",
    "data_median = data.fillna(data.median())\n",
    "data_median"
   ]
  },
  {
   "cell_type": "code",
   "execution_count": 61,
   "id": "18f331f5",
   "metadata": {},
   "outputs": [
    {
     "data": {
      "text/html": [
       "<div>\n",
       "<style scoped>\n",
       "    .dataframe tbody tr th:only-of-type {\n",
       "        vertical-align: middle;\n",
       "    }\n",
       "\n",
       "    .dataframe tbody tr th {\n",
       "        vertical-align: top;\n",
       "    }\n",
       "\n",
       "    .dataframe thead th {\n",
       "        text-align: right;\n",
       "    }\n",
       "</style>\n",
       "<table border=\"1\" class=\"dataframe\">\n",
       "  <thead>\n",
       "    <tr style=\"text-align: right;\">\n",
       "      <th></th>\n",
       "      <th>salary</th>\n",
       "      <th>sales</th>\n",
       "      <th>roe</th>\n",
       "      <th>industry</th>\n",
       "    </tr>\n",
       "  </thead>\n",
       "  <tbody>\n",
       "    <tr>\n",
       "      <th>0</th>\n",
       "      <td>1095.0</td>\n",
       "      <td>27595.000000</td>\n",
       "      <td>14.100000</td>\n",
       "      <td>1</td>\n",
       "    </tr>\n",
       "    <tr>\n",
       "      <th>1</th>\n",
       "      <td>1368.0</td>\n",
       "      <td>9958.000000</td>\n",
       "      <td>10.900000</td>\n",
       "      <td>1</td>\n",
       "    </tr>\n",
       "    <tr>\n",
       "      <th>2</th>\n",
       "      <td>1368.0</td>\n",
       "      <td>6125.899902</td>\n",
       "      <td>23.500000</td>\n",
       "      <td>1</td>\n",
       "    </tr>\n",
       "    <tr>\n",
       "      <th>3</th>\n",
       "      <td>578.0</td>\n",
       "      <td>16246.000000</td>\n",
       "      <td>5.900000</td>\n",
       "      <td>1</td>\n",
       "    </tr>\n",
       "    <tr>\n",
       "      <th>4</th>\n",
       "      <td>1368.0</td>\n",
       "      <td>27595.000000</td>\n",
       "      <td>13.800000</td>\n",
       "      <td>1</td>\n",
       "    </tr>\n",
       "    <tr>\n",
       "      <th>5</th>\n",
       "      <td>1145.0</td>\n",
       "      <td>27595.000000</td>\n",
       "      <td>20.000000</td>\n",
       "      <td>2</td>\n",
       "    </tr>\n",
       "    <tr>\n",
       "      <th>6</th>\n",
       "      <td>1078.0</td>\n",
       "      <td>2266.699951</td>\n",
       "      <td>16.400000</td>\n",
       "      <td>2</td>\n",
       "    </tr>\n",
       "    <tr>\n",
       "      <th>7</th>\n",
       "      <td>1094.0</td>\n",
       "      <td>2966.800049</td>\n",
       "      <td>16.299999</td>\n",
       "      <td>2</td>\n",
       "    </tr>\n",
       "    <tr>\n",
       "      <th>8</th>\n",
       "      <td>1237.0</td>\n",
       "      <td>4570.200195</td>\n",
       "      <td>10.500000</td>\n",
       "      <td>2</td>\n",
       "    </tr>\n",
       "    <tr>\n",
       "      <th>9</th>\n",
       "      <td>833.0</td>\n",
       "      <td>2830.000000</td>\n",
       "      <td>23.500000</td>\n",
       "      <td>2</td>\n",
       "    </tr>\n",
       "  </tbody>\n",
       "</table>\n",
       "</div>"
      ],
      "text/plain": [
       "   salary         sales        roe  industry\n",
       "0  1095.0  27595.000000  14.100000         1\n",
       "1  1368.0   9958.000000  10.900000         1\n",
       "2  1368.0   6125.899902  23.500000         1\n",
       "3   578.0  16246.000000   5.900000         1\n",
       "4  1368.0  27595.000000  13.800000         1\n",
       "5  1145.0  27595.000000  20.000000         2\n",
       "6  1078.0   2266.699951  16.400000         2\n",
       "7  1094.0   2966.800049  16.299999         2\n",
       "8  1237.0   4570.200195  10.500000         2\n",
       "9   833.0   2830.000000  23.500000         2"
      ]
     },
     "execution_count": 61,
     "metadata": {},
     "output_type": "execute_result"
    }
   ],
   "source": [
    "# 결측치를 각 변수의 최대/최소값으로 대체\n",
    "data_max = data.fillna(data.max())\n",
    "data_max"
   ]
  },
  {
   "cell_type": "code",
   "execution_count": 62,
   "id": "3e0cef1a",
   "metadata": {},
   "outputs": [
    {
     "data": {
      "text/html": [
       "<div>\n",
       "<style scoped>\n",
       "    .dataframe tbody tr th:only-of-type {\n",
       "        vertical-align: middle;\n",
       "    }\n",
       "\n",
       "    .dataframe tbody tr th {\n",
       "        vertical-align: top;\n",
       "    }\n",
       "\n",
       "    .dataframe thead th {\n",
       "        text-align: right;\n",
       "    }\n",
       "</style>\n",
       "<table border=\"1\" class=\"dataframe\">\n",
       "  <thead>\n",
       "    <tr style=\"text-align: right;\">\n",
       "      <th></th>\n",
       "      <th>salary</th>\n",
       "      <th>sales</th>\n",
       "      <th>roe</th>\n",
       "      <th>industry</th>\n",
       "    </tr>\n",
       "  </thead>\n",
       "  <tbody>\n",
       "    <tr>\n",
       "      <th>0</th>\n",
       "      <td>1095.0</td>\n",
       "      <td>27595.000000</td>\n",
       "      <td>14.100000</td>\n",
       "      <td>1</td>\n",
       "    </tr>\n",
       "    <tr>\n",
       "      <th>1</th>\n",
       "      <td>1053.5</td>\n",
       "      <td>9958.000000</td>\n",
       "      <td>10.900000</td>\n",
       "      <td>1</td>\n",
       "    </tr>\n",
       "    <tr>\n",
       "      <th>2</th>\n",
       "      <td>1053.5</td>\n",
       "      <td>6125.899902</td>\n",
       "      <td>23.500000</td>\n",
       "      <td>1</td>\n",
       "    </tr>\n",
       "    <tr>\n",
       "      <th>3</th>\n",
       "      <td>578.0</td>\n",
       "      <td>16246.000000</td>\n",
       "      <td>5.900000</td>\n",
       "      <td>1</td>\n",
       "    </tr>\n",
       "    <tr>\n",
       "      <th>4</th>\n",
       "      <td>1368.0</td>\n",
       "      <td>1053.500000</td>\n",
       "      <td>13.800000</td>\n",
       "      <td>1</td>\n",
       "    </tr>\n",
       "    <tr>\n",
       "      <th>5</th>\n",
       "      <td>1145.0</td>\n",
       "      <td>1053.500000</td>\n",
       "      <td>20.000000</td>\n",
       "      <td>2</td>\n",
       "    </tr>\n",
       "    <tr>\n",
       "      <th>6</th>\n",
       "      <td>1078.0</td>\n",
       "      <td>2266.699951</td>\n",
       "      <td>16.400000</td>\n",
       "      <td>2</td>\n",
       "    </tr>\n",
       "    <tr>\n",
       "      <th>7</th>\n",
       "      <td>1094.0</td>\n",
       "      <td>2966.800049</td>\n",
       "      <td>16.299999</td>\n",
       "      <td>2</td>\n",
       "    </tr>\n",
       "    <tr>\n",
       "      <th>8</th>\n",
       "      <td>1237.0</td>\n",
       "      <td>4570.200195</td>\n",
       "      <td>10.500000</td>\n",
       "      <td>2</td>\n",
       "    </tr>\n",
       "    <tr>\n",
       "      <th>9</th>\n",
       "      <td>833.0</td>\n",
       "      <td>2830.000000</td>\n",
       "      <td>1053.500000</td>\n",
       "      <td>2</td>\n",
       "    </tr>\n",
       "  </tbody>\n",
       "</table>\n",
       "</div>"
      ],
      "text/plain": [
       "   salary         sales          roe  industry\n",
       "0  1095.0  27595.000000    14.100000         1\n",
       "1  1053.5   9958.000000    10.900000         1\n",
       "2  1053.5   6125.899902    23.500000         1\n",
       "3   578.0  16246.000000     5.900000         1\n",
       "4  1368.0   1053.500000    13.800000         1\n",
       "5  1145.0   1053.500000    20.000000         2\n",
       "6  1078.0   2266.699951    16.400000         2\n",
       "7  1094.0   2966.800049    16.299999         2\n",
       "8  1237.0   4570.200195    10.500000         2\n",
       "9   833.0   2830.000000  1053.500000         2"
      ]
     },
     "execution_count": 62,
     "metadata": {},
     "output_type": "execute_result"
    }
   ],
   "source": [
    "# 다른 변수의 값으로 대체하고 싶을 경우\n",
    "data_other_mean = data.fillna(data['salary'].mean())\n",
    "data_other_mean"
   ]
  },
  {
   "cell_type": "code",
   "execution_count": 63,
   "id": "3bb23c74",
   "metadata": {},
   "outputs": [
    {
     "data": {
      "text/plain": [
       "1053.5"
      ]
     },
     "execution_count": 63,
     "metadata": {},
     "output_type": "execute_result"
    }
   ],
   "source": [
    "data['salary'].mean()"
   ]
  },
  {
   "cell_type": "markdown",
   "id": "430930a0",
   "metadata": {},
   "source": [
    "### 다른 변수값으로 대체\n",
    "- `np.where(condition, T, F)` 명령을 통해 조건에 맞는 데이터를 T로, 맞지 않은 데이터를 F로 적용"
   ]
  },
  {
   "cell_type": "code",
   "execution_count": 64,
   "id": "3c4a55c3",
   "metadata": {},
   "outputs": [
    {
     "data": {
      "text/html": [
       "<div>\n",
       "<style scoped>\n",
       "    .dataframe tbody tr th:only-of-type {\n",
       "        vertical-align: middle;\n",
       "    }\n",
       "\n",
       "    .dataframe tbody tr th {\n",
       "        vertical-align: top;\n",
       "    }\n",
       "\n",
       "    .dataframe thead th {\n",
       "        text-align: right;\n",
       "    }\n",
       "</style>\n",
       "<table border=\"1\" class=\"dataframe\">\n",
       "  <thead>\n",
       "    <tr style=\"text-align: right;\">\n",
       "      <th></th>\n",
       "      <th>salary</th>\n",
       "      <th>sales</th>\n",
       "      <th>roe</th>\n",
       "      <th>industry</th>\n",
       "      <th>sales_new</th>\n",
       "    </tr>\n",
       "  </thead>\n",
       "  <tbody>\n",
       "    <tr>\n",
       "      <th>0</th>\n",
       "      <td>1095.0</td>\n",
       "      <td>27595.000000</td>\n",
       "      <td>14.100000</td>\n",
       "      <td>1</td>\n",
       "      <td>27595.000000</td>\n",
       "    </tr>\n",
       "    <tr>\n",
       "      <th>1</th>\n",
       "      <td>NaN</td>\n",
       "      <td>9958.000000</td>\n",
       "      <td>10.900000</td>\n",
       "      <td>1</td>\n",
       "      <td>9958.000000</td>\n",
       "    </tr>\n",
       "    <tr>\n",
       "      <th>2</th>\n",
       "      <td>NaN</td>\n",
       "      <td>6125.899902</td>\n",
       "      <td>23.500000</td>\n",
       "      <td>1</td>\n",
       "      <td>6125.899902</td>\n",
       "    </tr>\n",
       "    <tr>\n",
       "      <th>3</th>\n",
       "      <td>578.0</td>\n",
       "      <td>16246.000000</td>\n",
       "      <td>5.900000</td>\n",
       "      <td>1</td>\n",
       "      <td>16246.000000</td>\n",
       "    </tr>\n",
       "    <tr>\n",
       "      <th>4</th>\n",
       "      <td>1368.0</td>\n",
       "      <td>NaN</td>\n",
       "      <td>13.800000</td>\n",
       "      <td>1</td>\n",
       "      <td>1368.000000</td>\n",
       "    </tr>\n",
       "    <tr>\n",
       "      <th>5</th>\n",
       "      <td>1145.0</td>\n",
       "      <td>NaN</td>\n",
       "      <td>20.000000</td>\n",
       "      <td>2</td>\n",
       "      <td>1145.000000</td>\n",
       "    </tr>\n",
       "    <tr>\n",
       "      <th>6</th>\n",
       "      <td>1078.0</td>\n",
       "      <td>2266.699951</td>\n",
       "      <td>16.400000</td>\n",
       "      <td>2</td>\n",
       "      <td>2266.699951</td>\n",
       "    </tr>\n",
       "    <tr>\n",
       "      <th>7</th>\n",
       "      <td>1094.0</td>\n",
       "      <td>2966.800049</td>\n",
       "      <td>16.299999</td>\n",
       "      <td>2</td>\n",
       "      <td>2966.800049</td>\n",
       "    </tr>\n",
       "    <tr>\n",
       "      <th>8</th>\n",
       "      <td>1237.0</td>\n",
       "      <td>4570.200195</td>\n",
       "      <td>10.500000</td>\n",
       "      <td>2</td>\n",
       "      <td>4570.200195</td>\n",
       "    </tr>\n",
       "    <tr>\n",
       "      <th>9</th>\n",
       "      <td>833.0</td>\n",
       "      <td>2830.000000</td>\n",
       "      <td>NaN</td>\n",
       "      <td>2</td>\n",
       "      <td>2830.000000</td>\n",
       "    </tr>\n",
       "  </tbody>\n",
       "</table>\n",
       "</div>"
      ],
      "text/plain": [
       "   salary         sales        roe  industry     sales_new\n",
       "0  1095.0  27595.000000  14.100000         1  27595.000000\n",
       "1     NaN   9958.000000  10.900000         1   9958.000000\n",
       "2     NaN   6125.899902  23.500000         1   6125.899902\n",
       "3   578.0  16246.000000   5.900000         1  16246.000000\n",
       "4  1368.0           NaN  13.800000         1   1368.000000\n",
       "5  1145.0           NaN  20.000000         2   1145.000000\n",
       "6  1078.0   2266.699951  16.400000         2   2266.699951\n",
       "7  1094.0   2966.800049  16.299999         2   2966.800049\n",
       "8  1237.0   4570.200195  10.500000         2   4570.200195\n",
       "9   833.0   2830.000000        NaN         2   2830.000000"
      ]
     },
     "execution_count": 64,
     "metadata": {},
     "output_type": "execute_result"
    }
   ],
   "source": [
    "# data2['sales']가 결측치가 아니면 data2['sales'] 값을, 결측치면 data2['salary'] 값으로 대체\n",
    "import numpy as np\n",
    "data2 = data.copy()\n",
    "data2['sales_new'] = np.where(pd.notnull(data2['sales']) == True, data2['sales'], data2['salary'])\n",
    "data2"
   ]
  },
  {
   "cell_type": "markdown",
   "id": "feefa06b",
   "metadata": {},
   "source": [
    "### 집단 평균값으로 대체"
   ]
  },
  {
   "cell_type": "code",
   "execution_count": 65,
   "id": "a3f6d2cd",
   "metadata": {},
   "outputs": [
    {
     "data": {
      "text/html": [
       "<div>\n",
       "<style scoped>\n",
       "    .dataframe tbody tr th:only-of-type {\n",
       "        vertical-align: middle;\n",
       "    }\n",
       "\n",
       "    .dataframe tbody tr th {\n",
       "        vertical-align: top;\n",
       "    }\n",
       "\n",
       "    .dataframe thead th {\n",
       "        text-align: right;\n",
       "    }\n",
       "</style>\n",
       "<table border=\"1\" class=\"dataframe\">\n",
       "  <thead>\n",
       "    <tr style=\"text-align: right;\">\n",
       "      <th></th>\n",
       "      <th>salary</th>\n",
       "      <th>sales</th>\n",
       "      <th>roe</th>\n",
       "    </tr>\n",
       "    <tr>\n",
       "      <th>industry</th>\n",
       "      <th></th>\n",
       "      <th></th>\n",
       "      <th></th>\n",
       "    </tr>\n",
       "  </thead>\n",
       "  <tbody>\n",
       "    <tr>\n",
       "      <th>1</th>\n",
       "      <td>1013.666667</td>\n",
       "      <td>14981.224976</td>\n",
       "      <td>13.64</td>\n",
       "    </tr>\n",
       "    <tr>\n",
       "      <th>2</th>\n",
       "      <td>1077.400000</td>\n",
       "      <td>3158.425049</td>\n",
       "      <td>15.80</td>\n",
       "    </tr>\n",
       "  </tbody>\n",
       "</table>\n",
       "</div>"
      ],
      "text/plain": [
       "               salary         sales    roe\n",
       "industry                                  \n",
       "1         1013.666667  14981.224976  13.64\n",
       "2         1077.400000   3158.425049  15.80"
      ]
     },
     "execution_count": 65,
     "metadata": {},
     "output_type": "execute_result"
    }
   ],
   "source": [
    "data.groupby('industry').mean()"
   ]
  },
  {
   "cell_type": "code",
   "execution_count": 66,
   "id": "beb7b994",
   "metadata": {},
   "outputs": [],
   "source": [
    "# 평균을 적용하는 람다함수\n",
    "fill_mean_func = lambda g: g.fillna(g.mean())"
   ]
  },
  {
   "cell_type": "code",
   "execution_count": 67,
   "id": "53dd2b00",
   "metadata": {},
   "outputs": [
    {
     "data": {
      "text/html": [
       "<div>\n",
       "<style scoped>\n",
       "    .dataframe tbody tr th:only-of-type {\n",
       "        vertical-align: middle;\n",
       "    }\n",
       "\n",
       "    .dataframe tbody tr th {\n",
       "        vertical-align: top;\n",
       "    }\n",
       "\n",
       "    .dataframe thead th {\n",
       "        text-align: right;\n",
       "    }\n",
       "</style>\n",
       "<table border=\"1\" class=\"dataframe\">\n",
       "  <thead>\n",
       "    <tr style=\"text-align: right;\">\n",
       "      <th></th>\n",
       "      <th></th>\n",
       "      <th>salary</th>\n",
       "      <th>sales</th>\n",
       "      <th>roe</th>\n",
       "      <th>industry</th>\n",
       "    </tr>\n",
       "    <tr>\n",
       "      <th>industry</th>\n",
       "      <th></th>\n",
       "      <th></th>\n",
       "      <th></th>\n",
       "      <th></th>\n",
       "      <th></th>\n",
       "    </tr>\n",
       "  </thead>\n",
       "  <tbody>\n",
       "    <tr>\n",
       "      <th rowspan=\"5\" valign=\"top\">1</th>\n",
       "      <th>0</th>\n",
       "      <td>1095.000000</td>\n",
       "      <td>27595.000000</td>\n",
       "      <td>14.100000</td>\n",
       "      <td>1</td>\n",
       "    </tr>\n",
       "    <tr>\n",
       "      <th>1</th>\n",
       "      <td>1013.666667</td>\n",
       "      <td>9958.000000</td>\n",
       "      <td>10.900000</td>\n",
       "      <td>1</td>\n",
       "    </tr>\n",
       "    <tr>\n",
       "      <th>2</th>\n",
       "      <td>1013.666667</td>\n",
       "      <td>6125.899902</td>\n",
       "      <td>23.500000</td>\n",
       "      <td>1</td>\n",
       "    </tr>\n",
       "    <tr>\n",
       "      <th>3</th>\n",
       "      <td>578.000000</td>\n",
       "      <td>16246.000000</td>\n",
       "      <td>5.900000</td>\n",
       "      <td>1</td>\n",
       "    </tr>\n",
       "    <tr>\n",
       "      <th>4</th>\n",
       "      <td>1368.000000</td>\n",
       "      <td>14981.224975</td>\n",
       "      <td>13.800000</td>\n",
       "      <td>1</td>\n",
       "    </tr>\n",
       "    <tr>\n",
       "      <th rowspan=\"5\" valign=\"top\">2</th>\n",
       "      <th>5</th>\n",
       "      <td>1145.000000</td>\n",
       "      <td>3158.425049</td>\n",
       "      <td>20.000000</td>\n",
       "      <td>2</td>\n",
       "    </tr>\n",
       "    <tr>\n",
       "      <th>6</th>\n",
       "      <td>1078.000000</td>\n",
       "      <td>2266.699951</td>\n",
       "      <td>16.400000</td>\n",
       "      <td>2</td>\n",
       "    </tr>\n",
       "    <tr>\n",
       "      <th>7</th>\n",
       "      <td>1094.000000</td>\n",
       "      <td>2966.800049</td>\n",
       "      <td>16.299999</td>\n",
       "      <td>2</td>\n",
       "    </tr>\n",
       "    <tr>\n",
       "      <th>8</th>\n",
       "      <td>1237.000000</td>\n",
       "      <td>4570.200195</td>\n",
       "      <td>10.500000</td>\n",
       "      <td>2</td>\n",
       "    </tr>\n",
       "    <tr>\n",
       "      <th>9</th>\n",
       "      <td>833.000000</td>\n",
       "      <td>2830.000000</td>\n",
       "      <td>15.800000</td>\n",
       "      <td>2</td>\n",
       "    </tr>\n",
       "  </tbody>\n",
       "</table>\n",
       "</div>"
      ],
      "text/plain": [
       "                 salary         sales        roe  industry\n",
       "industry                                                  \n",
       "1        0  1095.000000  27595.000000  14.100000         1\n",
       "         1  1013.666667   9958.000000  10.900000         1\n",
       "         2  1013.666667   6125.899902  23.500000         1\n",
       "         3   578.000000  16246.000000   5.900000         1\n",
       "         4  1368.000000  14981.224975  13.800000         1\n",
       "2        5  1145.000000   3158.425049  20.000000         2\n",
       "         6  1078.000000   2266.699951  16.400000         2\n",
       "         7  1094.000000   2966.800049  16.299999         2\n",
       "         8  1237.000000   4570.200195  10.500000         2\n",
       "         9   833.000000   2830.000000  15.800000         2"
      ]
     },
     "execution_count": 67,
     "metadata": {},
     "output_type": "execute_result"
    }
   ],
   "source": [
    "# 그룹정렬한 데이터에 apply로 fill_mean_func를 적용시키도록 하여, 각 산업의 평균이 들어가게 됨\n",
    "data_group_mean = data.groupby('industry').apply(fill_mean_func)\n",
    "data_group_mean"
   ]
  },
  {
   "cell_type": "code",
   "execution_count": 68,
   "id": "cc55f78b",
   "metadata": {},
   "outputs": [
    {
     "data": {
      "text/html": [
       "<div>\n",
       "<style scoped>\n",
       "    .dataframe tbody tr th:only-of-type {\n",
       "        vertical-align: middle;\n",
       "    }\n",
       "\n",
       "    .dataframe tbody tr th {\n",
       "        vertical-align: top;\n",
       "    }\n",
       "\n",
       "    .dataframe thead th {\n",
       "        text-align: right;\n",
       "    }\n",
       "</style>\n",
       "<table border=\"1\" class=\"dataframe\">\n",
       "  <thead>\n",
       "    <tr style=\"text-align: right;\">\n",
       "      <th></th>\n",
       "      <th>salary</th>\n",
       "      <th>sales</th>\n",
       "      <th>roe</th>\n",
       "      <th>industry</th>\n",
       "    </tr>\n",
       "  </thead>\n",
       "  <tbody>\n",
       "    <tr>\n",
       "      <th>0</th>\n",
       "      <td>1095.0</td>\n",
       "      <td>27595.000000</td>\n",
       "      <td>14.100000</td>\n",
       "      <td>1</td>\n",
       "    </tr>\n",
       "    <tr>\n",
       "      <th>1</th>\n",
       "      <td>1000.0</td>\n",
       "      <td>9958.000000</td>\n",
       "      <td>10.900000</td>\n",
       "      <td>1</td>\n",
       "    </tr>\n",
       "    <tr>\n",
       "      <th>2</th>\n",
       "      <td>1000.0</td>\n",
       "      <td>6125.899902</td>\n",
       "      <td>23.500000</td>\n",
       "      <td>1</td>\n",
       "    </tr>\n",
       "    <tr>\n",
       "      <th>3</th>\n",
       "      <td>578.0</td>\n",
       "      <td>16246.000000</td>\n",
       "      <td>5.900000</td>\n",
       "      <td>1</td>\n",
       "    </tr>\n",
       "    <tr>\n",
       "      <th>4</th>\n",
       "      <td>1368.0</td>\n",
       "      <td>1000.000000</td>\n",
       "      <td>13.800000</td>\n",
       "      <td>1</td>\n",
       "    </tr>\n",
       "    <tr>\n",
       "      <th>5</th>\n",
       "      <td>1145.0</td>\n",
       "      <td>2000.000000</td>\n",
       "      <td>20.000000</td>\n",
       "      <td>2</td>\n",
       "    </tr>\n",
       "    <tr>\n",
       "      <th>6</th>\n",
       "      <td>1078.0</td>\n",
       "      <td>2266.699951</td>\n",
       "      <td>16.400000</td>\n",
       "      <td>2</td>\n",
       "    </tr>\n",
       "    <tr>\n",
       "      <th>7</th>\n",
       "      <td>1094.0</td>\n",
       "      <td>2966.800049</td>\n",
       "      <td>16.299999</td>\n",
       "      <td>2</td>\n",
       "    </tr>\n",
       "    <tr>\n",
       "      <th>8</th>\n",
       "      <td>1237.0</td>\n",
       "      <td>4570.200195</td>\n",
       "      <td>10.500000</td>\n",
       "      <td>2</td>\n",
       "    </tr>\n",
       "    <tr>\n",
       "      <th>9</th>\n",
       "      <td>833.0</td>\n",
       "      <td>2830.000000</td>\n",
       "      <td>2000.000000</td>\n",
       "      <td>2</td>\n",
       "    </tr>\n",
       "  </tbody>\n",
       "</table>\n",
       "</div>"
      ],
      "text/plain": [
       "   salary         sales          roe  industry\n",
       "0  1095.0  27595.000000    14.100000         1\n",
       "1  1000.0   9958.000000    10.900000         1\n",
       "2  1000.0   6125.899902    23.500000         1\n",
       "3   578.0  16246.000000     5.900000         1\n",
       "4  1368.0   1000.000000    13.800000         1\n",
       "5  1145.0   2000.000000    20.000000         2\n",
       "6  1078.0   2266.699951    16.400000         2\n",
       "7  1094.0   2966.800049    16.299999         2\n",
       "8  1237.0   4570.200195    10.500000         2\n",
       "9   833.0   2830.000000  2000.000000         2"
      ]
     },
     "execution_count": 68,
     "metadata": {},
     "output_type": "execute_result"
    }
   ],
   "source": [
    "# 산업별로 특정한 값을 지정할 수 있음\n",
    "\n",
    "fill_values = {1: 1000, 2: 2000}\n",
    "\n",
    "fill_func = lambda d: d.fillna(fill_values[d.name])\n",
    "\n",
    "data_group_value = data.groupby('industry').apply(fill_func)\n",
    "data_group_value"
   ]
  },
  {
   "cell_type": "code",
   "execution_count": 69,
   "id": "f5e36b85",
   "metadata": {},
   "outputs": [
    {
     "data": {
      "text/plain": [
       "{'salary': 0    1095.000000\n",
       " 1     922.666667\n",
       " 2     750.333333\n",
       " 3     578.000000\n",
       " 4    1368.000000\n",
       " 5    1145.000000\n",
       " 6    1078.000000\n",
       " 7    1094.000000\n",
       " 8    1237.000000\n",
       " 9     833.000000\n",
       " Name: salary, dtype: float64,\n",
       " 'sales': 9069.825012125,\n",
       " 'roe': 'missing'}"
      ]
     },
     "execution_count": 69,
     "metadata": {},
     "output_type": "execute_result"
    }
   ],
   "source": [
    "# salary는 보간법, sales는 평균, roe는 missing 문자열로 대체\n",
    "missing_fill_val = {\n",
    "    'salary': data.salary.interpolate(),\n",
    "    'sales': data.sales.mean(),\n",
    "    'roe': 'missing'\n",
    "}\n",
    "\n",
    "missing_fill_val"
   ]
  },
  {
   "cell_type": "code",
   "execution_count": 70,
   "id": "e65d70b4",
   "metadata": {},
   "outputs": [
    {
     "data": {
      "text/html": [
       "<div>\n",
       "<style scoped>\n",
       "    .dataframe tbody tr th:only-of-type {\n",
       "        vertical-align: middle;\n",
       "    }\n",
       "\n",
       "    .dataframe tbody tr th {\n",
       "        vertical-align: top;\n",
       "    }\n",
       "\n",
       "    .dataframe thead th {\n",
       "        text-align: right;\n",
       "    }\n",
       "</style>\n",
       "<table border=\"1\" class=\"dataframe\">\n",
       "  <thead>\n",
       "    <tr style=\"text-align: right;\">\n",
       "      <th></th>\n",
       "      <th>salary</th>\n",
       "      <th>sales</th>\n",
       "      <th>roe</th>\n",
       "      <th>industry</th>\n",
       "    </tr>\n",
       "  </thead>\n",
       "  <tbody>\n",
       "    <tr>\n",
       "      <th>0</th>\n",
       "      <td>1095.000000</td>\n",
       "      <td>27595.000000</td>\n",
       "      <td>14.1</td>\n",
       "      <td>1</td>\n",
       "    </tr>\n",
       "    <tr>\n",
       "      <th>1</th>\n",
       "      <td>922.666667</td>\n",
       "      <td>9958.000000</td>\n",
       "      <td>10.9</td>\n",
       "      <td>1</td>\n",
       "    </tr>\n",
       "    <tr>\n",
       "      <th>2</th>\n",
       "      <td>750.333333</td>\n",
       "      <td>6125.899902</td>\n",
       "      <td>23.5</td>\n",
       "      <td>1</td>\n",
       "    </tr>\n",
       "    <tr>\n",
       "      <th>3</th>\n",
       "      <td>578.000000</td>\n",
       "      <td>16246.000000</td>\n",
       "      <td>5.9</td>\n",
       "      <td>1</td>\n",
       "    </tr>\n",
       "    <tr>\n",
       "      <th>4</th>\n",
       "      <td>1368.000000</td>\n",
       "      <td>9069.825012</td>\n",
       "      <td>13.8</td>\n",
       "      <td>1</td>\n",
       "    </tr>\n",
       "    <tr>\n",
       "      <th>5</th>\n",
       "      <td>1145.000000</td>\n",
       "      <td>9069.825012</td>\n",
       "      <td>20.0</td>\n",
       "      <td>2</td>\n",
       "    </tr>\n",
       "    <tr>\n",
       "      <th>6</th>\n",
       "      <td>1078.000000</td>\n",
       "      <td>2266.699951</td>\n",
       "      <td>16.4</td>\n",
       "      <td>2</td>\n",
       "    </tr>\n",
       "    <tr>\n",
       "      <th>7</th>\n",
       "      <td>1094.000000</td>\n",
       "      <td>2966.800049</td>\n",
       "      <td>16.299999</td>\n",
       "      <td>2</td>\n",
       "    </tr>\n",
       "    <tr>\n",
       "      <th>8</th>\n",
       "      <td>1237.000000</td>\n",
       "      <td>4570.200195</td>\n",
       "      <td>10.5</td>\n",
       "      <td>2</td>\n",
       "    </tr>\n",
       "    <tr>\n",
       "      <th>9</th>\n",
       "      <td>833.000000</td>\n",
       "      <td>2830.000000</td>\n",
       "      <td>missing</td>\n",
       "      <td>2</td>\n",
       "    </tr>\n",
       "  </tbody>\n",
       "</table>\n",
       "</div>"
      ],
      "text/plain": [
       "        salary         sales        roe  industry\n",
       "0  1095.000000  27595.000000       14.1         1\n",
       "1   922.666667   9958.000000       10.9         1\n",
       "2   750.333333   6125.899902       23.5         1\n",
       "3   578.000000  16246.000000        5.9         1\n",
       "4  1368.000000   9069.825012       13.8         1\n",
       "5  1145.000000   9069.825012       20.0         2\n",
       "6  1078.000000   2266.699951       16.4         2\n",
       "7  1094.000000   2966.800049  16.299999         2\n",
       "8  1237.000000   4570.200195       10.5         2\n",
       "9   833.000000   2830.000000    missing         2"
      ]
     },
     "execution_count": 70,
     "metadata": {},
     "output_type": "execute_result"
    }
   ],
   "source": [
    "data_multi = data.fillna(missing_fill_val)\n",
    "data_multi"
   ]
  },
  {
   "cell_type": "markdown",
   "id": "d0d82d66",
   "metadata": {},
   "source": [
    "---"
   ]
  }
 ],
 "metadata": {
  "kernelspec": {
   "display_name": "Python 3 (ipykernel)",
   "language": "python",
   "name": "python3"
  },
  "language_info": {
   "codemirror_mode": {
    "name": "ipython",
    "version": 3
   },
   "file_extension": ".py",
   "mimetype": "text/x-python",
   "name": "python",
   "nbconvert_exporter": "python",
   "pygments_lexer": "ipython3",
   "version": "3.9.6"
  }
 },
 "nbformat": 4,
 "nbformat_minor": 5
}
