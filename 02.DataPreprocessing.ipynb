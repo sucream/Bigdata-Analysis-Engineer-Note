{
 "cells": [
  {
   "cell_type": "markdown",
   "id": "b17ba3a0",
   "metadata": {},
   "source": [
    "# 단변량 데이터 탐색\n",
    "- 각 데이터를 따로 탐색해 보자"
   ]
  },
  {
   "cell_type": "code",
   "execution_count": 1,
   "id": "7760f3c6",
   "metadata": {},
   "outputs": [
    {
     "name": "stdout",
     "output_type": "stream",
     "text": [
      "<class 'pandas.core.frame.DataFrame'>\n",
      "RangeIndex: 209 entries, 0 to 208\n",
      "Data columns (total 4 columns):\n",
      " #   Column    Non-Null Count  Dtype  \n",
      "---  ------    --------------  -----  \n",
      " 0   salary    209 non-null    int64  \n",
      " 1   sales     209 non-null    float64\n",
      " 2   roe       209 non-null    float64\n",
      " 3   industry  209 non-null    int64  \n",
      "dtypes: float64(2), int64(2)\n",
      "memory usage: 6.7 KB\n"
     ]
    }
   ],
   "source": [
    "import pandas as pd\n",
    "data = pd.read_csv('data/Ex_CEOSalary.csv')\n",
    "data.info()"
   ]
  },
  {
   "cell_type": "code",
   "execution_count": 2,
   "id": "e8b563ae",
   "metadata": {},
   "outputs": [
    {
     "data": {
      "text/html": [
       "<div>\n",
       "<style scoped>\n",
       "    .dataframe tbody tr th:only-of-type {\n",
       "        vertical-align: middle;\n",
       "    }\n",
       "\n",
       "    .dataframe tbody tr th {\n",
       "        vertical-align: top;\n",
       "    }\n",
       "\n",
       "    .dataframe thead th {\n",
       "        text-align: right;\n",
       "    }\n",
       "</style>\n",
       "<table border=\"1\" class=\"dataframe\">\n",
       "  <thead>\n",
       "    <tr style=\"text-align: right;\">\n",
       "      <th></th>\n",
       "      <th>salary</th>\n",
       "      <th>sales</th>\n",
       "      <th>roe</th>\n",
       "      <th>industry</th>\n",
       "    </tr>\n",
       "  </thead>\n",
       "  <tbody>\n",
       "    <tr>\n",
       "      <th>0</th>\n",
       "      <td>1095</td>\n",
       "      <td>27595.000000</td>\n",
       "      <td>14.1</td>\n",
       "      <td>1</td>\n",
       "    </tr>\n",
       "    <tr>\n",
       "      <th>1</th>\n",
       "      <td>1001</td>\n",
       "      <td>9958.000000</td>\n",
       "      <td>10.9</td>\n",
       "      <td>1</td>\n",
       "    </tr>\n",
       "    <tr>\n",
       "      <th>2</th>\n",
       "      <td>1122</td>\n",
       "      <td>6125.899902</td>\n",
       "      <td>23.5</td>\n",
       "      <td>1</td>\n",
       "    </tr>\n",
       "    <tr>\n",
       "      <th>3</th>\n",
       "      <td>578</td>\n",
       "      <td>16246.000000</td>\n",
       "      <td>5.9</td>\n",
       "      <td>1</td>\n",
       "    </tr>\n",
       "    <tr>\n",
       "      <th>4</th>\n",
       "      <td>1368</td>\n",
       "      <td>21783.199219</td>\n",
       "      <td>13.8</td>\n",
       "      <td>1</td>\n",
       "    </tr>\n",
       "  </tbody>\n",
       "</table>\n",
       "</div>"
      ],
      "text/plain": [
       "   salary         sales   roe  industry\n",
       "0    1095  27595.000000  14.1         1\n",
       "1    1001   9958.000000  10.9         1\n",
       "2    1122   6125.899902  23.5         1\n",
       "3     578  16246.000000   5.9         1\n",
       "4    1368  21783.199219  13.8         1"
      ]
     },
     "execution_count": 2,
     "metadata": {},
     "output_type": "execute_result"
    }
   ],
   "source": [
    "data.head()"
   ]
  },
  {
   "cell_type": "markdown",
   "id": "eb50b1fe",
   "metadata": {},
   "source": [
    "## 설명\n",
    "- 기업의 매출(sales)과 수익(roe)이 CEO의 연봉(salary)에 미치는 영향관계를 파악하려는 데이터\n",
    "- sales, roe는 독립변수, salary는 종속변수"
   ]
  },
  {
   "cell_type": "markdown",
   "id": "1c40671f",
   "metadata": {},
   "source": [
    "## 범주형 자료의 탐색\n",
    "- `industry`는 categorical variable이며 산업 유형을 나타냄"
   ]
  },
  {
   "cell_type": "code",
   "execution_count": 3,
   "id": "16ee56ce",
   "metadata": {},
   "outputs": [
    {
     "data": {
      "text/plain": [
       "1    72\n",
       "3    60\n",
       "2    46\n",
       "4    31\n",
       "Name: industry, dtype: int64"
      ]
     },
     "execution_count": 3,
     "metadata": {},
     "output_type": "execute_result"
    }
   ],
   "source": [
    "# value_counts()를 통해서 해당 컬럼의 범주별 빈도를 파악해 보자\n",
    "data['industry'].value_counts()"
   ]
  },
  {
   "cell_type": "code",
   "execution_count": 4,
   "id": "21764a47",
   "metadata": {},
   "outputs": [
    {
     "data": {
      "text/plain": [
       "Service    72\n",
       "Finance    60\n",
       "IT         46\n",
       "Others     31\n",
       "Name: industry, dtype: int64"
      ]
     },
     "execution_count": 4,
     "metadata": {},
     "output_type": "execute_result"
    }
   ],
   "source": [
    "# 산업의 의미를 파악하기 쉽게 replace를 이용하여 의미를 부여해 보자\n",
    "data['industry'] = data['industry'].replace([1,2,3,4], ['Service', 'IT', 'Finance', 'Others'])\n",
    "data['industry'].value_counts()"
   ]
  },
  {
   "cell_type": "markdown",
   "id": "6185b706",
   "metadata": {},
   "source": [
    "### 시각화 해보자\n",
    "- `matplotlib`을 이용하면 시각화가 가능함\n",
    "- jupyter에서 `%matplotlit inline` 명령을 입력하면 주피터에서 결과를 바로 확인할 수 있음"
   ]
  },
  {
   "cell_type": "code",
   "execution_count": 7,
   "id": "fcd626f4",
   "metadata": {},
   "outputs": [
    {
     "data": {
      "text/plain": [
       "<AxesSubplot:ylabel='industry'>"
      ]
     },
     "execution_count": 7,
     "metadata": {},
     "output_type": "execute_result"
    },
    {
     "data": {
      "image/png": "[encoded data removed]",
      "text/plain": [
       "<Figure size 432x288 with 1 Axes>"
      ]
     },
     "metadata": {},
     "output_type": "display_data"
    }
   ],
   "source": [
    "%matplotlib inline\n",
    "data['industry'].value_counts().plot(kind=\"pie\")  # kind를 bar, line 등으로 변경하면 표의 모양이 바뀜"
   ]
  },
  {
   "cell_type": "code",
   "execution_count": 8,
   "id": "f67970da",
   "metadata": {},
   "outputs": [
    {
     "data": {
      "text/plain": [
       "<AxesSubplot:>"
      ]
     },
     "execution_count": 8,
     "metadata": {},
     "output_type": "execute_result"
    },
    {
     "data": {
      "image/png": "[encoded data removed]",
      "text/plain": [
       "<Figure size 432x288 with 1 Axes>"
      ]
     },
     "metadata": {
      "needs_background": "light"
     },
     "output_type": "display_data"
    }
   ],
   "source": [
    "data['industry'].value_counts().plot(kind=\"bar\")"
   ]
  },
  {
   "cell_type": "markdown",
   "id": "8278cb39",
   "metadata": {},
   "source": [
    "## 연속형 자료의 탐색\n",
    "- numeric/continuos variable은 `describe()`함수를 사용해서 기술통계량(descriptive statistics)를 확인할 수 있음\n",
    "- 변수별 요약 통계량 확인이 가능하고 이를 통해 필요한 정보를 쉽게 얻을 수 있음\n",
    "\n",
    "## 주목할만한 항목\n",
    "\n",
    "### `mean(평균)`과 `50%,median(중위수)`의 차이\n",
    "- 평균과 중위수가 일치할 수록 이상치가 적은 데이터를 의미함, 차이가 크면 이상치가 있다는 뜻\n",
    "\n",
    "### `skewness(왜도)`[좌우대칭 확인용]\n",
    "- skewness의 값은 0일 경우 정규분포와 일치하여 좌우가 대칭된 형태임을 알려주는 지표임\n",
    "- skewness의 값이 양수일 경우 => 왼쪽에 자료가 더 많이 분포되어 있고, 오른쪽에 이상치들이 있다는 뜻\n",
    "- skewness의 값이 음수일 경우 => 오른쪽에 자료가 더 많이 분포되어 있고, 왼쪽에 이상치들이 있다는 뜻\n",
    "- skewness의 값이 2를 넘으면 한쪽으로 치우쳐져 있다는 의미로 해석 가능\n",
    "\n",
    "### `kurtosis(첨도)`[중심쏠림 확인용]\n",
    "- kurtosis의 값은 0일 경우 정규분포의 높이와 동일함\n",
    "- kurtosis의 값이 클수록 중심에 자료가 많이 몰료있다는 의미"
   ]
  },
  {
   "cell_type": "code",
   "execution_count": 9,
   "id": "beb07196",
   "metadata": {},
   "outputs": [
    {
     "data": {
      "text/html": [
       "<div>\n",
       "<style scoped>\n",
       "    .dataframe tbody tr th:only-of-type {\n",
       "        vertical-align: middle;\n",
       "    }\n",
       "\n",
       "    .dataframe tbody tr th {\n",
       "        vertical-align: top;\n",
       "    }\n",
       "\n",
       "    .dataframe thead th {\n",
       "        text-align: right;\n",
       "    }\n",
       "</style>\n",
       "<table border=\"1\" class=\"dataframe\">\n",
       "  <thead>\n",
       "    <tr style=\"text-align: right;\">\n",
       "      <th></th>\n",
       "      <th>salary</th>\n",
       "      <th>sales</th>\n",
       "      <th>roe</th>\n",
       "    </tr>\n",
       "  </thead>\n",
       "  <tbody>\n",
       "    <tr>\n",
       "      <th>count</th>\n",
       "      <td>209.000000</td>\n",
       "      <td>209.000000</td>\n",
       "      <td>209.000000</td>\n",
       "    </tr>\n",
       "    <tr>\n",
       "      <th>mean</th>\n",
       "      <td>1281.119617</td>\n",
       "      <td>6923.793282</td>\n",
       "      <td>17.184211</td>\n",
       "    </tr>\n",
       "    <tr>\n",
       "      <th>std</th>\n",
       "      <td>1372.345308</td>\n",
       "      <td>10633.271088</td>\n",
       "      <td>8.518509</td>\n",
       "    </tr>\n",
       "    <tr>\n",
       "      <th>min</th>\n",
       "      <td>223.000000</td>\n",
       "      <td>175.199997</td>\n",
       "      <td>0.500000</td>\n",
       "    </tr>\n",
       "    <tr>\n",
       "      <th>25%</th>\n",
       "      <td>736.000000</td>\n",
       "      <td>2210.300049</td>\n",
       "      <td>12.400000</td>\n",
       "    </tr>\n",
       "    <tr>\n",
       "      <th>50%</th>\n",
       "      <td>1039.000000</td>\n",
       "      <td>3705.199951</td>\n",
       "      <td>15.500000</td>\n",
       "    </tr>\n",
       "    <tr>\n",
       "      <th>75%</th>\n",
       "      <td>1407.000000</td>\n",
       "      <td>7177.000000</td>\n",
       "      <td>20.000000</td>\n",
       "    </tr>\n",
       "    <tr>\n",
       "      <th>max</th>\n",
       "      <td>14822.000000</td>\n",
       "      <td>97649.898438</td>\n",
       "      <td>56.299999</td>\n",
       "    </tr>\n",
       "  </tbody>\n",
       "</table>\n",
       "</div>"
      ],
      "text/plain": [
       "             salary         sales         roe\n",
       "count    209.000000    209.000000  209.000000\n",
       "mean    1281.119617   6923.793282   17.184211\n",
       "std     1372.345308  10633.271088    8.518509\n",
       "min      223.000000    175.199997    0.500000\n",
       "25%      736.000000   2210.300049   12.400000\n",
       "50%     1039.000000   3705.199951   15.500000\n",
       "75%     1407.000000   7177.000000   20.000000\n",
       "max    14822.000000  97649.898438   56.299999"
      ]
     },
     "execution_count": 9,
     "metadata": {},
     "output_type": "execute_result"
    }
   ],
   "source": [
    "# describe() 함수로 기술통계량을 확인 해보자\n",
    "data.describe()"
   ]
  },
  {
   "cell_type": "code",
   "execution_count": 13,
   "id": "21838426",
   "metadata": {
    "scrolled": true
   },
   "outputs": [
    {
     "name": "stderr",
     "output_type": "stream",
     "text": [
      "/var/folders/9q/gg420n2j1kscyj2snxyxwtyc0000gn/T/ipykernel_27452/3698401907.py:2: FutureWarning: Dropping of nuisance columns in DataFrame reductions (with 'numeric_only=None') is deprecated; in a future version this will raise TypeError.  Select only valid columns before calling the reduction.\n",
      "  data.mean() - data.median()\n",
      "/var/folders/9q/gg420n2j1kscyj2snxyxwtyc0000gn/T/ipykernel_27452/3698401907.py:2: FutureWarning: Dropping of nuisance columns in DataFrame reductions (with 'numeric_only=None') is deprecated; in a future version this will raise TypeError.  Select only valid columns before calling the reduction.\n",
      "  data.mean() - data.median()\n"
     ]
    },
    {
     "data": {
      "text/plain": [
       "salary     242.119617\n",
       "sales     3218.593331\n",
       "roe          1.684211\n",
       "dtype: float64"
      ]
     },
     "execution_count": 13,
     "metadata": {},
     "output_type": "execute_result"
    }
   ],
   "source": [
    "# 평균과 중위수의 차이를 확인해 보자\n",
    "data.mean() - data.median()"
   ]
  },
  {
   "cell_type": "markdown",
   "id": "ffdd2cd0",
   "metadata": {},
   "source": [
    "### 평균과 중위수 차이\n",
    "- roe(수익) 컬럼은 평균과 중위수가 별로 차이나지 않음 => 이상적\n",
    "- salary(연봉)과 sales(매출) 컬럼은 평균과 중위수의 차이가 많이 남 => 이상치가 있음을 예상할 수 있음, 고쳐야 함"
   ]
  },
  {
   "cell_type": "code",
   "execution_count": 14,
   "id": "1fe6dd6a",
   "metadata": {
    "scrolled": true
   },
   "outputs": [
    {
     "name": "stderr",
     "output_type": "stream",
     "text": [
      "/var/folders/9q/gg420n2j1kscyj2snxyxwtyc0000gn/T/ipykernel_27452/3294601463.py:2: FutureWarning: Dropping of nuisance columns in DataFrame reductions (with 'numeric_only=None') is deprecated; in a future version this will raise TypeError.  Select only valid columns before calling the reduction.\n",
      "  data.skew()\n"
     ]
    },
    {
     "data": {
      "text/plain": [
       "salary    6.904577\n",
       "sales     5.035336\n",
       "roe       1.572126\n",
       "dtype: float64"
      ]
     },
     "execution_count": 14,
     "metadata": {},
     "output_type": "execute_result"
    }
   ],
   "source": [
    "# skewness(왜도)를 확인해 보자\n",
    "data.skew()"
   ]
  },
  {
   "cell_type": "markdown",
   "id": "1f4f36f0",
   "metadata": {},
   "source": [
    "### skewness(왜도) 확인\n",
    "- roe(수익) 컬럼은 2를 넘지 않음 => 좌우가 어느정도 대칭임을 예상할 수 있음\n",
    "- salary(연봉)과 sales(매출) 컬럼은 2보다 큰 값을 가짐 => 대부분의 데이터는 왼쪽에 몰려있고 오른쪽에 이상치 데이터가 있을 것으로 예상됨"
   ]
  },
  {
   "cell_type": "code",
   "execution_count": 15,
   "id": "d7568209",
   "metadata": {},
   "outputs": [
    {
     "name": "stderr",
     "output_type": "stream",
     "text": [
      "/var/folders/9q/gg420n2j1kscyj2snxyxwtyc0000gn/T/ipykernel_27452/2361870383.py:1: FutureWarning: Dropping of nuisance columns in DataFrame reductions (with 'numeric_only=None') is deprecated; in a future version this will raise TypeError.  Select only valid columns before calling the reduction.\n",
      "  data.kurtosis()\n"
     ]
    },
    {
     "data": {
      "text/plain": [
       "salary    58.971229\n",
       "sales     33.115193\n",
       "roe        3.797366\n",
       "dtype: float64"
      ]
     },
     "execution_count": 15,
     "metadata": {},
     "output_type": "execute_result"
    }
   ],
   "source": [
    "data.kurtosis()"
   ]
  },
  {
   "cell_type": "markdown",
   "id": "db4b6297",
   "metadata": {},
   "source": [
    "### kurtosis(첨도) 확인\n",
    "- roe(수익) 컬럼은 비교적 낮은 값을 가지기 때문에 정규분포 높이와 유사함을 예상할 수 있음\n",
    "- salary(연봉)과 sales(매출) 컬럼은 큰 값을 가짐 => 대부분의 데이터가 중심에 몰려있음을 예상할 수 있음"
   ]
  },
  {
   "cell_type": "markdown",
   "id": "3985ab05",
   "metadata": {},
   "source": [
    "### 자주 사용하는 기술통계량 함수들\n",
    "\n",
    "| 함수  |  설명 |\n",
    "|---|---|\n",
    "|   |   |\n",
    "|   |   |\n",
    "|   |   |"
   ]
  },
  {
   "cell_type": "code",
   "execution_count": null,
   "id": "f8ce7cf8",
   "metadata": {},
   "outputs": [],
   "source": []
  },
  {
   "cell_type": "code",
   "execution_count": null,
   "id": "f783a362",
   "metadata": {},
   "outputs": [],
   "source": []
  }
 ],
 "metadata": {
  "kernelspec": {
   "display_name": "Python 3 (ipykernel)",
   "language": "python",
   "name": "python3"
  },
  "language_info": {
   "codemirror_mode": {
    "name": "ipython",
    "version": 3
   },
   "file_extension": ".py",
   "mimetype": "text/x-python",
   "name": "python",
   "nbconvert_exporter": "python",
   "pygments_lexer": "ipython3",
   "version": "3.9.7"
  }
 },
 "nbformat": 4,
 "nbformat_minor": 5
}
